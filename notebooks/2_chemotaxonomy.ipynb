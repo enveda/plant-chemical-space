{
 "cells": [
  {
   "cell_type": "markdown",
   "id": "f3aa2042",
   "metadata": {
    "pycharm": {
     "name": "#%% md\n"
    }
   },
   "source": [
    "# Chemotaxonomy\n",
    "\n",
    "Hiearchical clustering of plants based on their chemical composition\n",
    "\n",
    "### Import modules"
   ]
  },
  {
   "cell_type": "code",
   "execution_count": 1,
   "id": "1a7be98a",
   "metadata": {
    "pycharm": {
     "name": "#%%\n"
    }
   },
   "outputs": [],
   "source": [
    "from collections import defaultdict\n",
    "from ast import literal_eval\n",
    "import itertools as itt\n",
    "import math\n",
    "from typing import Dict, Set, Any\n",
    "import os\n",
    "import json\n",
    "\n",
    "import pandas as pd\n",
    "import numpy as np\n",
    "from tqdm import tqdm\n",
    "from tqdm.contrib.concurrent import process_map\n",
    "\n",
    "# Import taxonomy\n",
    "from utils import get_genus_and_family_info_for_plants\n",
    "\n",
    "import seaborn as sns\n",
    "import matplotlib.pyplot as plt\n",
    "import matplotlib as mpl\n",
    "\n",
    "import scipy\n",
    "from scipy.cluster.hierarchy import dendrogram, linkage\n",
    "\n",
    "from rdkit.DataStructs import TanimotoSimilarity\n",
    "from rdkit import Chem\n",
    "from rdkit.Chem import rdMolDescriptors\n",
    "from rdkit import RDLogger  "
   ]
  },
  {
   "cell_type": "code",
   "execution_count": 2,
   "id": "decb4395",
   "metadata": {
    "pycharm": {
     "name": "#%%\n"
    }
   },
   "outputs": [],
   "source": [
    "RDLogger.DisableLog('rdApp.*')"
   ]
  },
  {
   "cell_type": "code",
   "execution_count": 3,
   "id": "172c4f93",
   "metadata": {
    "pycharm": {
     "name": "#%%\n"
    }
   },
   "outputs": [],
   "source": [
    "sns.set_style(\"whitegrid\")\n",
    "mpl.rcParams['figure.dpi'] = 360\n",
    "%matplotlib inline"
   ]
  },
  {
   "cell_type": "code",
   "execution_count": 4,
   "id": "eabb60d4",
   "metadata": {
    "pycharm": {
     "name": "#%%\n"
    }
   },
   "outputs": [],
   "source": [
    "tqdm.pandas()\n",
    "pd.set_option('display.max_columns', None)"
   ]
  },
  {
   "cell_type": "markdown",
   "id": "17be8f11",
   "metadata": {
    "pycharm": {
     "name": "#%% md\n"
    }
   },
   "source": [
    "Load chemicals"
   ]
  },
  {
   "cell_type": "code",
   "execution_count": 5,
   "id": "94657329",
   "metadata": {
    "pycharm": {
     "name": "#%%\n"
    }
   },
   "outputs": [],
   "source": [
    "plant_chemical_df = pd.read_csv(\n",
    "    's3://enveda-datascience/daniel_domingo/plant_chemical_associations.tsv.gz',\n",
    "    compression='gzip',\n",
    "    sep='\\t',\n",
    "    usecols=[\n",
    "        'plant_curie',\n",
    "        'chemical_curie',\n",
    "    ]\n",
    ")"
   ]
  },
  {
   "cell_type": "code",
   "execution_count": 6,
   "id": "6ea774bb",
   "metadata": {
    "pycharm": {
     "name": "#%%\n"
    }
   },
   "outputs": [
    {
     "data": {
      "text/html": [
       "<div>\n",
       "<style scoped>\n",
       "    .dataframe tbody tr th:only-of-type {\n",
       "        vertical-align: middle;\n",
       "    }\n",
       "\n",
       "    .dataframe tbody tr th {\n",
       "        vertical-align: top;\n",
       "    }\n",
       "\n",
       "    .dataframe thead th {\n",
       "        text-align: right;\n",
       "    }\n",
       "</style>\n",
       "<table border=\"1\" class=\"dataframe\">\n",
       "  <thead>\n",
       "    <tr style=\"text-align: right;\">\n",
       "      <th></th>\n",
       "      <th>plant_curie</th>\n",
       "      <th>chemical_curie</th>\n",
       "    </tr>\n",
       "  </thead>\n",
       "  <tbody>\n",
       "    <tr>\n",
       "      <th>0</th>\n",
       "      <td>ncbitaxon:1000425</td>\n",
       "      <td>pubchem.compound:3527</td>\n",
       "    </tr>\n",
       "  </tbody>\n",
       "</table>\n",
       "</div>"
      ],
      "text/plain": [
       "         plant_curie         chemical_curie\n",
       "0  ncbitaxon:1000425  pubchem.compound:3527"
      ]
     },
     "execution_count": 6,
     "metadata": {},
     "output_type": "execute_result"
    }
   ],
   "source": [
    "plant_chemical_df.head(1)"
   ]
  },
  {
   "cell_type": "code",
   "execution_count": 7,
   "id": "82b2dd30",
   "metadata": {
    "pycharm": {
     "name": "#%%\n"
    }
   },
   "outputs": [
    {
     "data": {
      "text/plain": [
       "(87019, 19802)"
      ]
     },
     "execution_count": 7,
     "metadata": {},
     "output_type": "execute_result"
    }
   ],
   "source": [
    "len(plant_chemical_df.chemical_curie.unique()), len(plant_chemical_df.plant_curie.unique())"
   ]
  },
  {
   "cell_type": "markdown",
   "id": "8efd3e00",
   "metadata": {
    "pycharm": {
     "name": "#%% md\n"
    }
   },
   "source": [
    "Convert the SMILEs to PubChem ids"
   ]
  },
  {
   "cell_type": "code",
   "execution_count": 8,
   "id": "48c8d82e",
   "metadata": {
    "pycharm": {
     "name": "#%%\n"
    }
   },
   "outputs": [],
   "source": [
    "smiles_df = pd.read_csv(\n",
    "    's3://enveda-datascience/daniel_domingo/smiles.tsv.gz',\n",
    "    sep='\\t',\n",
    "    compression='gzip',\n",
    "    usecols=[\n",
    "        'pubchem_id',\n",
    "        'smiles',\n",
    "    ],\n",
    ")"
   ]
  },
  {
   "cell_type": "code",
   "execution_count": 9,
   "id": "130c6d98",
   "metadata": {},
   "outputs": [
    {
     "data": {
      "text/plain": [
       "(89271, 2)"
      ]
     },
     "execution_count": 9,
     "metadata": {},
     "output_type": "execute_result"
    }
   ],
   "source": [
    "smiles_df.shape"
   ]
  },
  {
   "cell_type": "code",
   "execution_count": 10,
   "id": "ae8dc630",
   "metadata": {
    "pycharm": {
     "name": "#%%\n"
    }
   },
   "outputs": [
    {
     "name": "stderr",
     "output_type": "stream",
     "text": [
      "100%|██████████| 89271/89271 [00:00<00:00, 299916.39it/s]\n"
     ]
    }
   ],
   "source": [
    "smiles_dict = {}\n",
    "for pubchem_id, smiles in tqdm(smiles_df.values):\n",
    "        \n",
    "    if pubchem_id.startswith('pubchem:'):\n",
    "        pubchem_id = pubchem_id.replace('pubchem:', 'pubchem.compound:')\n",
    "        \n",
    "    smiles_dict[pubchem_id] = smiles  "
   ]
  },
  {
   "cell_type": "code",
   "execution_count": 11,
   "id": "d6f817c1",
   "metadata": {
    "pycharm": {
     "name": "#%%\n"
    }
   },
   "outputs": [
    {
     "name": "stderr",
     "output_type": "stream",
     "text": [
      "100%|██████████| 89271/89271 [00:00<00:00, 258783.68it/s]\n"
     ]
    }
   ],
   "source": [
    "pubchem_to_smiles = {}\n",
    "all_smiles = set()\n",
    "\n",
    "chemicals_in_plants = set(plant_chemical_df.chemical_curie.unique())\n",
    "\n",
    "for pubchem_id, smiles in tqdm(smiles_df.values):\n",
    "        \n",
    "    if pubchem_id.startswith('pubchem:'):\n",
    "        pubchem_id = pubchem_id.replace('pubchem:', 'pubchem.compound:')\n",
    "        \n",
    "    if pubchem_id not in chemicals_in_plants:\n",
    "        continue\n",
    "    \n",
    "    all_smiles.add(smiles)\n",
    "    pubchem_to_smiles[pubchem_id] = smiles\n",
    "\n",
    "smiles_to_pubchem = {\n",
    "    smiles: pubchem\n",
    "    for pubchem, smiles in pubchem_to_smiles.items()\n",
    "}"
   ]
  },
  {
   "cell_type": "code",
   "execution_count": 12,
   "id": "56d60442",
   "metadata": {},
   "outputs": [
    {
     "data": {
      "text/plain": [
       "87019"
      ]
     },
     "execution_count": 12,
     "metadata": {},
     "output_type": "execute_result"
    }
   ],
   "source": [
    "len(smiles_to_pubchem)"
   ]
  },
  {
   "cell_type": "markdown",
   "id": "2ec3233f",
   "metadata": {
    "pycharm": {
     "name": "#%% md\n"
    }
   },
   "source": [
    "### Calculate chemical similarity across all pairs of chemicals"
   ]
  },
  {
   "cell_type": "code",
   "execution_count": 13,
   "id": "e0a0a546",
   "metadata": {
    "pycharm": {
     "name": "#%%\n"
    }
   },
   "outputs": [],
   "source": [
    "# make a list of mols\n",
    "pubchem_to_mol = {\n",
    "    pubchem: Chem.MolFromSmiles(smiles)\n",
    "    for pubchem, smiles in pubchem_to_smiles.items()\n",
    "}\n",
    "\n",
    "# pubchem morgan\n",
    "pubchem_to_morgan = {\n",
    "    int(pubchem.split(':')[1]): rdMolDescriptors.GetMorganFingerprint(mol, 2)\n",
    "    for pubchem, mol in pubchem_to_mol.items()\n",
    "}"
   ]
  },
  {
   "cell_type": "code",
   "execution_count": 14,
   "id": "31544f56",
   "metadata": {
    "pycharm": {
     "name": "#%%\n"
    }
   },
   "outputs": [
    {
     "data": {
      "text/plain": [
       "87019"
      ]
     },
     "execution_count": 14,
     "metadata": {},
     "output_type": "execute_result"
    }
   ],
   "source": [
    "len(pubchem_to_morgan)"
   ]
  },
  {
   "cell_type": "markdown",
   "id": "f794c33c",
   "metadata": {
    "pycharm": {
     "name": "#%% md\n"
    }
   },
   "source": [
    "Calculate similarities"
   ]
  },
  {
   "cell_type": "code",
   "execution_count": 15,
   "id": "25c77a4a",
   "metadata": {
    "pycharm": {
     "name": "#%%\n"
    }
   },
   "outputs": [],
   "source": [
    "if os.path.exists('../data/precalculated_similarities.json'):\n",
    "    precalculated_similarities = json.load(open('../data/precalculated_similarities.json'))\n",
    "else:\n",
    "    precalculated_similarities = {}"
   ]
  },
  {
   "cell_type": "code",
   "execution_count": 16,
   "id": "a2b5c8f5",
   "metadata": {
    "pycharm": {
     "name": "#%%\n"
    }
   },
   "outputs": [
    {
     "data": {
      "text/plain": [
       "3786109671.0"
      ]
     },
     "execution_count": 16,
     "metadata": {},
     "output_type": "execute_result"
    }
   ],
   "source": [
    "num_combinations = math.factorial(\n",
    "    len(pubchem_to_morgan)\n",
    ") / (math.factorial(2) * math.factorial(len(pubchem_to_morgan) - 2))\n",
    "\n",
    "num_combinations"
   ]
  },
  {
   "cell_type": "code",
   "execution_count": 17,
   "id": "43e6f1af",
   "metadata": {},
   "outputs": [
    {
     "data": {
      "text/plain": [
       "54149"
      ]
     },
     "execution_count": 17,
     "metadata": {},
     "output_type": "execute_result"
    }
   ],
   "source": [
    "len(precalculated_similarities)"
   ]
  },
  {
   "cell_type": "code",
   "execution_count": 18,
   "id": "31acc6a2",
   "metadata": {},
   "outputs": [
    {
     "name": "stderr",
     "output_type": "stream",
     "text": [
      "  0%|          | 141210/3786109671.0 [2:38:30<136351:31:01,  7.71it/s]"
     ]
    }
   ],
   "source": [
    "c = 0\n",
    "for chem_a, chem_b in tqdm(\n",
    "    itt.combinations_with_replacement(pubchem_to_morgan.keys(), r=2),\n",
    "    total=num_combinations,\n",
    "):\n",
    "    if str(chem_a) in precalculated_similarities and str(chem_b) in precalculated_similarities[str(chem_a)]:\n",
    "        continue\n",
    "        \n",
    "    if str(chem_b) in precalculated_similarities and str(chem_a) in precalculated_similarities[str(chem_b)]:\n",
    "        continue\n",
    "        \n",
    "    c += 1\n",
    "\n",
    "    if chem_a > chem_b:\n",
    "        if str(chem_a) not in precalculated_similarities:\n",
    "            precalculated_similarities[str(chem_a)] = {}\n",
    "            \n",
    "        precalculated_similarities[str(chem_a)][str(chem_b)] = TanimotoSimilarity(\n",
    "            pubchem_to_morgan[int(chem_a)],\n",
    "            pubchem_to_morgan[int(chem_b)],\n",
    "        )\n",
    "    else:\n",
    "        if str(chem_b) not in precalculated_similarities:\n",
    "            precalculated_similarities[str(chem_b)] = {}\n",
    "\n",
    "        precalculated_similarities[str(chem_b)][str(chem_a)] = TanimotoSimilarity(\n",
    "            pubchem_to_morgan[int(chem_b)],\n",
    "            pubchem_to_morgan[int(chem_a)],\n",
    "        ) \n",
    "    \n",
    "    # dump the object into the file\n",
    "    if c == 5:\n",
    "        with open('../data/precalculated_similarities.json', 'w') as file:\n",
    "            json.dump(precalculated_similarities, file, indent=2, ensure_ascii=False)\n",
    "        c = 0"
   ]
  },
  {
   "cell_type": "markdown",
   "id": "b9ff57c9",
   "metadata": {
    "pycharm": {
     "name": "#%% md\n"
    }
   },
   "source": [
    "### Create similarity matrix"
   ]
  },
  {
   "cell_type": "code",
   "execution_count": null,
   "id": "1d108c0e",
   "metadata": {
    "pycharm": {
     "name": "#%%\n"
    }
   },
   "outputs": [],
   "source": [
    "plant_chem_dict = defaultdict(set)\n",
    "chemicals_to_plant_dict = defaultdict(set)\n",
    "\n",
    "for plant_curie, chemical_curie in tqdm(plant_chemical_df.values):\n",
    "    plant_chem_dict[plant_curie].add(chemical_curie)\n",
    "    chemicals_to_plant_dict[chemical_curie].add(plant_curie)"
   ]
  },
  {
   "cell_type": "markdown",
   "id": "9ab9b61c",
   "metadata": {
    "pycharm": {
     "name": "#%% md\n"
    }
   },
   "source": [
    "Tag chemicals that are prenent in more than 100 plants, since they are likely to be common primary metabolites"
   ]
  },
  {
   "cell_type": "code",
   "execution_count": null,
   "id": "0775b240",
   "metadata": {
    "pycharm": {
     "name": "#%%\n"
    }
   },
   "outputs": [],
   "source": [
    "promiscuous_chemicals = [\n",
    "    chemical\n",
    "    for chemical, plants in chemicals_to_plant_dict.items()\n",
    "    if len(plants) > 100\n",
    "]\n",
    "\n",
    "plant_chem_dict = {\n",
    "    plant: {\n",
    "        chemical\n",
    "        for chemical in chemicals\n",
    "        if chemical not in promiscuous_chemicals\n",
    "    }\n",
    "    for plant, chemicals in plant_chem_dict.items()\n",
    "}"
   ]
  },
  {
   "cell_type": "code",
   "execution_count": null,
   "id": "804056fe",
   "metadata": {
    "pycharm": {
     "name": "#%%\n"
    }
   },
   "outputs": [],
   "source": [
    "g = sns.displot(\n",
    "    [\n",
    "        len(plants)\n",
    "        for chemical, plants in chemicals_to_plant_dict.items()\n",
    "        if chemical not in promiscuous_chemicals\n",
    "    ],\n",
    "    kind=\"kde\",\n",
    "    height=4,\n",
    "    aspect=2,\n",
    ")\n",
    "\n",
    "g.set_axis_labels(\"Number of plants\", \"Density\")\n",
    "g.set_titles(\"Distribution of plants per chemical\")\n",
    "\n",
    "plt.show()"
   ]
  },
  {
   "cell_type": "markdown",
   "id": "1c158657",
   "metadata": {
    "pycharm": {
     "name": "#%% md\n"
    }
   },
   "source": [
    "Build the similarity matrix"
   ]
  },
  {
   "cell_type": "code",
   "execution_count": null,
   "id": "32bd51f7",
   "metadata": {
    "pycharm": {
     "name": "#%%\n"
    }
   },
   "outputs": [],
   "source": [
    "def calculate_plant_similarity(\n",
    "    plant_a: str,\n",
    "    plant_b: str,\n",
    "    plant_to_chemicals: Dict[str, Set[str]],\n",
    "    pubchem_to_morgan: Dict[str, Any],\n",
    "    top_percentage: int,\n",
    "    skipped: Set[str],\n",
    "):\n",
    "    \"\"\"Calculate the similarity between two plants.\"\"\"\n",
    "    similarities = []\n",
    "    for chemical_plant_a, chemical_plant_b in itt.product(plant_to_chemicals[plant_a], plant_to_chemicals[plant_b]):\n",
    "        \n",
    "        similarities.append(\n",
    "            TanimotoSimilarity(\n",
    "                pubchem_to_morgan[chemical_plant_a],\n",
    "                pubchem_to_morgan[chemical_plant_b],\n",
    "            )\n",
    "        )\n",
    "        \n",
    "    top_percentage = int((len(plant_to_chemicals[plant_a]) * len(plant_to_chemicals[plant_b])) / top_percentage)\n",
    "    \n",
    "#     print(f\"{top_percentage} from {len(plant_to_chemicals[plant_a])} / {len(plant_to_chemicals[plant_b])}\")\n",
    "    \n",
    "    return sum(sorted(similarities, reverse=True)[:top_percentage]) / top_percentage\n"
   ]
  },
  {
   "cell_type": "code",
   "execution_count": null,
   "id": "1a554243",
   "metadata": {
    "pycharm": {
     "name": "#%%\n"
    }
   },
   "outputs": [],
   "source": [
    "def num_combinations(n, r):\n",
    "    return math.factorial(n) // (math.factorial(r) * math.factorial(n-r))"
   ]
  },
  {
   "cell_type": "code",
   "execution_count": null,
   "id": "fef44d92",
   "metadata": {
    "pycharm": {
     "name": "#%%\n"
    }
   },
   "outputs": [],
   "source": [
    "plant_curies = [\n",
    "    plant\n",
    "    for plant in plant_chemical_df.plant_curie.unique()\n",
    "    if plant in plant_chem_dict and len(plant_chem_dict[plant]) > 20\n",
    "]\n",
    "\n",
    "print(f'{len(plant_curies)} plants included in the analysis')\n",
    "\n",
    "skipped_chemicals = set()\n",
    "\n",
    "similarity_dataframe = pd.DataFrame(\n",
    "    0.0,\n",
    "    index=plant_curies,\n",
    "    columns=plant_curies,\n",
    ")\n",
    "\n",
    "for plant_a, plant_b in tqdm(\n",
    "    itt.combinations_with_replacement(plant_curies, r=2),\n",
    "    total=num_combinations(len(plant_curies), 2),\n",
    "):\n",
    "\n",
    "    sim = calculate_plant_similarity(\n",
    "        plant_a=plant_a,\n",
    "        plant_b=plant_b,\n",
    "        plant_to_chemicals=plant_chem_dict,\n",
    "        pubchem_to_morgan=pubchem_to_morgan,\n",
    "        top_percentage=10,\n",
    "        skipped=skipped_chemicals,\n",
    "    )\n",
    "    \n",
    "    similarity_dataframe[plant_a][plant_b] = sim\n",
    "    similarity_dataframe[plant_b][plant_a] = sim"
   ]
  },
  {
   "cell_type": "code",
   "execution_count": null,
   "id": "4f0f99ab",
   "metadata": {
    "pycharm": {
     "name": "#%%\n"
    }
   },
   "outputs": [],
   "source": [
    "plant_chem_dict = defaultdict(set)\n",
    "chemicals_to_plant_dict = defaultdict(set)\n",
    "\n",
    "for plant_curie, chemical_curie in tqdm(plant_chemical_df.values):\n",
    "    plant_chem_dict[plant_curie].add(chemical_curie)\n",
    "    chemicals_to_plant_dict[chemical_curie].add(plant_curie)"
   ]
  },
  {
   "cell_type": "markdown",
   "id": "a0ae72b8",
   "metadata": {
    "pycharm": {
     "name": "#%% md\n"
    }
   },
   "source": [
    "Tag chemicals that are prenent in more than 100 plants, since they are likely to be common primary metabolites"
   ]
  },
  {
   "cell_type": "code",
   "execution_count": null,
   "id": "82e7863a",
   "metadata": {
    "pycharm": {
     "name": "#%%\n"
    }
   },
   "outputs": [],
   "source": [
    "promiscuous_chemicals = [\n",
    "    chemical\n",
    "    for chemical, plants in chemicals_to_plant_dict.items()\n",
    "    if len(plants) > 100\n",
    "]\n",
    "\n",
    "plant_chem_dict = {\n",
    "    plant: {\n",
    "        chemical\n",
    "        for chemical in chemicals\n",
    "        if chemical not in promiscuous_chemicals\n",
    "    }\n",
    "    for plant, chemicals in plant_chem_dict.items()\n",
    "}"
   ]
  },
  {
   "cell_type": "code",
   "execution_count": null,
   "id": "fa4c539c",
   "metadata": {
    "pycharm": {
     "name": "#%%\n"
    }
   },
   "outputs": [],
   "source": [
    "g = sns.displot(\n",
    "    [\n",
    "        len(plants)\n",
    "        for chemical, plants in chemicals_to_plant_dict.items()\n",
    "        if chemical not in promiscuous_chemicals\n",
    "    ],\n",
    "    kind=\"kde\",\n",
    "    height=4,\n",
    "    aspect=2,\n",
    ")\n",
    "\n",
    "g.set_axis_labels(\"Number of plants\", \"Density\")\n",
    "g.set_titles(\"Distribution of plants per chemical\")\n",
    "\n",
    "plt.show()"
   ]
  },
  {
   "cell_type": "markdown",
   "id": "91ba7036",
   "metadata": {
    "pycharm": {
     "name": "#%% md\n"
    }
   },
   "source": [
    "Build the similarity matrix"
   ]
  },
  {
   "cell_type": "code",
   "execution_count": null,
   "id": "b52021f3",
   "metadata": {
    "pycharm": {
     "name": "#%%\n"
    }
   },
   "outputs": [],
   "source": [
    "def calculate_plant_similarity(\n",
    "    plant_a: str,\n",
    "    plant_b: str,\n",
    "    plant_to_chemicals: Dict[str, Set[str]],\n",
    "    pubchem_to_morgan: Dict[str, Any],\n",
    "    top_percentage: int,\n",
    "    skipped: Set[str],\n",
    "):\n",
    "    \"\"\"Calculate the similarity between two plants.\"\"\"\n",
    "    similarities = []\n",
    "    for chemical_plant_a, chemical_plant_b in itt.product(plant_to_chemicals[plant_a], plant_to_chemicals[plant_b]):\n",
    "        \n",
    "        similarities.append(\n",
    "            TanimotoSimilarity(\n",
    "                pubchem_to_morgan[chemical_plant_a],\n",
    "                pubchem_to_morgan[chemical_plant_b],\n",
    "            )\n",
    "        )\n",
    "        \n",
    "    top_percentage = int((len(plant_to_chemicals[plant_a]) * len(plant_to_chemicals[plant_b])) / top_percentage)\n",
    "    \n",
    "#     print(f\"{top_percentage} from {len(plant_to_chemicals[plant_a])} / {len(plant_to_chemicals[plant_b])}\")\n",
    "    \n",
    "    return sum(sorted(similarities, reverse=True)[:top_percentage]) / top_percentage\n"
   ]
  },
  {
   "cell_type": "code",
   "execution_count": null,
   "id": "08409263",
   "metadata": {
    "pycharm": {
     "name": "#%%\n"
    }
   },
   "outputs": [],
   "source": [
    "def num_combinations(n, r):\n",
    "    return math.factorial(n) // (math.factorial(r) * math.factorial(n-r))"
   ]
  },
  {
   "cell_type": "code",
   "execution_count": null,
   "id": "6305aed6",
   "metadata": {
    "pycharm": {
     "name": "#%%\n"
    }
   },
   "outputs": [],
   "source": [
    "plant_curies = [\n",
    "    plant\n",
    "    for plant in plant_chemical_df.plant_curie.unique()\n",
    "    if plant in plant_chem_dict and len(plant_chem_dict[plant]) > 20\n",
    "]\n",
    "\n",
    "print(f'{len(plant_curies)} plants included in the analysis')\n",
    "\n",
    "skipped_chemicals = set()\n",
    "\n",
    "similarity_dataframe = pd.DataFrame(\n",
    "    0.0,\n",
    "    index=plant_curies,\n",
    "    columns=plant_curies,\n",
    ")\n",
    "\n",
    "for plant_a, plant_b in tqdm(\n",
    "    itt.combinations_with_replacement(plant_curies, r=2),\n",
    "    total=num_combinations(len(plant_curies), 2),\n",
    "):\n",
    "\n",
    "    sim = calculate_plant_similarity(\n",
    "        plant_a=plant_a,\n",
    "        plant_b=plant_b,\n",
    "        plant_to_chemicals=plant_chem_dict,\n",
    "        pubchem_to_morgan=pubchem_to_morgan,\n",
    "        top_percentage=10,\n",
    "        skipped=skipped_chemicals,\n",
    "    )\n",
    "    \n",
    "    similarity_dataframe[plant_a][plant_b] = sim\n",
    "    similarity_dataframe[plant_b][plant_a] = sim"
   ]
  },
  {
   "cell_type": "code",
   "execution_count": null,
   "id": "9db0ac1b",
   "metadata": {
    "pycharm": {
     "name": "#%%\n"
    }
   },
   "outputs": [],
   "source": [
    "# Create the dissimilarity matrix for each row of the similarity matrix using 1-s where s is the similarity\n",
    "distance_matrix = pdist(\n",
    "    similarity_dataframe,\n",
    "    metric='correlation', # TODO: check other metrics!\n",
    ")"
   ]
  },
  {
   "cell_type": "markdown",
   "id": "d7d8ea85",
   "metadata": {
    "pycharm": {
     "name": "#%% md\n"
    }
   },
   "source": [
    "Potentially check this if there are errors\n",
    "https://github.com/ComPath/ComPath/blob/26c43da61a0329f56013d3e3b39d83cf0a127134/src/compath/visualization/d3_dendrogram.py#L142"
   ]
  },
  {
   "cell_type": "code",
   "execution_count": null,
   "id": "23da0b88",
   "metadata": {
    "pycharm": {
     "name": "#%%\n"
    }
   },
   "outputs": [],
   "source": [
    "# Calculate clusters\n",
    "Z = linkage(\n",
    "    distance_matrix,\n",
    "    method='average',  # check others?\n",
    ")\n",
    "\n",
    "dn = dendrogram(Z)\n",
    "plt.show()"
   ]
  },
  {
   "cell_type": "markdown",
   "id": "62623696",
   "metadata": {
    "pycharm": {
     "name": "#%% md\n"
    }
   },
   "source": [
    "# TODO: Get clusters using a cutoff\n",
    "\n",
    "https://docs.scipy.org/doc/scipy/reference/generated/scipy.cluster.hierarchy.fcluster.html"
   ]
  },
  {
   "cell_type": "code",
   "execution_count": null,
   "id": "3080f429",
   "metadata": {
    "pycharm": {
     "name": "#%%\n"
    }
   },
   "outputs": [],
   "source": []
  },
  {
   "cell_type": "code",
   "execution_count": null,
   "id": "6b299291",
   "metadata": {
    "pycharm": {
     "name": "#%%\n"
    }
   },
   "outputs": [],
   "source": []
  },
  {
   "cell_type": "markdown",
   "id": "2bc34c0b",
   "metadata": {
    "pycharm": {
     "name": "#%% md\n"
    }
   },
   "source": [
    "### Get the real taxonomical clusters"
   ]
  },
  {
   "cell_type": "code",
   "execution_count": null,
   "id": "36564f89",
   "metadata": {
    "pycharm": {
     "name": "#%%\n"
    }
   },
   "outputs": [],
   "source": [
    "genus_to_species, family_to_species = get_genus_and_family_info_for_plants(\n",
    "    set(plant_chemical_df.plant_curie.unique()),\n",
    ")"
   ]
  },
  {
   "cell_type": "code",
   "execution_count": null,
   "id": "7535e5ac",
   "metadata": {
    "pycharm": {
     "name": "#%%\n"
    }
   },
   "outputs": [],
   "source": [
    "# TODO: Evaluate the goodness of the chemotaxonomy"
   ]
  },
  {
   "cell_type": "code",
   "execution_count": null,
   "id": "96c112ab",
   "metadata": {
    "pycharm": {
     "name": "#%%\n"
    }
   },
   "outputs": [],
   "source": [
    "Use this package: https://github.com/hhromic/python-bcubed\n",
    "        "
   ]
  }
 ],
 "metadata": {
  "kernelspec": {
   "display_name": "plant_chem_space",
   "language": "python",
   "name": "python3"
  },
  "language_info": {
   "codemirror_mode": {
    "name": "ipython",
    "version": 3
   },
   "file_extension": ".py",
   "mimetype": "text/x-python",
   "name": "python",
   "nbconvert_exporter": "python",
   "pygments_lexer": "ipython3",
   "version": "3.9.16"
  },
  "vscode": {
   "interpreter": {
    "hash": "a5f45701e51abfedf130ec13a2e2a1341cc2ff59f543aea3c10514e88bfdaf3d"
   }
  }
 },
 "nbformat": 4,
 "nbformat_minor": 5
}
