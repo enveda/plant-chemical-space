{
 "cells": [
  {
   "attachments": {},
   "cell_type": "markdown",
   "metadata": {
    "pycharm": {
     "name": "#%% md\n"
    }
   },
   "source": [
    "# Chemotaxonomy\n",
    "\n",
    "Hiearchical clustering of plants based on their chemical composition\n",
    "\n",
    "### Import modules"
   ]
  },
  {
   "cell_type": "code",
   "execution_count": 1,
   "id": "67fc059c",
   "metadata": {
    "pycharm": {
     "name": "#%%\n"
    }
   },
   "outputs": [],
   "source": [
    "from collections import defaultdict\n",
    "import os\n",
    "import itertools as itt\n",
    "import math\n",
    "from typing import Dict, List\n",
    "import random\n",
    "\n",
    "import pandas as pd\n",
    "from tqdm import tqdm\n",
    "import numpy as np\n",
    "\n",
    "import seaborn as sns\n",
    "import matplotlib.pyplot as plt\n",
    "import matplotlib as mpl\n",
    "\n",
    "from sklearn.metrics.cluster import adjusted_rand_score\n",
    "from sklearn.cluster import AgglomerativeClustering\n",
    "\n",
    "# Import taxonomy\n",
    "from utils import get_genus_and_family_info_for_plants, ncbitaxon_curies_to_names"
   ]
  },
  {
   "cell_type": "code",
   "execution_count": 2,
   "id": "f5eb5faa",
   "metadata": {
    "pycharm": {
     "name": "#%%\n"
    }
   },
   "outputs": [],
   "source": [
    "random.seed(123)"
   ]
  },
  {
   "cell_type": "code",
   "execution_count": 3,
   "id": "ee668da7",
   "metadata": {
    "pycharm": {
     "name": "#%%\n"
    }
   },
   "outputs": [],
   "source": [
    "sns.set_style(\"whitegrid\")\n",
    "mpl.rcParams['figure.dpi'] = 360\n",
    "%matplotlib inline"
   ]
  },
  {
   "cell_type": "code",
   "execution_count": 4,
   "id": "1b6553eb",
   "metadata": {
    "pycharm": {
     "name": "#%%\n"
    }
   },
   "outputs": [],
   "source": [
    "tqdm.pandas()\n",
    "pd.set_option('display.max_columns', None)"
   ]
  },
  {
   "cell_type": "code",
   "execution_count": 5,
   "metadata": {
    "collapsed": false,
    "pycharm": {
     "name": "#%%\n"
    }
   },
   "outputs": [],
   "source": [
    "DATA_DIR = '../data/'"
   ]
  },
  {
   "attachments": {},
   "cell_type": "markdown",
   "id": "920b2522",
   "metadata": {
    "pycharm": {
     "name": "#%% md\n"
    }
   },
   "source": [
    "Load chemicals"
   ]
  },
  {
   "cell_type": "code",
   "execution_count": 6,
   "id": "29661bd8",
   "metadata": {
    "pycharm": {
     "name": "#%%\n"
    }
   },
   "outputs": [],
   "source": [
    "plant_chemical_df = pd.read_csv(\n",
    "    os.path.join(DATA_DIR, 'plant_chemical.tsv.gz'),\n",
    "    compression='gzip',\n",
    "    sep='\\t',\n",
    "    usecols=[\n",
    "        'plant_curie',\n",
    "        'chemical_curie',\n",
    "    ]\n",
    ")"
   ]
  },
  {
   "cell_type": "code",
   "execution_count": 7,
   "id": "6cb9e0ab",
   "metadata": {
    "pycharm": {
     "name": "#%%\n"
    }
   },
   "outputs": [
    {
     "data": {
      "text/html": [
       "<div>\n",
       "<style scoped>\n",
       "    .dataframe tbody tr th:only-of-type {\n",
       "        vertical-align: middle;\n",
       "    }\n",
       "\n",
       "    .dataframe tbody tr th {\n",
       "        vertical-align: top;\n",
       "    }\n",
       "\n",
       "    .dataframe thead th {\n",
       "        text-align: right;\n",
       "    }\n",
       "</style>\n",
       "<table border=\"1\" class=\"dataframe\">\n",
       "  <thead>\n",
       "    <tr style=\"text-align: right;\">\n",
       "      <th></th>\n",
       "      <th>plant_curie</th>\n",
       "      <th>chemical_curie</th>\n",
       "    </tr>\n",
       "  </thead>\n",
       "  <tbody>\n",
       "    <tr>\n",
       "      <th>0</th>\n",
       "      <td>ncbitaxon:1000425</td>\n",
       "      <td>pubchem.compound:3527</td>\n",
       "    </tr>\n",
       "  </tbody>\n",
       "</table>\n",
       "</div>"
      ],
      "text/plain": [
       "         plant_curie         chemical_curie\n",
       "0  ncbitaxon:1000425  pubchem.compound:3527"
      ]
     },
     "execution_count": 7,
     "metadata": {},
     "output_type": "execute_result"
    }
   ],
   "source": [
    "plant_chemical_df.head(1)"
   ]
  },
  {
   "cell_type": "code",
   "execution_count": 8,
   "id": "3d818093",
   "metadata": {
    "pycharm": {
     "name": "#%%\n"
    }
   },
   "outputs": [
    {
     "data": {
      "text/plain": [
       "(87019, 19802)"
      ]
     },
     "execution_count": 8,
     "metadata": {},
     "output_type": "execute_result"
    }
   ],
   "source": [
    "len(plant_chemical_df.chemical_curie.unique()), len(plant_chemical_df.plant_curie.unique())"
   ]
  },
  {
   "attachments": {},
   "cell_type": "markdown",
   "id": "e7c6a2c5",
   "metadata": {
    "pycharm": {
     "name": "#%% md\n"
    }
   },
   "source": [
    "Convert the SMILEs to PubChem ids"
   ]
  },
  {
   "cell_type": "code",
   "execution_count": 9,
   "id": "74b1e1b6",
   "metadata": {
    "pycharm": {
     "name": "#%%\n"
    }
   },
   "outputs": [],
   "source": [
    "smiles_df = pd.read_csv(\n",
    "    os.path.join(DATA_DIR, 'smiles.tsv.gz'),\n",
    "    sep='\\t',\n",
    "    compression='gzip',\n",
    "    usecols=[\n",
    "        'pubchem_id',\n",
    "        'smiles',\n",
    "    ],\n",
    ")"
   ]
  },
  {
   "cell_type": "code",
   "execution_count": 10,
   "id": "e39b5bae",
   "metadata": {
    "pycharm": {
     "name": "#%%\n"
    }
   },
   "outputs": [
    {
     "data": {
      "text/plain": [
       "(89271, 2)"
      ]
     },
     "execution_count": 10,
     "metadata": {},
     "output_type": "execute_result"
    }
   ],
   "source": [
    "smiles_df.shape"
   ]
  },
  {
   "cell_type": "code",
   "execution_count": 11,
   "id": "72675476",
   "metadata": {
    "pycharm": {
     "name": "#%%\n"
    }
   },
   "outputs": [
    {
     "name": "stderr",
     "output_type": "stream",
     "text": [
      " 15%|█▌        | 13433/89271 [00:00<00:00, 133625.73it/s]"
     ]
    },
    {
     "name": "stderr",
     "output_type": "stream",
     "text": [
      "100%|██████████| 89271/89271 [00:00<00:00, 109524.74it/s]\n"
     ]
    }
   ],
   "source": [
    "smiles_dict = {}\n",
    "for pubchem_id, smiles in tqdm(smiles_df.values):\n",
    "        \n",
    "    if pubchem_id.startswith('pubchem:'):\n",
    "        pubchem_id = pubchem_id.replace('pubchem:', 'pubchem.compound:')\n",
    "        \n",
    "    smiles_dict[pubchem_id] = smiles  "
   ]
  },
  {
   "cell_type": "code",
   "execution_count": 12,
   "id": "980e36ce",
   "metadata": {
    "pycharm": {
     "name": "#%%\n"
    }
   },
   "outputs": [
    {
     "name": "stderr",
     "output_type": "stream",
     "text": [
      "100%|██████████| 89271/89271 [00:01<00:00, 84268.38it/s] \n"
     ]
    }
   ],
   "source": [
    "pubchem_to_smiles = {}\n",
    "all_smiles = set()\n",
    "\n",
    "chemicals_in_plants = set(plant_chemical_df.chemical_curie.unique())\n",
    "\n",
    "for pubchem_id, smiles in tqdm(smiles_df.values):\n",
    "        \n",
    "    if pubchem_id.startswith('pubchem:'):\n",
    "        pubchem_id = pubchem_id.replace('pubchem:', 'pubchem.compound:')\n",
    "        \n",
    "    if pubchem_id not in chemicals_in_plants:\n",
    "        continue\n",
    "    \n",
    "    all_smiles.add(smiles)\n",
    "    pubchem_to_smiles[pubchem_id] = smiles\n",
    "\n",
    "smiles_to_pubchem = {\n",
    "    smiles: pubchem\n",
    "    for pubchem, smiles in pubchem_to_smiles.items()\n",
    "}"
   ]
  },
  {
   "cell_type": "code",
   "execution_count": 13,
   "id": "ff1a4608",
   "metadata": {
    "pycharm": {
     "name": "#%%\n"
    }
   },
   "outputs": [
    {
     "data": {
      "text/plain": [
       "87019"
      ]
     },
     "execution_count": 13,
     "metadata": {},
     "output_type": "execute_result"
    }
   ],
   "source": [
    "len(smiles_to_pubchem)"
   ]
  },
  {
   "attachments": {},
   "cell_type": "markdown",
   "id": "1e45387b",
   "metadata": {
    "pycharm": {
     "name": "#%% md\n"
    }
   },
   "source": [
    "### Calculate chemical similarity across all pairs of plants"
   ]
  },
  {
   "cell_type": "code",
   "execution_count": 14,
   "id": "84457419",
   "metadata": {
    "pycharm": {
     "name": "#%%\n"
    }
   },
   "outputs": [
    {
     "name": "stderr",
     "output_type": "stream",
     "text": [
      "  1%|          | 4197/383591 [00:00<00:09, 41863.74it/s]"
     ]
    },
    {
     "name": "stderr",
     "output_type": "stream",
     "text": [
      "100%|██████████| 383591/383591 [00:02<00:00, 170664.05it/s]\n"
     ]
    }
   ],
   "source": [
    "plant_chem_dict = defaultdict(set)\n",
    "chemicals_to_plant_dict = defaultdict(set)\n",
    "\n",
    "for plant_curie, chemical_curie in tqdm(plant_chemical_df.values):\n",
    "    plant_chem_dict[plant_curie].add(chemical_curie)\n",
    "    chemicals_to_plant_dict[chemical_curie].add(plant_curie)"
   ]
  },
  {
   "attachments": {},
   "cell_type": "markdown",
   "id": "aff2e234",
   "metadata": {
    "pycharm": {
     "name": "#%% md\n"
    }
   },
   "source": [
    "Tag chemicals that are present in numerous plants, since they are likely to be common primary metabolites"
   ]
  },
  {
   "cell_type": "code",
   "execution_count": 15,
   "id": "7e9a9abc",
   "metadata": {
    "pycharm": {
     "name": "#%%\n"
    }
   },
   "outputs": [],
   "source": [
    "promiscuous_chemicals = [\n",
    "    chemical\n",
    "    for chemical, plants in chemicals_to_plant_dict.items()\n",
    "    if len(plants) > 15\n",
    "    # Ensure there are no secondary metabolites present in a lot of plants (25)\n",
    "    # Since they will skew the results for plants that have a lot chemicals compared to others\n",
    "]\n",
    "\n",
    "plant_chem_dict = {\n",
    "    plant: {\n",
    "        chemical\n",
    "        for chemical in chemicals\n",
    "        if chemical not in promiscuous_chemicals\n",
    "    }\n",
    "    for plant, chemicals in plant_chem_dict.items()\n",
    "}"
   ]
  },
  {
   "cell_type": "code",
   "execution_count": 16,
   "id": "f5e93775",
   "metadata": {
    "pycharm": {
     "name": "#%%\n"
    }
   },
   "outputs": [
    {
     "data": {
      "text/plain": [
       "4417"
      ]
     },
     "execution_count": 16,
     "metadata": {},
     "output_type": "execute_result"
    }
   ],
   "source": [
    "len(promiscuous_chemicals)"
   ]
  },
  {
   "cell_type": "code",
   "execution_count": 17,
   "id": "e21823d0",
   "metadata": {
    "pycharm": {
     "name": "#%%\n"
    }
   },
   "outputs": [
    {
     "data": {
      "image/png": "[encoded data removed]",
      "text/plain": [
       "<Figure size 576x288 with 1 Axes>"
      ]
     },
     "metadata": {
      "needs_background": "light"
     },
     "output_type": "display_data"
    }
   ],
   "source": [
    "g = sns.displot(\n",
    "    [\n",
    "        len(plants)\n",
    "        for chemical, plants in chemicals_to_plant_dict.items()\n",
    "        if chemical not in promiscuous_chemicals\n",
    "    ],\n",
    "    kind=\"kde\",\n",
    "    height=4,\n",
    "    aspect=2,\n",
    ")\n",
    "\n",
    "g.set_axis_labels(\"Number of plants\", \"Density\")\n",
    "g.set_titles(\"Distribution of plants per chemical\")\n",
    "\n",
    "plt.show()"
   ]
  },
  {
   "attachments": {},
   "cell_type": "markdown",
   "id": "f6382d30",
   "metadata": {
    "pycharm": {
     "name": "#%% md\n"
    }
   },
   "source": [
    "Build the similarity matrix"
   ]
  },
  {
   "cell_type": "code",
   "execution_count": 18,
   "id": "bb15bcd1",
   "metadata": {
    "pycharm": {
     "name": "#%%\n"
    }
   },
   "outputs": [],
   "source": [
    "def calculate_overlap_coefficient(\n",
    "    plant_1,\n",
    "    plant_2,\n",
    "    plant_to_chemicals,\n",
    "):\n",
    "    \"\"\"Calculate coeffiencient overlap.\"\"\"\n",
    "    chemicals_in_plant_1 = plant_to_chemicals[plant_1]\n",
    "    chemicals_in_plant_2 = plant_to_chemicals[plant_2]\n",
    "\n",
    "    return len(\n",
    "        chemicals_in_plant_1.intersection(chemicals_in_plant_2)\n",
    "    ) / min([len(chemicals_in_plant_1), len(chemicals_in_plant_2)])"
   ]
  },
  {
   "cell_type": "code",
   "execution_count": 19,
   "id": "3837401e",
   "metadata": {
    "pycharm": {
     "name": "#%%\n"
    }
   },
   "outputs": [],
   "source": [
    "def num_combinations(n, r):\n",
    "    \"\"\"Calculate the number of combinations of n choose r.\"\"\"\n",
    "    return math.factorial(n) // (math.factorial(r) * math.factorial(n-r))"
   ]
  },
  {
   "attachments": {},
   "cell_type": "markdown",
   "id": "4764f647",
   "metadata": {
    "pycharm": {
     "name": "#%% md\n"
    }
   },
   "source": [
    "#### Get the real taxonomical clades (ground truth)"
   ]
  },
  {
   "cell_type": "code",
   "execution_count": 20,
   "id": "917c8e8a",
   "metadata": {
    "pycharm": {
     "name": "#%%\n"
    }
   },
   "outputs": [
    {
     "name": "stderr",
     "output_type": "stream",
     "text": [
      "order family: 100%|██████████| 920/920 [00:01<00:00, 747.96it/s]\n",
      "order genus: 100%|██████████| 16924/16924 [00:01<00:00, 15039.13it/s]\n"
     ]
    }
   ],
   "source": [
    "genus_to_species, family_to_species = get_genus_and_family_info_for_plants(\n",
    "    # Get the genus info for plants with enough chemical to evaluate\n",
    "    {\n",
    "        plant\n",
    "        for plant in plant_chem_dict\n",
    "        if len(plant_chem_dict[plant]) > 25\n",
    "    }\n",
    ")"
   ]
  },
  {
   "cell_type": "code",
   "execution_count": 21,
   "id": "0d5c20c9",
   "metadata": {
    "pycharm": {
     "name": "#%%\n"
    }
   },
   "outputs": [
    {
     "data": {
      "text/plain": [
       "(858, 203)"
      ]
     },
     "execution_count": 21,
     "metadata": {},
     "output_type": "execute_result"
    }
   ],
   "source": [
    "len(genus_to_species), len(family_to_species)"
   ]
  },
  {
   "cell_type": "code",
   "execution_count": 22,
   "id": "006f6f3d",
   "metadata": {
    "pycharm": {
     "name": "#%%\n"
    }
   },
   "outputs": [],
   "source": [
    "species_to_genus = {\n",
    "    plant: genus\n",
    "    for genus, species in genus_to_species.items()\n",
    "    if len(species) > 5  # skip genera with only a few plants\n",
    "    for plant in species\n",
    "}\n",
    "\n",
    "species_to_family = {\n",
    "    plant: family\n",
    "    for family, species in family_to_species.items()\n",
    "    if len(species) > 10  # skip family with only a few plants\n",
    "    for plant in species\n",
    "}"
   ]
  },
  {
   "cell_type": "code",
   "execution_count": 23,
   "id": "40ebcf38",
   "metadata": {
    "pycharm": {
     "name": "#%%\n"
    }
   },
   "outputs": [
    {
     "data": {
      "text/plain": [
       "(247, 1017)"
      ]
     },
     "execution_count": 23,
     "metadata": {},
     "output_type": "execute_result"
    }
   ],
   "source": [
    "len(species_to_genus), len(species_to_family)"
   ]
  },
  {
   "attachments": {},
   "cell_type": "markdown",
   "id": "5c55a3a3",
   "metadata": {
    "pycharm": {
     "name": "#%% md\n"
    }
   },
   "source": [
    "### Populate the similarity matrix"
   ]
  },
  {
   "cell_type": "code",
   "execution_count": 24,
   "id": "2aee111d",
   "metadata": {
    "pycharm": {
     "name": "#%%\n"
    }
   },
   "outputs": [
    {
     "name": "stdout",
     "output_type": "stream",
     "text": [
      "1017 plants included in the analysis\n"
     ]
    },
    {
     "name": "stderr",
     "output_type": "stream",
     "text": [
      "  0%|          | 81/516636 [00:00<10:42, 804.23it/s]"
     ]
    },
    {
     "name": "stderr",
     "output_type": "stream",
     "text": [
      "517653it [05:43, 1507.88it/s]                            \n"
     ]
    }
   ],
   "source": [
    "similarity_matrix_path = './similarity_dataframe_scaffold.tsv'\n",
    "\n",
    "# Get the plants to be evaluated from the full dataset\n",
    "plant_curies = [\n",
    "    plant\n",
    "    for plant in plant_chemical_df.plant_curie.unique()\n",
    "    if plant in plant_chem_dict and plant in species_to_family\n",
    "]\n",
    "\n",
    "# Re order the plants so that they are grouped by family\n",
    "plant_curies = sorted(plant_curies, key=lambda x: species_to_family[x])\n",
    "\n",
    "print(f'{len(plant_curies)} plants included in the analysis')\n",
    "\n",
    "# Create a dataframe to store the similarity matrix\n",
    "similarity_dataframe_chemicals = pd.DataFrame(\n",
    "    0.0,\n",
    "    index=plant_curies,\n",
    "    columns=plant_curies,\n",
    ")\n",
    "\n",
    "# Calculate the similarity between all pairs of plants\n",
    "for plant_1, plant_2 in tqdm(\n",
    "    itt.combinations_with_replacement(plant_curies, r=2),\n",
    "    total=num_combinations(len(plant_curies), 2),\n",
    "):\n",
    "\n",
    "    sim = calculate_overlap_coefficient(\n",
    "        plant_1=plant_1,\n",
    "        plant_2=plant_2,\n",
    "        plant_to_chemicals=plant_chem_dict,\n",
    "    )\n",
    "\n",
    "    # Store the similarity in the dataframe\n",
    "    similarity_dataframe_chemicals[plant_1][plant_2] = sim\n",
    "    similarity_dataframe_chemicals[plant_2][plant_1] = sim\n",
    "    "
   ]
  },
  {
   "cell_type": "code",
   "execution_count": 25,
   "id": "fdc1a657",
   "metadata": {
    "pycharm": {
     "name": "#%%\n"
    }
   },
   "outputs": [
    {
     "data": {
      "text/plain": [
       "(1017, 1017)"
      ]
     },
     "execution_count": 25,
     "metadata": {},
     "output_type": "execute_result"
    }
   ],
   "source": [
    "similarity_dataframe_chemicals.shape"
   ]
  },
  {
   "attachments": {},
   "cell_type": "markdown",
   "id": "c99bbf6d",
   "metadata": {
    "pycharm": {
     "name": "#%% md\n"
    }
   },
   "source": [
    "Plot distribution of the similarities for the entire dataframe"
   ]
  },
  {
   "cell_type": "code",
   "execution_count": 26,
   "id": "ae5533af",
   "metadata": {
    "pycharm": {
     "name": "#%%\n"
    }
   },
   "outputs": [
    {
     "data": {
      "image/png": "[encoded data removed]",
      "text/plain": [
       "<Figure size 432x288 with 1 Axes>"
      ]
     },
     "metadata": {
      "needs_background": "light"
     },
     "output_type": "display_data"
    }
   ],
   "source": [
    "g = sns.histplot(\n",
    "    similarity_dataframe_chemicals.values.flatten(),\n",
    "    kde=True,\n",
    "    bins=50,\n",
    ")\n",
    "\n",
    "g.set_xlabel('Similarity score')\n",
    "g.set_ylabel('Number of pairs')\n",
    "g.set_title('Distribution of similarity scores')\n",
    "plt.show()\n"
   ]
  },
  {
   "attachments": {},
   "cell_type": "markdown",
   "id": "e8fe57b7",
   "metadata": {
    "pycharm": {
     "name": "#%% md\n"
    }
   },
   "source": [
    "Scaffold similarity is, as expected, higher, while chemical similarity is quite low (same chemical(s) must be present in two plants)"
   ]
  },
  {
   "attachments": {},
   "cell_type": "markdown",
   "id": "fbeef22c",
   "metadata": {
    "pycharm": {
     "name": "#%% md\n"
    }
   },
   "source": [
    "### Apply hierarchical clustering"
   ]
  },
  {
   "cell_type": "code",
   "execution_count": 27,
   "id": "f776887f",
   "metadata": {
    "pycharm": {
     "name": "#%%\n"
    }
   },
   "outputs": [],
   "source": [
    "def get_cluster_labels(\n",
    "    similarity_dataframe,\n",
    "    species_to_genus,\n",
    "    species_to_family,\n",
    "    plant_curies,\n",
    "):\n",
    "    \"\"\"Get the cluster labels for a given dataframe.\"\"\"\n",
    "    \n",
    "    # Subset the dataframe for genus\n",
    "    genus_plants_to_consider = [\n",
    "        plant\n",
    "        for plant in similarity_dataframe.index\n",
    "        if plant in species_to_genus\n",
    "    ]\n",
    "\n",
    "    similarity_dataframe_genus_filtered = similarity_dataframe.loc[\n",
    "        similarity_dataframe.index.isin(genus_plants_to_consider),\n",
    "        genus_plants_to_consider\n",
    "    ]\n",
    "\n",
    "    # Calculate the distance matrix for genus\n",
    "    distance_matrix_genus = 1 - similarity_dataframe_genus_filtered\n",
    "    # Calculate the distance matrix for family\n",
    "    distance_matrix_family = 1 - similarity_dataframe\n",
    "\n",
    "    # Cluster genus matrix\n",
    "    clustering_genus = AgglomerativeClustering(\n",
    "        # Number of genera\n",
    "        n_clusters=len({\n",
    "            species_to_genus[plant]\n",
    "            for plant in plant_curies\n",
    "            if plant in species_to_genus\n",
    "        }),\n",
    "        affinity='precomputed',\n",
    "        linkage='average',\n",
    "    )\n",
    "\n",
    "    clustering_genus.fit(distance_matrix_genus)\n",
    "\n",
    "    # Cluster family matrix\n",
    "    clustering_family = AgglomerativeClustering(\n",
    "        # Number of genera\n",
    "        n_clusters=len({\n",
    "            species_to_family[plant]\n",
    "            for plant in plant_curies\n",
    "            if plant in species_to_family\n",
    "        }),\n",
    "        affinity='precomputed',\n",
    "        linkage='average',\n",
    "    )\n",
    "\n",
    "    clustering_family.fit(distance_matrix_family)\n",
    "\n",
    "    return (\n",
    "        clustering_genus.labels_,\n",
    "        distance_matrix_genus.index,\n",
    "        clustering_family.labels_,\n",
    "        distance_matrix_family.index,\n",
    "    )"
   ]
  },
  {
   "cell_type": "code",
   "execution_count": 28,
   "id": "66a4c259",
   "metadata": {
    "pycharm": {
     "name": "#%%\n"
    }
   },
   "outputs": [],
   "source": [
    "# Get the cluster labels for the genus and family for chemicals and scaffolds\n",
    "predicted_genus_labels_chemicals, genus_label_chemicals, predicted_family_labels_chemicals, family_label_chemicals = get_cluster_labels(\n",
    "    similarity_dataframe=similarity_dataframe_chemicals,\n",
    "    species_to_genus=species_to_genus,\n",
    "    species_to_family=species_to_family,\n",
    "    plant_curies=plant_curies,\n",
    ")"
   ]
  },
  {
   "attachments": {},
   "cell_type": "markdown",
   "id": "751e199d",
   "metadata": {
    "pycharm": {
     "name": "#%% md\n"
    }
   },
   "source": [
    "Join clusters to actual species assignements "
   ]
  },
  {
   "cell_type": "code",
   "execution_count": 29,
   "id": "d569e53d",
   "metadata": {
    "pycharm": {
     "name": "#%%\n"
    }
   },
   "outputs": [],
   "source": [
    "def prepare_data_for_evaluation(\n",
    "    labels_pred: np.ndarray,\n",
    "    species_to_clade: Dict[str, str],\n",
    "    original_plant_curies: pd.DataFrame,\n",
    "):\n",
    "    \"\"\"Prepare the data for evaluation.\"\"\"\n",
    "    ground_truth = []\n",
    "    predicted_clusters = []\n",
    "\n",
    "    for cluster, plant in zip(labels_pred, original_plant_curies):\n",
    "        predicted_clusters.append(cluster)\n",
    "        ground_truth.append(species_to_clade[plant])\n",
    "    \n",
    "    return predicted_clusters, ground_truth\n"
   ]
  },
  {
   "cell_type": "code",
   "execution_count": 30,
   "id": "896a500e",
   "metadata": {
    "pycharm": {
     "name": "#%%\n"
    }
   },
   "outputs": [],
   "source": [
    "\n",
    "predicted_clusters_genus_chemicals, ground_truth_genus_chemicals = prepare_data_for_evaluation(\n",
    "    labels_pred=predicted_genus_labels_chemicals,\n",
    "    species_to_clade=species_to_genus,\n",
    "    original_plant_curies=genus_label_chemicals,\n",
    ")\n",
    "\n",
    "predicted_clusters_family_chemicals, ground_truth_family_chemicals = prepare_data_for_evaluation(\n",
    "    labels_pred=predicted_family_labels_chemicals,\n",
    "    species_to_clade=species_to_family,\n",
    "    original_plant_curies=family_label_chemicals,\n",
    ")"
   ]
  },
  {
   "attachments": {},
   "cell_type": "markdown",
   "id": "17982d2b",
   "metadata": {
    "pycharm": {
     "name": "#%% md\n"
    }
   },
   "source": [
    "Number of classes, number of plants evaluated for both genera-clustering and family-clustering analysis"
   ]
  },
  {
   "cell_type": "code",
   "execution_count": 31,
   "id": "6cc816c6",
   "metadata": {
    "pycharm": {
     "name": "#%%\n"
    }
   },
   "outputs": [
    {
     "data": {
      "text/plain": [
       "(24, 228, 34, 1017)"
      ]
     },
     "execution_count": 31,
     "metadata": {},
     "output_type": "execute_result"
    }
   ],
   "source": [
    "max(predicted_clusters_genus_chemicals), len(predicted_clusters_genus_chemicals), max(predicted_clusters_family_chemicals), len(predicted_clusters_family_chemicals)"
   ]
  },
  {
   "attachments": {},
   "cell_type": "markdown",
   "id": "810961b7",
   "metadata": {
    "pycharm": {
     "name": "#%% md\n"
    }
   },
   "source": [
    "Evaluation using Adjusted Rand Index\n",
    "Interpretation:\n",
    "- The adjusted Rand index is bounded below by -0.5 for especially discordant clusterings\n",
    "- A value around 0 means it is a random clustering, independently of the numbers of clusters\n",
    "- A value close to 1 represents a perfect clustering"
   ]
  },
  {
   "cell_type": "code",
   "execution_count": 32,
   "id": "8bbf1eac",
   "metadata": {
    "pycharm": {
     "name": "#%%\n"
    }
   },
   "outputs": [
    {
     "data": {
      "text/plain": [
       "0.10034832911563168"
      ]
     },
     "execution_count": 32,
     "metadata": {},
     "output_type": "execute_result"
    }
   ],
   "source": [
    "adjusted_rand_score(predicted_clusters_family_chemicals, ground_truth_family_chemicals)"
   ]
  },
  {
   "cell_type": "code",
   "execution_count": 33,
   "id": "d86e9018",
   "metadata": {
    "pycharm": {
     "name": "#%%\n"
    }
   },
   "outputs": [
    {
     "data": {
      "text/plain": [
       "0.5759577671091842"
      ]
     },
     "execution_count": 33,
     "metadata": {},
     "output_type": "execute_result"
    }
   ],
   "source": [
    "adjusted_rand_score(predicted_clusters_genus_chemicals, ground_truth_genus_chemicals)"
   ]
  },
  {
   "attachments": {},
   "cell_type": "markdown",
   "id": "f3d3439a",
   "metadata": {
    "pycharm": {
     "name": "#%% md\n"
    }
   },
   "source": [
    "### Visualize the Heatmap for genera"
   ]
  },
  {
   "cell_type": "code",
   "execution_count": 34,
   "id": "1e66eaac",
   "metadata": {
    "pycharm": {
     "name": "#%%\n"
    }
   },
   "outputs": [],
   "source": [
    "\"\"\"Genera matrix\"\"\"\n",
    "genus_plants_to_consider = [\n",
    "    plant\n",
    "    for plant in similarity_dataframe_chemicals.index\n",
    "    if plant in species_to_genus\n",
    "]\n",
    "\n",
    "similarity_dataframe_genus_filtered = similarity_dataframe_chemicals.loc[\n",
    "    similarity_dataframe_chemicals.index.isin(genus_plants_to_consider),\n",
    "    genus_plants_to_consider\n",
    "]\n",
    "\n",
    "# Calculate the distance matrix for genus\n",
    "distance_matrix_genus = 1 - similarity_dataframe_genus_filtered\n",
    "\n",
    "\n",
    "# Get the genera (labels) for the subset df\n",
    "genus_full = [\n",
    "    species_to_genus[plant]\n",
    "    for plant in distance_matrix_genus.index\n",
    "]\n",
    "\n",
    "\"\"\"Subset the dataframe for genus\"\"\"\n",
    "# Get a random subset of genera to zoom in\n",
    "random_subset_of_genera = set(random.sample(genus_full, 5))\n",
    "\n",
    "# Get the plants in the subset\n",
    "subset = [\n",
    "    plant\n",
    "    for plant in distance_matrix_genus.index\n",
    "    if species_to_genus[plant] in random_subset_of_genera\n",
    "]\n",
    "\n",
    "distance_matrix_genus_subset = distance_matrix_genus.loc[\n",
    "    distance_matrix_genus.index.isin(subset),\n",
    "    subset,\n",
    "]\n",
    "\n",
    "\"\"\"Plot a clustermap with dendrogram and colors for classes.\"\"\"\n",
    "\n",
    "def prepare_palette(\n",
    "    taxa: List[str],\n",
    "):\n",
    "    \"\"\"Prepare a color palette for the classes.\"\"\"\n",
    "    # Create a color palette\n",
    "    palette = sns.color_palette('tab10', len(taxa))\n",
    "\n",
    "    # Create a dictionary to map the classes to the colors\n",
    "    colors = {c: palette[i] for i, c in enumerate(taxa)}\n",
    "\n",
    "    # Create a list of colors for the classes\n",
    "    color_list = [colors[c] for c in taxa]\n",
    "    return color_list\n",
    "\n",
    "def prepare_palette_more_than_20(\n",
    "    taxa: List[str],\n",
    "):\n",
    "    # Create a color palette\n",
    "    palette_1 = sns.color_palette('tab20b', 20)\n",
    "    palette_2 = sns.color_palette('tab20c', len(taxa) - 20)\n",
    "\n",
    "    # Create a dictionary to map the classes to the colors\n",
    "    colors = {}\n",
    "\n",
    "    for i, c in enumerate(taxa):\n",
    "        if i < 20:\n",
    "            colors[c] = palette_1[i]\n",
    "        else:\n",
    "            colors[c] = palette_2[i - 20]\n",
    "\n",
    "    # Create a list of colors for the classes\n",
    "    return [colors[c] for c in taxa]\n",
    "\n",
    "# Prepare the color palette for the full matrix\n",
    "color_list_full = prepare_palette_more_than_20(taxa=genus_full) \n",
    "\n",
    "color_list_subset = prepare_palette(taxa=[\n",
    "    species_to_genus[plant]\n",
    "    for plant in distance_matrix_genus_subset.index\n",
    "])"
   ]
  },
  {
   "attachments": {},
   "cell_type": "markdown",
   "id": "543edba4",
   "metadata": {
    "pycharm": {
     "name": "#%% md\n"
    }
   },
   "source": [
    "Chemotaxonomy for all genera"
   ]
  },
  {
   "cell_type": "code",
   "execution_count": 35,
   "id": "9e8a3f12",
   "metadata": {
    "pycharm": {
     "name": "#%%\n"
    }
   },
   "outputs": [
    {
     "name": "stderr",
     "output_type": "stream",
     "text": [
      "/Users/danieldomingo/anaconda3/envs/kg-analysis/lib/python3.9/site-packages/seaborn/matrix.py:560: UserWarning: Clustering large matrix with scipy. Installing `fastcluster` may give better performance.\n",
      "  warnings.warn(msg)\n",
      "/Users/danieldomingo/anaconda3/envs/kg-analysis/lib/python3.9/site-packages/seaborn/matrix.py:530: ClusterWarning: scipy.cluster: The symmetric non-negative hollow observation matrix looks suspiciously like an uncondensed distance matrix\n",
      "  linkage = hierarchy.linkage(self.array, method=self.method,\n"
     ]
    },
    {
     "data": {
      "image/png": "[encoded data removed]",
      "text/plain": [
       "<Figure size 720x720 with 6 Axes>"
      ]
     },
     "metadata": {
      "needs_background": "light"
     },
     "output_type": "display_data"
    }
   ],
   "source": [
    "g = sns.clustermap(\n",
    "    distance_matrix_genus,\n",
    "    cmap='rocket',\n",
    "    row_cluster=True,\n",
    "    col_cluster=True,\n",
    "    row_colors=color_list_full,\n",
    "    col_colors=color_list_full,\n",
    "    xticklabels=False,\n",
    "    yticklabels=False,\n",
    "    dendrogram_ratio=0.15,\n",
    ")\n",
    "\n",
    "# Add title and move a bit up with a different font\n",
    "g.fig.suptitle(\n",
    "    'Chemotaxonomy compared with 24 genera',\n",
    "    fontsize=25,\n",
    "    y=1.05,\n",
    "    font='Avenir',\n",
    ")\n",
    "\n",
    "# Export the figure\n",
    "g.savefig('chemotaxonomy_genus_full.png', dpi=360)\n",
    "\n",
    "plt.show()"
   ]
  },
  {
   "attachments": {},
   "cell_type": "markdown",
   "id": "cbe645f9",
   "metadata": {
    "pycharm": {
     "name": "#%% md\n"
    }
   },
   "source": [
    "Subset"
   ]
  },
  {
   "cell_type": "code",
   "execution_count": 36,
   "id": "ec977fa5",
   "metadata": {
    "pycharm": {
     "name": "#%%\n"
    }
   },
   "outputs": [],
   "source": [
    "plant_to_names_dict = ncbitaxon_curies_to_names(distance_matrix_genus_subset.index)"
   ]
  },
  {
   "cell_type": "code",
   "execution_count": 37,
   "id": "2aa3df4d",
   "metadata": {
    "pycharm": {
     "name": "#%%\n"
    }
   },
   "outputs": [],
   "source": [
    "# Rename all the rows and columns\n",
    "distance_matrix_genus_subset.rename(\n",
    "    index=plant_to_names_dict,\n",
    "    columns=plant_to_names_dict,\n",
    "    inplace=True,\n",
    ")"
   ]
  },
  {
   "cell_type": "code",
   "execution_count": 38,
   "id": "b578f450",
   "metadata": {
    "pycharm": {
     "name": "#%%\n"
    }
   },
   "outputs": [
    {
     "name": "stderr",
     "output_type": "stream",
     "text": [
      "/Users/danieldomingo/anaconda3/envs/kg-analysis/lib/python3.9/site-packages/seaborn/matrix.py:530: ClusterWarning: scipy.cluster: The symmetric non-negative hollow observation matrix looks suspiciously like an uncondensed distance matrix\n",
      "  linkage = hierarchy.linkage(self.array, method=self.method,\n"
     ]
    },
    {
     "data": {
      "image/png": "[encoded data removed]",
      "text/plain": [
       "<Figure size 720x720 with 6 Axes>"
      ]
     },
     "metadata": {
      "needs_background": "light"
     },
     "output_type": "display_data"
    }
   ],
   "source": [
    "g = sns.clustermap(\n",
    "    distance_matrix_genus_subset,\n",
    "    cmap='rocket',\n",
    "    row_cluster=True,\n",
    "    col_cluster=True,\n",
    "    row_colors=color_list_subset,\n",
    "    col_colors=color_list_subset,\n",
    "    xticklabels=True,\n",
    "    yticklabels=True,\n",
    "    dendrogram_ratio=0.15,\n",
    "    # Font for labels\n",
    "     annot_kws={\"font\": \"Avenir\"}\n",
    ")\n",
    "\n",
    "# Add title and move a bit up with a different font\n",
    "g.fig.suptitle(\n",
    "    f'Zooming in on {len(random_subset_of_genera)} genera',\n",
    "    fontsize=25,\n",
    "    y=1.05,\n",
    "    font='Avenir',\n",
    ")\n",
    "\n",
    "# Export the figure\n",
    "g.savefig('chemotaxonomy_genus_zoom.png', dpi=360)\n",
    "\n",
    "plt.show()"
   ]
  }
 ],
 "metadata": {
  "kernelspec": {
   "display_name": "Python 3",
   "language": "python",
   "name": "python3"
  },
  "language_info": {
   "codemirror_mode": {
    "name": "ipython",
    "version": 3
   },
   "file_extension": ".py",
   "mimetype": "text/x-python",
   "name": "python",
   "nbconvert_exporter": "python",
   "pygments_lexer": "ipython3",
   "version": "3.9.12"
  },
  "vscode": {
   "interpreter": {
    "hash": "a5f45701e51abfedf130ec13a2e2a1341cc2ff59f543aea3c10514e88bfdaf3d"
   }
  }
 },
 "nbformat": 4,
 "nbformat_minor": 5
}
