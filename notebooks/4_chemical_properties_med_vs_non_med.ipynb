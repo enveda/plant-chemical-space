{
 "cells": [
  {
   "cell_type": "markdown",
   "metadata": {
    "pycharm": {
     "name": "#%% md\n"
    }
   },
   "source": [
    "# Exploring the chemical properties between medicinal and non medicinal plants\n",
    "\n",
    "### Import modules"
   ]
  },
  {
   "cell_type": "code",
   "execution_count": null,
   "outputs": [],
   "source": [
    "from collections import defaultdict\n",
    "import random\n",
    "\n",
    "import pandas as pd\n",
    "from tqdm import tqdm\n",
    "\n",
    "# Cheminformatics\n",
    "from rdkit.Chem.Scaffolds.MurckoScaffold import GetScaffoldForMol\n",
    "from rdkit import RDLogger  \n",
    "\n",
    "from rdkit import Chem\n",
    "from rdkit.Chem import MolFromSmiles, Descriptors\n",
    "\n",
    "# Viz\n",
    "import matplotlib as mpl\n",
    "import seaborn as sns\n",
    "import matplotlib.pyplot as plt\n",
    "from matplotlib_venn import venn2"
   ],
   "metadata": {
    "collapsed": false,
    "pycharm": {
     "name": "#%%\n"
    }
   }
  },
  {
   "cell_type": "code",
   "execution_count": null,
   "outputs": [],
   "source": [
    "RDLogger.DisableLog('rdApp.*')"
   ],
   "metadata": {
    "collapsed": false,
    "pycharm": {
     "name": "#%%\n"
    }
   }
  },
  {
   "cell_type": "code",
   "execution_count": null,
   "outputs": [],
   "source": [
    "%matplotlib inline"
   ],
   "metadata": {
    "collapsed": false,
    "pycharm": {
     "name": "#%%\n"
    }
   }
  },
  {
   "cell_type": "code",
   "execution_count": null,
   "outputs": [],
   "source": [
    "random.seed(123)"
   ],
   "metadata": {
    "collapsed": false,
    "pycharm": {
     "name": "#%%\n"
    }
   }
  },
  {
   "cell_type": "code",
   "execution_count": null,
   "outputs": [],
   "source": [
    "mpl.rcParams['figure.dpi'] = 360\n",
    "sns.set_style(\"whitegrid\")"
   ],
   "metadata": {
    "collapsed": false,
    "pycharm": {
     "name": "#%%\n"
    }
   }
  },
  {
   "cell_type": "markdown",
   "source": [
    "Load plant-disease evidences"
   ],
   "metadata": {
    "collapsed": false,
    "pycharm": {
     "name": "#%% md\n"
    }
   }
  },
  {
   "cell_type": "code",
   "execution_count": null,
   "outputs": [],
   "source": [
    "plant_disease_df = pd.read_csv(\n",
    "    's3://enveda-datascience/daniel_domingo/plant_disease_associations.tsv.gz',\n",
    "    compression='gzip',\n",
    "    sep='\\t',\n",
    "    usecols=[\n",
    "        'plant_curie',\n",
    "        'disease_curie',\n",
    "    ]\n",
    ")"
   ],
   "metadata": {
    "collapsed": false,
    "pycharm": {
     "name": "#%%\n"
    }
   }
  },
  {
   "cell_type": "code",
   "execution_count": null,
   "outputs": [],
   "source": [
    "plant_disease_df.head(1)"
   ],
   "metadata": {
    "collapsed": false,
    "pycharm": {
     "name": "#%%\n"
    }
   }
  },
  {
   "cell_type": "code",
   "execution_count": null,
   "outputs": [],
   "source": [
    "plant_disease_dict = defaultdict(set)\n",
    "\n",
    "for plant_curie, disease_curie in tqdm(plant_disease_df.values):\n",
    "    plant_disease_dict[plant_curie].add(disease_curie)"
   ],
   "metadata": {
    "collapsed": false,
    "pycharm": {
     "name": "#%%\n"
    }
   }
  },
  {
   "cell_type": "code",
   "execution_count": null,
   "outputs": [],
   "source": [
    "medicinal_plants = set(plant_disease_df.plant_curie.unique())"
   ],
   "metadata": {
    "collapsed": false,
    "pycharm": {
     "name": "#%%\n"
    }
   }
  },
  {
   "cell_type": "code",
   "execution_count": null,
   "outputs": [],
   "source": [
    "len(medicinal_plants)"
   ],
   "metadata": {
    "collapsed": false,
    "pycharm": {
     "name": "#%%\n"
    }
   }
  },
  {
   "cell_type": "markdown",
   "source": [
    "Load plant-chemical evidences"
   ],
   "metadata": {
    "collapsed": false,
    "pycharm": {
     "name": "#%% md\n"
    }
   }
  },
  {
   "cell_type": "code",
   "execution_count": null,
   "outputs": [],
   "source": [
    "plant_chemical_df = pd.read_csv(\n",
    "    's3://enveda-datascience/daniel_domingo/plant_chemical_associations.tsv.zip',\n",
    "    compression='zip',\n",
    "    sep='\\t',\n",
    "    usecols=[\n",
    "        'plant_curie',\n",
    "        'chemical_curie',\n",
    "    ],\n",
    ")"
   ],
   "metadata": {
    "collapsed": false,
    "pycharm": {
     "name": "#%%\n"
    }
   }
  },
  {
   "cell_type": "code",
   "execution_count": null,
   "outputs": [],
   "source": [
    "plant_chemical_df.head(1)"
   ],
   "metadata": {
    "collapsed": false,
    "pycharm": {
     "name": "#%%\n"
    }
   }
  },
  {
   "cell_type": "code",
   "execution_count": null,
   "outputs": [],
   "source": [
    "len(plant_chemical_df.chemical_curie.unique())"
   ],
   "metadata": {
    "collapsed": false,
    "pycharm": {
     "name": "#%%\n"
    }
   }
  },
  {
   "cell_type": "code",
   "execution_count": null,
   "outputs": [],
   "source": [
    "plant_ids = set(plant_chemical_df.plant_curie.unique())"
   ],
   "metadata": {
    "collapsed": false,
    "pycharm": {
     "name": "#%%\n"
    }
   }
  },
  {
   "cell_type": "code",
   "execution_count": null,
   "outputs": [],
   "source": [
    "len(plant_ids), len(set(plant_chemical_df.plant_curie.unique()) - medicinal_plants)"
   ],
   "metadata": {
    "collapsed": false,
    "pycharm": {
     "name": "#%%\n"
    }
   }
  },
  {
   "cell_type": "markdown",
   "source": [
    "Get SMILES"
   ],
   "metadata": {
    "collapsed": false,
    "pycharm": {
     "name": "#%% md\n"
    }
   }
  },
  {
   "cell_type": "code",
   "execution_count": null,
   "outputs": [],
   "source": [
    "smiles_df = pd.read_csv(\n",
    "    's3://enveda-datascience/daniel_domingo/smiles.tsv.gz',\n",
    "    sep='\\t',\n",
    "    compression='gzip',\n",
    ")"
   ],
   "metadata": {
    "collapsed": false,
    "pycharm": {
     "name": "#%%\n"
    }
   }
  },
  {
   "cell_type": "code",
   "execution_count": null,
   "outputs": [],
   "source": [
    "smiles_df.head(1)"
   ],
   "metadata": {
    "collapsed": false,
    "pycharm": {
     "name": "#%%\n"
    }
   }
  },
  {
   "cell_type": "code",
   "execution_count": null,
   "outputs": [],
   "source": [
    "smiles_df.shape"
   ],
   "metadata": {
    "collapsed": false,
    "pycharm": {
     "name": "#%%\n"
    }
   }
  },
  {
   "cell_type": "code",
   "execution_count": null,
   "outputs": [],
   "source": [
    "smiles_from_pubchem_id = {}\n",
    "skipped_murcko = 0\n",
    "skipped_smiles = 0\n",
    "skipped_wt = 0\n",
    "\n",
    "smiles_to_property_dict = {}\n",
    "\n",
    "for pubchem_id, smiles in tqdm(smiles_df.values):\n",
    "        \n",
    "    if pubchem_id.startswith('pubchem:'):\n",
    "        pubchem_id = pubchem_id.replace('pubchem:', 'pubchem.compound:')\n",
    "        \n",
    "    \"\"\"Calculate some properties\"\"\"\n",
    "    try:\n",
    "        molecule = MolFromSmiles(smiles)\n",
    "    except:\n",
    "        skipped_smiles += 1\n",
    "        continue\n",
    "    try:\n",
    "        molecular_weight = Descriptors.ExactMolWt(molecule)\n",
    "    except:\n",
    "        skipped_wt += 1\n",
    "        continue  \n",
    "\n",
    "    logp = Descriptors.MolLogP(molecule)\n",
    "    topological_surface_area_mapping = Chem.QED.properties(molecule).PSA\n",
    "    fsp3 = Chem.Lipinski.FractionCSP3(molecule)\n",
    "    \n",
    "    smiles_to_property_dict[pubchem_id] = {\n",
    "        'molecular_weight': molecular_weight,\n",
    "        'logp': logp,\n",
    "        'topological_surface_area_mapping': topological_surface_area_mapping,\n",
    "        'fsp3': fsp3,\n",
    "    }\n",
    "    \n",
    "    \"\"\"Murcko scaffold\"\"\"\n",
    "    try:\n",
    "        murcko_smiles = GetScaffoldForMol(molecule)\n",
    "    except:\n",
    "        skipped_murcko += 1\n",
    "        continue\n",
    "        \n",
    "    smiles_from_pubchem_id[pubchem_id] = murcko_smiles"
   ],
   "metadata": {
    "collapsed": false,
    "pycharm": {
     "name": "#%%\n"
    }
   }
  },
  {
   "cell_type": "code",
   "execution_count": null,
   "outputs": [],
   "source": [
    "len(smiles_from_pubchem_id), skipped_murcko, skipped_smiles, skipped_wt"
   ],
   "metadata": {
    "collapsed": false,
    "pycharm": {
     "name": "#%%\n"
    }
   }
  },
  {
   "cell_type": "markdown",
   "source": [
    "Prepare plant-chemicals dicts"
   ],
   "metadata": {
    "collapsed": false,
    "pycharm": {
     "name": "#%% md\n"
    }
   }
  },
  {
   "cell_type": "code",
   "execution_count": null,
   "outputs": [],
   "source": [
    "plant_chem_dict = defaultdict(set)\n",
    "plant_scaffolds_dict = defaultdict(set)\n",
    "\n",
    "chemicals_to_plant_dict = defaultdict(set)\n",
    "\n",
    "for plant_curie, chemical_curie in tqdm(plant_chemical_df.values):\n",
    "    \n",
    "    plant_chem_dict[plant_curie].add(chemical_curie)\n",
    "    chemicals_to_plant_dict[chemical_curie].add(plant_curie)\n",
    "    \n",
    "    if chemical_curie in smiles_from_pubchem_id:\n",
    "        plant_scaffolds_dict[plant_curie].add(smiles_from_pubchem_id[chemical_curie])"
   ],
   "metadata": {
    "collapsed": false,
    "pycharm": {
     "name": "#%%\n"
    }
   }
  },
  {
   "cell_type": "markdown",
   "source": [
    "### Explore distributions"
   ],
   "metadata": {
    "collapsed": false,
    "pycharm": {
     "name": "#%% md\n"
    }
   }
  },
  {
   "cell_type": "markdown",
   "source": [
    "We will apply a filter to avoid artifacts caused by these chemical outliers (chemicals present in a lot of plants)"
   ],
   "metadata": {
    "collapsed": false,
    "pycharm": {
     "name": "#%% md\n"
    }
   }
  },
  {
   "cell_type": "code",
   "execution_count": null,
   "outputs": [],
   "source": [
    "# Remove chemicals that are prenent in more than 100 plants\n",
    "\n",
    "promiscuous_chemicals = [\n",
    "    chemical\n",
    "    for chemical, plants in chemicals_to_plant_dict.items()\n",
    "    if len(plants) > 100\n",
    "]\n",
    "\n",
    "plant_chem_dict = {\n",
    "    plant: {\n",
    "        chemical\n",
    "        for chemical in chemicals\n",
    "        if chemical not in promiscuous_chemicals\n",
    "    }\n",
    "    for plant, chemicals in plant_chem_dict.items()\n",
    "}"
   ],
   "metadata": {
    "collapsed": false,
    "pycharm": {
     "name": "#%%\n"
    }
   }
  },
  {
   "cell_type": "markdown",
   "source": [
    "### Ensuring the properties of the chemicals are maintained"
   ],
   "metadata": {
    "collapsed": false,
    "pycharm": {
     "name": "#%% md\n"
    }
   }
  },
  {
   "cell_type": "code",
   "execution_count": null,
   "outputs": [],
   "source": [
    "df1 = pd.DataFrame([\n",
    "    {\n",
    "        \"type\": \"Non medicinal plants\",\n",
    "        \"molecular_weight\": smiles_to_property_dict[chemical]['molecular_weight'],\n",
    "        \"logp\": smiles_to_property_dict[chemical]['logp'],\n",
    "        \"fsp3\": smiles_to_property_dict[chemical]['fsp3'],\n",
    "        \"topological_surface_area_mapping\": smiles_to_property_dict[chemical]['topological_surface_area_mapping'],\n",
    "    }\n",
    "    for chemical in {\n",
    "        chemical\n",
    "        for plant, chemicals in plant_chem_dict.items()\n",
    "        if plant not in medicinal_plants\n",
    "        for chemical in chemicals\n",
    "    }\n",
    "    if chemical in smiles_to_property_dict\n",
    "])\n",
    "\n",
    "df2 = pd.DataFrame([\n",
    "    {\n",
    "        \"type\": \"Medicinal plants\",\n",
    "        \"molecular_weight\": smiles_to_property_dict[chemical]['molecular_weight'],\n",
    "        \"logp\": smiles_to_property_dict[chemical]['logp'],\n",
    "        \"fsp3\": smiles_to_property_dict[chemical]['fsp3'],\n",
    "        \"topological_surface_area_mapping\": smiles_to_property_dict[chemical]['topological_surface_area_mapping'],\n",
    "    }\n",
    "    for chemical in {\n",
    "        chemical\n",
    "        for plant, chemicals in plant_chem_dict.items()\n",
    "        if plant in medicinal_plants\n",
    "        for chemical in chemicals\n",
    "    }\n",
    "    if chemical in smiles_to_property_dict\n",
    "])\n",
    "\n",
    "chemical_properties_df = pd.concat([df1, df2])"
   ],
   "metadata": {
    "collapsed": false,
    "pycharm": {
     "name": "#%%\n"
    }
   }
  },
  {
   "cell_type": "code",
   "execution_count": null,
   "outputs": [],
   "source": [
    "fig, axes = plt.subplots(2, 2, figsize=(18, 10))\n",
    "\n",
    "fig.suptitle('Comparison of chemical properties', fontsize=34)\n",
    "\n",
    "sns.histplot(\n",
    "    ax=axes[0, 0],\n",
    "    data=chemical_properties_df,\n",
    "    x='molecular_weight',\n",
    "    hue='type',\n",
    "    kde=True,\n",
    "    common_norm=False,\n",
    "    stat=\"density\",\n",
    "    bins=1000,\n",
    "    alpha=0.5,\n",
    "    palette={\n",
    "        \"Medicinal plants\": '#2dea99',\n",
    "        'Non medicinal plants': '#f4839a',\n",
    "    },\n",
    ")\n",
    "\n",
    "axes[0, 0].set(xlabel='Molecular weight')\n",
    "axes[0, 0].set_xlim(0, 2000)\n",
    "\n",
    "sns.histplot(\n",
    "    ax=axes[0, 1],\n",
    "    data=chemical_properties_df,\n",
    "    x='logp',\n",
    "    hue='type',\n",
    "    kde=True,\n",
    "    stat=\"density\",\n",
    "    common_norm=False,\n",
    "    bins=1000,\n",
    "    alpha=0.5,\n",
    "    palette={\n",
    "        \"Medicinal plants\": '#2dea99',\n",
    "        'Non medicinal plants': '#f4839a',\n",
    "    },\n",
    ")\n",
    "\n",
    "axes[0, 1].set(xlabel='LogP')\n",
    "axes[0, 1].set_xlim(-20, 20)\n",
    "\n",
    "sns.histplot(\n",
    "    ax=axes[1, 0],\n",
    "    data=chemical_properties_df,\n",
    "    x='topological_surface_area_mapping',\n",
    "    hue='type',\n",
    "    stat=\"density\",\n",
    "    kde=True,\n",
    "    common_norm=False,\n",
    "    bins=1000,\n",
    "    alpha=0.5,\n",
    "    palette={\n",
    "        \"Medicinal plants\": '#2dea99',\n",
    "        'Non medicinal plants': '#f4839a',\n",
    "    },\n",
    ")\n",
    "\n",
    "axes[1, 0].set(xlabel='Topological surface area mapping')\n",
    "axes[1, 0].set_xlim(0, 750)\n",
    "\n",
    "sns.histplot(\n",
    "    ax=axes[1, 1],\n",
    "    data=chemical_properties_df,\n",
    "    x='fsp3',\n",
    "    hue='type',\n",
    "    kde=True,\n",
    "    stat=\"density\",\n",
    "    common_norm=False,\n",
    "    alpha=0.5,\n",
    "    bins=100,\n",
    "    palette={\n",
    "        \"Medicinal plants\": '#2dea99',\n",
    "        'Non medicinal plants': '#f4839a',\n",
    "    },\n",
    ")\n",
    "\n",
    "axes[1, 1].set(xlabel='Fsp3')\n",
    "\n",
    "plt.tight_layout()\n",
    "\n",
    "plt.savefig(\n",
    "    f'figure_4.png',\n",
    "    dpi=400,\n",
    "    bbox_inches='tight', \n",
    ")\n",
    "\n",
    "plt.show()"
   ],
   "metadata": {
    "collapsed": false,
    "pycharm": {
     "name": "#%%\n"
    }
   }
  },
  {
   "cell_type": "code",
   "execution_count": null,
   "outputs": [],
   "source": [
    "Exploring scaffold diversity"
   ],
   "metadata": {
    "collapsed": false,
    "pycharm": {
     "name": "#%%\n"
    }
   }
  },
  {
   "cell_type": "code",
   "execution_count": null,
   "outputs": [],
   "source": [
    "medicinal_plants_scaffolds = set()\n",
    "non_medicinal_plants_scaffolds = set()\n",
    "\n",
    "skipped = set()\n",
    "valid_scaffolds = set()\n",
    "\n",
    "for plant_curie, chemical_curie in tqdm(plant_chemical_df.values):\n",
    "    \n",
    "    if chemical_curie not in smiles_from_pubchem_id:\n",
    "        skipped.add(chemical_curie)\n",
    "        continue\n",
    "\n",
    "    valid_scaffolds.add(chemical_curie)\n",
    "\n",
    "    if plant_curie in medicinal_plants:\n",
    "        medicinal_plants_scaffolds.add(smiles_from_pubchem_id[chemical_curie])\n",
    "    else:\n",
    "        non_medicinal_plants_scaffolds.add(smiles_from_pubchem_id[chemical_curie])"
   ],
   "metadata": {
    "collapsed": false,
    "pycharm": {
     "name": "#%%\n"
    }
   }
  },
  {
   "cell_type": "code",
   "execution_count": null,
   "outputs": [],
   "source": [
    "len(skipped), len(valid_scaffolds)"
   ],
   "metadata": {
    "collapsed": false,
    "pycharm": {
     "name": "#%%\n"
    }
   }
  },
  {
   "cell_type": "code",
   "execution_count": 35,
   "metadata": {},
   "outputs": [
    {
     "name": "stderr",
     "output_type": "stream",
     "text": [
      "100%|██████████| 330655/330655 [00:00<00:00, 494256.20it/s]\n"
     ]
    }
   ],
   "source": [
    "medicinal_plants_scaffolds = set()\n",
    "non_medicinal_plants_scaffolds = set()\n",
    "\n",
    "skipped = set()\n",
    "valid_scaffolds = set()\n",
    "\n",
    "for plant_curie, chemical_curie in tqdm(plant_chemical_df.values):\n",
    "    \n",
    "    if chemical_curie not in smiles_from_pubchem_id:\n",
    "        skipped.add(chemical_curie)\n",
    "        continue\n",
    "\n",
    "    valid_scaffolds.add(chemical_curie)\n",
    "\n",
    "    if plant_curie in medicinal_plants:\n",
    "        medicinal_plants_scaffolds.add(smiles_from_pubchem_id[chemical_curie])\n",
    "    else:\n",
    "        non_medicinal_plants_scaffolds.add(smiles_from_pubchem_id[chemical_curie])"
   ]
  },
  {
   "cell_type": "code",
   "execution_count": 36,
   "metadata": {},
   "outputs": [
    {
     "data": {
      "text/plain": [
       "(1225, 69954)"
      ]
     },
     "execution_count": 36,
     "metadata": {},
     "output_type": "execute_result"
    }
   ],
   "source": [
    "len(skipped), len(valid_scaffolds)"
   ]
  },
  {
   "cell_type": "code",
   "execution_count": 38,
   "metadata": {},
   "outputs": [
    {
     "data": {
      "image/png": "[encoded data removed]",
      "text/plain": [
       "<Figure size 2160x1440 with 1 Axes>"
      ]
     },
     "metadata": {},
     "output_type": "display_data"
    }
   ],
   "source": [
    "c3 = venn2(\n",
    "    [medicinal_plants_scaffolds, non_medicinal_plants_scaffolds],\n",
    "    ('Medicinal plants', 'Non medicinal plants'),\n",
    "    set_colors=('#8BCEB2', '#a5b3ce'),\n",
    "    alpha=.8\n",
    ")\n",
    "c3.get_patch_by_id('11').set_color('#efa888')\n",
    "c3.get_patch_by_id('11').set_edgecolor('none')\n",
    "\n",
    "plt.tight_layout()\n",
    "plt.show()"
   ]
  },
  {
   "cell_type": "code",
   "execution_count": null,
   "metadata": {},
   "outputs": [],
   "source": []
  }
 ],
 "metadata": {
  "kernelspec": {
   "display_name": "Python 3",
   "language": "python",
   "name": "python3"
  },
  "language_info": {
   "codemirror_mode": {
    "name": "ipython",
    "version": 3
   },
   "file_extension": ".py",
   "mimetype": "text/x-python",
   "name": "python",
   "nbconvert_exporter": "python",
   "pygments_lexer": "ipython3",
   "version": "3.8.3"
  }
 },
 "nbformat": 4,
 "nbformat_minor": 5
}