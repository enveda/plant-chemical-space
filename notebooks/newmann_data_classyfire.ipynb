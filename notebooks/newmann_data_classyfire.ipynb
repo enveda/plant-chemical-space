{
 "cells": [
  {
   "cell_type": "markdown",
   "id": "ab4b7730",
   "metadata": {
    "pycharm": {
     "name": "#%% md\n"
    }
   },
   "source": [
    "# Classify chemicals using ClassyFire and NPClassifier\n",
    "\n",
    "### Import modules"
   ]
  },
  {
   "cell_type": "code",
   "execution_count": 1,
   "id": "ca46a251",
   "metadata": {
    "pycharm": {
     "name": "#%%\n"
    }
   },
   "outputs": [
    {
     "name": "stderr",
     "output_type": "stream",
     "text": [
      "DEBUG:requests_cache.backends:Initializing backend: <SQLiteCache(name=http_cache)> demo_cache_pybatch\n",
      "INFO:rdkit:Enabling RDKit 2022.09.1 jupyter extensions\n"
     ]
    }
   ],
   "source": [
    "from collections import defaultdict\n",
    "import time\n",
    "import json\n",
    "from pandas import json_normalize\n",
    "from ast import literal_eval\n",
    "\n",
    "from pybatchclassyfire import *\n",
    "import pandas as pd\n",
    "from tqdm import tqdm\n",
    "\n",
    "from rdkit import RDLogger  \n",
    "from rdkit.Chem.inchi import MolToInchi, InchiToInchiKey\n",
    "from rdkit.Chem import MolFromSmiles"
   ]
  },
  {
   "cell_type": "code",
   "execution_count": 2,
   "id": "ce1eaeb4",
   "metadata": {},
   "outputs": [],
   "source": [
    "%config Application.log_level='INFO'\n",
    "import logging\n",
    "logging.getLogger('s3fs').setLevel(logging.INFO)\n",
    "logging.getLogger('botocore').setLevel(logging.INFO)\n",
    "logging.getLogger('fsspec').setLevel(logging.INFO)"
   ]
  },
  {
   "cell_type": "code",
   "execution_count": 3,
   "id": "1b23a991",
   "metadata": {
    "pycharm": {
     "name": "#%%\n"
    }
   },
   "outputs": [],
   "source": [
    "RDLogger.DisableLog('rdApp.*')"
   ]
  },
  {
   "cell_type": "code",
   "execution_count": 4,
   "id": "691a7ec9",
   "metadata": {
    "pycharm": {
     "name": "#%%\n"
    }
   },
   "outputs": [],
   "source": [
    "DATA_DIR = '../data/'"
   ]
  },
  {
   "cell_type": "markdown",
   "id": "55696f7e",
   "metadata": {
    "pycharm": {
     "name": "#%% md\n"
    }
   },
   "source": [
    "Load newmann data"
   ]
  },
  {
   "cell_type": "code",
   "execution_count": 12,
   "id": "e210e476",
   "metadata": {
    "pycharm": {
     "name": "#%%\n"
    }
   },
   "outputs": [],
   "source": [
    "natural_products_df = pd.read_csv(\n",
    "    's3://enveda-data-kg/others/cdd/newman_natural_products.tsv',\n",
    "    sep='\\t',\n",
    "    usecols=[\n",
    "        'curated_name',\n",
    "        'pubchem_name',\n",
    "        'pubchem_id',\n",
    "        'smiles'\n",
    "    ]\n",
    ")\n",
    "\n",
    "synthetics_df = pd.read_csv(\n",
    "    's3://enveda-data-kg/others/cdd/newman_synthetics.tsv',\n",
    "    sep='\\t',\n",
    "    usecols=[\n",
    "        'curated_name',\n",
    "        'pubchem_name',\n",
    "        'pubchem_id',\n",
    "        'smiles'\n",
    "    ]\n",
    ")"
   ]
  },
  {
   "cell_type": "code",
   "execution_count": 13,
   "id": "01463f84",
   "metadata": {
    "pycharm": {
     "name": "#%%\n"
    }
   },
   "outputs": [
    {
     "data": {
      "text/plain": [
       "((398, 4), (935, 4))"
      ]
     },
     "execution_count": 13,
     "metadata": {},
     "output_type": "execute_result"
    }
   ],
   "source": [
    "natural_products_df.shape, synthetics_df.shape"
   ]
  },
  {
   "cell_type": "code",
   "execution_count": 14,
   "id": "f5293eed",
   "metadata": {
    "pycharm": {
     "name": "#%%\n"
    }
   },
   "outputs": [
    {
     "data": {
      "text/html": [
       "<div>\n",
       "<style scoped>\n",
       "    .dataframe tbody tr th:only-of-type {\n",
       "        vertical-align: middle;\n",
       "    }\n",
       "\n",
       "    .dataframe tbody tr th {\n",
       "        vertical-align: top;\n",
       "    }\n",
       "\n",
       "    .dataframe thead th {\n",
       "        text-align: right;\n",
       "    }\n",
       "</style>\n",
       "<table border=\"1\" class=\"dataframe\">\n",
       "  <thead>\n",
       "    <tr style=\"text-align: right;\">\n",
       "      <th></th>\n",
       "      <th>curated_name</th>\n",
       "      <th>pubchem_name</th>\n",
       "      <th>pubchem_id</th>\n",
       "      <th>smiles</th>\n",
       "    </tr>\n",
       "  </thead>\n",
       "  <tbody>\n",
       "    <tr>\n",
       "      <th>0</th>\n",
       "      <td>alizapride</td>\n",
       "      <td>6-methoxy-N-[(1-prop-2-enylpyrrolidin-2-yl)met...</td>\n",
       "      <td>135413504</td>\n",
       "      <td>COC1=CC2=C(C=C1C(=O)NCC3CCCN3CC=C)NN=N2</td>\n",
       "    </tr>\n",
       "    <tr>\n",
       "      <th>1</th>\n",
       "      <td>amezinium methylsulfate</td>\n",
       "      <td>6-methoxy-1-phenylpyridazin-1-ium-4-amine;meth...</td>\n",
       "      <td>71926</td>\n",
       "      <td>COC1=[N+](N=CC(=C1)N)C2=CC=CC=C2.COS(=O)(=O)[O-]</td>\n",
       "    </tr>\n",
       "  </tbody>\n",
       "</table>\n",
       "</div>"
      ],
      "text/plain": [
       "              curated_name                                       pubchem_name  \\\n",
       "0               alizapride  6-methoxy-N-[(1-prop-2-enylpyrrolidin-2-yl)met...   \n",
       "1  amezinium methylsulfate  6-methoxy-1-phenylpyridazin-1-ium-4-amine;meth...   \n",
       "\n",
       "   pubchem_id                                            smiles  \n",
       "0   135413504           COC1=CC2=C(C=C1C(=O)NCC3CCCN3CC=C)NN=N2  \n",
       "1       71926  COC1=[N+](N=CC(=C1)N)C2=CC=CC=C2.COS(=O)(=O)[O-]  "
      ]
     },
     "execution_count": 14,
     "metadata": {},
     "output_type": "execute_result"
    }
   ],
   "source": [
    "synthetics_df.head(2)"
   ]
  },
  {
   "cell_type": "code",
   "execution_count": 15,
   "id": "8c536ec8",
   "metadata": {},
   "outputs": [
    {
     "data": {
      "text/html": [
       "<div>\n",
       "<style scoped>\n",
       "    .dataframe tbody tr th:only-of-type {\n",
       "        vertical-align: middle;\n",
       "    }\n",
       "\n",
       "    .dataframe tbody tr th {\n",
       "        vertical-align: top;\n",
       "    }\n",
       "\n",
       "    .dataframe thead th {\n",
       "        text-align: right;\n",
       "    }\n",
       "</style>\n",
       "<table border=\"1\" class=\"dataframe\">\n",
       "  <thead>\n",
       "    <tr style=\"text-align: right;\">\n",
       "      <th></th>\n",
       "      <th>curated_name</th>\n",
       "      <th>pubchem_name</th>\n",
       "      <th>pubchem_id</th>\n",
       "      <th>smiles</th>\n",
       "    </tr>\n",
       "  </thead>\n",
       "  <tbody>\n",
       "    <tr>\n",
       "      <th>0</th>\n",
       "      <td>aclarubicin</td>\n",
       "      <td>methyl (1R,2R,4S)-4-[(2R,4S,5S,6S)-4-(dimethyl...</td>\n",
       "      <td>451415</td>\n",
       "      <td>CC[C@]1(C[C@@H](C2=C(C3=C(C=C2[C@H]1C(=O)OC)C(...</td>\n",
       "    </tr>\n",
       "    <tr>\n",
       "      <th>1</th>\n",
       "      <td>Netilmicin sulfate</td>\n",
       "      <td>(2R,3R,4R,5R)-2-[(1S,2S,3R,4S,6R)-4-amino-3-[[...</td>\n",
       "      <td>62115</td>\n",
       "      <td>CCN[C@@H]1C[C@@H]([C@H]([C@@H]([C@H]1O[C@@H]2[...</td>\n",
       "    </tr>\n",
       "  </tbody>\n",
       "</table>\n",
       "</div>"
      ],
      "text/plain": [
       "         curated_name                                       pubchem_name  \\\n",
       "0         aclarubicin  methyl (1R,2R,4S)-4-[(2R,4S,5S,6S)-4-(dimethyl...   \n",
       "1  Netilmicin sulfate  (2R,3R,4R,5R)-2-[(1S,2S,3R,4S,6R)-4-amino-3-[[...   \n",
       "\n",
       "   pubchem_id                                             smiles  \n",
       "0      451415  CC[C@]1(C[C@@H](C2=C(C3=C(C=C2[C@H]1C(=O)OC)C(...  \n",
       "1       62115  CCN[C@@H]1C[C@@H]([C@H]([C@@H]([C@H]1O[C@@H]2[...  "
      ]
     },
     "execution_count": 15,
     "metadata": {},
     "output_type": "execute_result"
    }
   ],
   "source": [
    "natural_products_df.head(2)"
   ]
  },
  {
   "cell_type": "code",
   "execution_count": 16,
   "id": "25e62dfe",
   "metadata": {},
   "outputs": [
    {
     "data": {
      "text/plain": [
       "1314"
      ]
     },
     "execution_count": 16,
     "metadata": {},
     "output_type": "execute_result"
    }
   ],
   "source": [
    "smiles_in_data = set(natural_products_df.smiles.unique()).union(\n",
    "    set(synthetics_df.smiles.unique())\n",
    ")\n",
    "len(smiles_in_data)"
   ]
  },
  {
   "cell_type": "markdown",
   "id": "4d2c3b90",
   "metadata": {},
   "source": [
    "### NP-classifier"
   ]
  },
  {
   "cell_type": "code",
   "execution_count": 17,
   "id": "33a36d87",
   "metadata": {
    "pycharm": {
     "name": "#%%\n"
    }
   },
   "outputs": [],
   "source": [
    "np_classifier_df = pd.read_parquet(\n",
    "    's3://enveda-data-kg/kg3/raw_source_downloads/manual_uploads/np_classifier.parquet',\n",
    "#     engine='pyarrow'\n",
    ")"
   ]
  },
  {
   "cell_type": "code",
   "execution_count": 18,
   "id": "f911e8b6",
   "metadata": {
    "pycharm": {
     "name": "#%%\n"
    }
   },
   "outputs": [
    {
     "data": {
      "text/html": [
       "<div>\n",
       "<style scoped>\n",
       "    .dataframe tbody tr th:only-of-type {\n",
       "        vertical-align: middle;\n",
       "    }\n",
       "\n",
       "    .dataframe tbody tr th {\n",
       "        vertical-align: top;\n",
       "    }\n",
       "\n",
       "    .dataframe thead th {\n",
       "        text-align: right;\n",
       "    }\n",
       "</style>\n",
       "<table border=\"1\" class=\"dataframe\">\n",
       "  <thead>\n",
       "    <tr style=\"text-align: right;\">\n",
       "      <th></th>\n",
       "      <th>Unnamed: 0</th>\n",
       "      <th>pubchem_openeye_can_smiles</th>\n",
       "      <th>class_results</th>\n",
       "      <th>superclass_results</th>\n",
       "      <th>pathway_results</th>\n",
       "      <th>is_glycoside</th>\n",
       "    </tr>\n",
       "  </thead>\n",
       "  <tbody>\n",
       "    <tr>\n",
       "      <th>2</th>\n",
       "      <td>2</td>\n",
       "      <td>C1=CC(C(C(=C1)C(=O)O)O)O</td>\n",
       "      <td>['Shikimic acids and derivatives', 'Simple phe...</td>\n",
       "      <td>['Phenolic acids (C6-C1)']</td>\n",
       "      <td>['Shikimates and Phenylpropanoids']</td>\n",
       "      <td>False</td>\n",
       "    </tr>\n",
       "    <tr>\n",
       "      <th>3</th>\n",
       "      <td>3</td>\n",
       "      <td>CC(CN)O</td>\n",
       "      <td>[]</td>\n",
       "      <td>[]</td>\n",
       "      <td>[]</td>\n",
       "      <td>False</td>\n",
       "    </tr>\n",
       "    <tr>\n",
       "      <th>4</th>\n",
       "      <td>4</td>\n",
       "      <td>C(C(=O)COP(=O)(O)O)N</td>\n",
       "      <td>['Aminoacids']</td>\n",
       "      <td>['Small peptides']</td>\n",
       "      <td>['Amino acids and Peptides', 'Shikimates and P...</td>\n",
       "      <td>False</td>\n",
       "    </tr>\n",
       "    <tr>\n",
       "      <th>6</th>\n",
       "      <td>6</td>\n",
       "      <td>CCN1C=NC2=C(N=CN=C21)N</td>\n",
       "      <td>['Purine alkaloids']</td>\n",
       "      <td>['Pseudoalkaloids']</td>\n",
       "      <td>['Alkaloids']</td>\n",
       "      <td>False</td>\n",
       "    </tr>\n",
       "    <tr>\n",
       "      <th>7</th>\n",
       "      <td>7</td>\n",
       "      <td>CCC(C)(C(C(=O)O)O)O</td>\n",
       "      <td>['Hydroxy fatty acids']</td>\n",
       "      <td>['Fatty Acids and Conjugates']</td>\n",
       "      <td>['Fatty acids']</td>\n",
       "      <td>False</td>\n",
       "    </tr>\n",
       "  </tbody>\n",
       "</table>\n",
       "</div>"
      ],
      "text/plain": [
       "   Unnamed: 0 pubchem_openeye_can_smiles  \\\n",
       "2           2   C1=CC(C(C(=C1)C(=O)O)O)O   \n",
       "3           3                    CC(CN)O   \n",
       "4           4       C(C(=O)COP(=O)(O)O)N   \n",
       "6           6     CCN1C=NC2=C(N=CN=C21)N   \n",
       "7           7        CCC(C)(C(C(=O)O)O)O   \n",
       "\n",
       "                                       class_results  \\\n",
       "2  ['Shikimic acids and derivatives', 'Simple phe...   \n",
       "3                                                 []   \n",
       "4                                     ['Aminoacids']   \n",
       "6                               ['Purine alkaloids']   \n",
       "7                            ['Hydroxy fatty acids']   \n",
       "\n",
       "               superclass_results  \\\n",
       "2      ['Phenolic acids (C6-C1)']   \n",
       "3                              []   \n",
       "4              ['Small peptides']   \n",
       "6             ['Pseudoalkaloids']   \n",
       "7  ['Fatty Acids and Conjugates']   \n",
       "\n",
       "                                     pathway_results  is_glycoside  \n",
       "2                ['Shikimates and Phenylpropanoids']         False  \n",
       "3                                                 []         False  \n",
       "4  ['Amino acids and Peptides', 'Shikimates and P...         False  \n",
       "6                                      ['Alkaloids']         False  \n",
       "7                                    ['Fatty acids']         False  "
      ]
     },
     "execution_count": 18,
     "metadata": {},
     "output_type": "execute_result"
    }
   ],
   "source": [
    "np_classifier_df.head(5)"
   ]
  },
  {
   "cell_type": "code",
   "execution_count": 20,
   "id": "287aae5e",
   "metadata": {
    "pycharm": {
     "name": "#%%\n"
    }
   },
   "outputs": [],
   "source": [
    "smiles_to_np_classifier = {}\n",
    "\n",
    "all_classes = set()\n",
    "all_superclasses = set()\n",
    "all_pathways = set()\n",
    "\n",
    "for _, smiles, classes, superclasses, pathways, is_glycoside in np_classifier_df.values:\n",
    "    \n",
    "    if smiles not in smiles_in_data:\n",
    "        continue\n",
    "        \n",
    "    for clas in literal_eval(classes):\n",
    "        all_classes.add(clas)\n",
    "        \n",
    "    for clas in literal_eval(superclasses):\n",
    "        all_superclasses.add(clas)\n",
    "        \n",
    "    for clas in literal_eval(pathways):\n",
    "        all_pathways.add(clas)\n",
    "        \n",
    "    smiles_to_np_classifier[smiles] = {\n",
    "        \"classes\": literal_eval(classes),\n",
    "        \"superclasses\": literal_eval(superclasses),\n",
    "        \"pathways\": literal_eval(pathways),\n",
    "        \"is_glycoside\": is_glycoside,\n",
    "    }\n",
    "    "
   ]
  },
  {
   "cell_type": "code",
   "execution_count": 21,
   "id": "89375f0f",
   "metadata": {
    "pycharm": {
     "name": "#%%\n"
    }
   },
   "outputs": [
    {
     "data": {
      "text/plain": [
       "(42, 24, 7)"
      ]
     },
     "execution_count": 21,
     "metadata": {},
     "output_type": "execute_result"
    }
   ],
   "source": [
    "len(all_classes), len(all_superclasses), len(all_pathways)"
   ]
  },
  {
   "cell_type": "markdown",
   "id": "db0df9c0",
   "metadata": {
    "pycharm": {
     "name": "#%% md\n"
    }
   },
   "source": [
    "Ping API"
   ]
  },
  {
   "cell_type": "code",
   "execution_count": 17,
   "id": "489ea991",
   "metadata": {
    "pycharm": {
     "name": "#%%\n"
    }
   },
   "outputs": [
    {
     "name": "stdout",
     "output_type": "stream",
     "text": [
      "69891 inchikey to resolve\n",
      "64321 resolved smiles\n",
      "done in --- 473.6717128753662 seconds ---\n",
      "69891 inchikey to resolve\n",
      "64321 resolved smiles\n",
      "done in --- 147.92391800880432 seconds ---\n",
      "69891 inchikey to resolve\n",
      "64321 resolved smiles\n",
      "done in --- 135.92525792121887 seconds ---\n"
     ]
    }
   ],
   "source": [
    "resolved_ik_number_list = [0, 0]\n",
    "total_inchi_number = len(all_inchikeys)\n",
    "\n",
    "while True:\n",
    "    \n",
    "    start_time = time.time()\n",
    "    \n",
    "    print('%s inchikey to resolve' % total_inchi_number )\n",
    "    get_classifications_cf_mod(all_inchikeys, par_level= 50)\n",
    "    \n",
    "    cleanse('all_json.json', 'all_json.json')\n",
    "    \n",
    "    with open(\"all_json.json\") as tweetfile:\n",
    "        jsondic = json.loads(tweetfile.read())\n",
    "\n",
    "    df = json_normalize(jsondic)\n",
    "    df = df.drop_duplicates('smiles')\n",
    "    resolved_ik_number = len( df.drop_duplicates('smiles').inchikey )\n",
    "    resolved_ik_number_list.append( resolved_ik_number )\n",
    "    print('%s resolved smiles' % resolved_ik_number )\n",
    "    print(\"done in --- %s seconds ---\" % (time.time() - start_time))\n",
    "    \n",
    "    if resolved_ik_number_list[-1] < resolved_ik_number_list[-2] or resolved_ik_number_list[-1] == resolved_ik_number_list[-3]:\n",
    "        break"
   ]
  },
  {
   "cell_type": "code",
   "execution_count": 18,
   "id": "8e0cf925",
   "metadata": {
    "pycharm": {
     "name": "#%%\n"
    }
   },
   "outputs": [
    {
     "data": {
      "text/html": [
       "<div>\n",
       "<style scoped>\n",
       "    .dataframe tbody tr th:only-of-type {\n",
       "        vertical-align: middle;\n",
       "    }\n",
       "\n",
       "    .dataframe tbody tr th {\n",
       "        vertical-align: top;\n",
       "    }\n",
       "\n",
       "    .dataframe thead th {\n",
       "        text-align: right;\n",
       "    }\n",
       "</style>\n",
       "<table border=\"1\" class=\"dataframe\">\n",
       "  <thead>\n",
       "    <tr style=\"text-align: right;\">\n",
       "      <th></th>\n",
       "      <th>smiles</th>\n",
       "      <th>inchikey</th>\n",
       "      <th>intermediate_nodes</th>\n",
       "      <th>alternative_parents</th>\n",
       "      <th>molecular_framework</th>\n",
       "      <th>substituents</th>\n",
       "      <th>description</th>\n",
       "      <th>external_descriptors</th>\n",
       "      <th>ancestors</th>\n",
       "      <th>predicted_chebi_terms</th>\n",
       "      <th>...</th>\n",
       "      <th>subclass.name</th>\n",
       "      <th>subclass.description</th>\n",
       "      <th>subclass.chemont_id</th>\n",
       "      <th>subclass.url</th>\n",
       "      <th>direct_parent.name</th>\n",
       "      <th>direct_parent.description</th>\n",
       "      <th>direct_parent.chemont_id</th>\n",
       "      <th>direct_parent.url</th>\n",
       "      <th>identifier</th>\n",
       "      <th>report</th>\n",
       "    </tr>\n",
       "  </thead>\n",
       "  <tbody>\n",
       "    <tr>\n",
       "      <th>0</th>\n",
       "      <td>[H]C1(C)CCC2(CCC3(C)C(=CCC4([H])C5(C)CCC([H])(...</td>\n",
       "      <td>InChIKey=RRIMLWHUVCZACL-UHFFFAOYSA-N</td>\n",
       "      <td>[{'name': 'Triterpene glycosides', 'descriptio...</td>\n",
       "      <td>[{'name': 'Triterpenoids', 'description': 'Ter...</td>\n",
       "      <td>Aliphatic heteropolycyclic compounds</td>\n",
       "      <td>[Triterpene saponin, Triterpenoid, Hexose mono...</td>\n",
       "      <td>This compound belongs to the class of organic ...</td>\n",
       "      <td>[]</td>\n",
       "      <td>[Acetals, Alcohols and polyols, Carbohydrates ...</td>\n",
       "      <td>[triterpenoid (CHEBI:36615), hexose (CHEBI:181...</td>\n",
       "      <td>...</td>\n",
       "      <td>Terpene glycosides</td>\n",
       "      <td>Prenol lipids containing a carbohydrate moiety...</td>\n",
       "      <td>CHEMONTID:0002049</td>\n",
       "      <td>http://classyfire.wishartlab.com/tax_nodes/C00...</td>\n",
       "      <td>Triterpene saponins</td>\n",
       "      <td>Glycosylated derivatives of triterpene sapogen...</td>\n",
       "      <td>CHEMONTID:0002358</td>\n",
       "      <td>http://classyfire.wishartlab.com/tax_nodes/C00...</td>\n",
       "      <td>NaN</td>\n",
       "      <td>NaN</td>\n",
       "    </tr>\n",
       "    <tr>\n",
       "      <th>1</th>\n",
       "      <td>C[C@@]1(CC[C@@]2(C)[C@@H](CC[C@@]3(C)[C@@H]2C=...</td>\n",
       "      <td>InChIKey=CVAILKMOFONEDU-KRJMWWHISA-N</td>\n",
       "      <td>[]</td>\n",
       "      <td>[{'name': 'Sesquiterpenoids', 'description': '...</td>\n",
       "      <td>Aliphatic homopolycyclic compounds</td>\n",
       "      <td>[18-oxosteroid, Oxosteroid, Sesquiterpenoid, H...</td>\n",
       "      <td>This compound belongs to the class of organic ...</td>\n",
       "      <td>[]</td>\n",
       "      <td>[Benzenoids, Carbonyl compounds, Carboxylic ac...</td>\n",
       "      <td>[sesquiterpenoid (CHEBI:26658), phenanthrenes ...</td>\n",
       "      <td>...</td>\n",
       "      <td>Oxosteroids</td>\n",
       "      <td>Steroid derivatives carrying a C=O group attac...</td>\n",
       "      <td>CHEMONTID:0001194</td>\n",
       "      <td>http://classyfire.wishartlab.com/tax_nodes/C00...</td>\n",
       "      <td>Oxosteroids</td>\n",
       "      <td>Steroid derivatives carrying a C=O group attac...</td>\n",
       "      <td>CHEMONTID:0001194</td>\n",
       "      <td>http://classyfire.wishartlab.com/tax_nodes/C00...</td>\n",
       "      <td>NaN</td>\n",
       "      <td>NaN</td>\n",
       "    </tr>\n",
       "    <tr>\n",
       "      <th>2</th>\n",
       "      <td>COC1=C(OC)C2=C(C=C1)C(=O)C1=C(O)C(C3C(OC4=C3C3...</td>\n",
       "      <td>InChIKey=BDURUBOYNAVRCF-UHFFFAOYSA-N</td>\n",
       "      <td>[{'name': 'Acridines', 'description': 'Organic...</td>\n",
       "      <td>[{'name': 'Hydroquinolones', 'description': 'C...</td>\n",
       "      <td>Aromatic heteropolycyclic compounds</td>\n",
       "      <td>[Acridone, Dihydroquinolone, Dihydroquinoline,...</td>\n",
       "      <td>This compound belongs to the class of organic ...</td>\n",
       "      <td>[]</td>\n",
       "      <td>[1-hydroxy-2-unsubstituted benzenoids, 1-hydro...</td>\n",
       "      <td>[quinolines (CHEBI:26513), 1-benzofurans (CHEB...</td>\n",
       "      <td>...</td>\n",
       "      <td>Benzoquinolines</td>\n",
       "      <td>Organic compounds containing a benzene fused t...</td>\n",
       "      <td>CHEMONTID:0001908</td>\n",
       "      <td>http://classyfire.wishartlab.com/tax_nodes/C00...</td>\n",
       "      <td>Acridones</td>\n",
       "      <td>Acridines containing a ketone group attached t...</td>\n",
       "      <td>CHEMONTID:0001811</td>\n",
       "      <td>http://classyfire.wishartlab.com/tax_nodes/C00...</td>\n",
       "      <td>NaN</td>\n",
       "      <td>NaN</td>\n",
       "    </tr>\n",
       "    <tr>\n",
       "      <th>3</th>\n",
       "      <td>CC(=O)OCC12C(CC(C)(O)C3(CC(OC3=O)c3ccoc3)C1(O)...</td>\n",
       "      <td>InChIKey=PLNVNTKQZPPADC-UHFFFAOYSA-N</td>\n",
       "      <td>[]</td>\n",
       "      <td>[{'name': 'Gamma butyrolactones', 'description...</td>\n",
       "      <td>Aromatic heteropolycyclic compounds</td>\n",
       "      <td>[Tricarboxylic acid or derivatives, Gamma buty...</td>\n",
       "      <td>This compound belongs to the class of organic ...</td>\n",
       "      <td>[]</td>\n",
       "      <td>[Alcohols and polyols, Carbonyl compounds, Car...</td>\n",
       "      <td>[gamma-lactone (CHEBI:37581), oxolanes (CHEBI:...</td>\n",
       "      <td>...</td>\n",
       "      <td>Tricarboxylic acids and derivatives</td>\n",
       "      <td>Carboxylic acids containing exactly three carb...</td>\n",
       "      <td>CHEMONTID:0001986</td>\n",
       "      <td>http://classyfire.wishartlab.com/tax_nodes/C00...</td>\n",
       "      <td>Tricarboxylic acids and derivatives</td>\n",
       "      <td>Carboxylic acids containing exactly three carb...</td>\n",
       "      <td>CHEMONTID:0001986</td>\n",
       "      <td>http://classyfire.wishartlab.com/tax_nodes/C00...</td>\n",
       "      <td>NaN</td>\n",
       "      <td>NaN</td>\n",
       "    </tr>\n",
       "    <tr>\n",
       "      <th>4</th>\n",
       "      <td>COC(=O)[C@H](C\\C=C\\C(C)(C)O)[C@@H]1[C@@H](O)C[...</td>\n",
       "      <td>InChIKey=KTEXQEFLIOIDKM-GEMWEJHDSA-N</td>\n",
       "      <td>[]</td>\n",
       "      <td>[{'name': 'Cholesterols and derivatives', 'des...</td>\n",
       "      <td>Aliphatic homopolycyclic compounds</td>\n",
       "      <td>[Triterpenoid, Cholesterol-skeleton, Cholestan...</td>\n",
       "      <td>This compound belongs to the class of organic ...</td>\n",
       "      <td>[]</td>\n",
       "      <td>[16-beta-hydroxysteroids, 16-hydroxysteroids, ...</td>\n",
       "      <td>[cholestanoid (CHEBI:50401), cholanoid (CHEBI:...</td>\n",
       "      <td>...</td>\n",
       "      <td>Triterpenoids</td>\n",
       "      <td>Terpene molecules containing six isoprene units.</td>\n",
       "      <td>CHEMONTID:0001553</td>\n",
       "      <td>http://classyfire.wishartlab.com/tax_nodes/C00...</td>\n",
       "      <td>Triterpenoids</td>\n",
       "      <td>Terpene molecules containing six isoprene units.</td>\n",
       "      <td>CHEMONTID:0001553</td>\n",
       "      <td>http://classyfire.wishartlab.com/tax_nodes/C00...</td>\n",
       "      <td>NaN</td>\n",
       "      <td>NaN</td>\n",
       "    </tr>\n",
       "  </tbody>\n",
       "</table>\n",
       "<p>5 rows × 34 columns</p>\n",
       "</div>"
      ],
      "text/plain": [
       "                                              smiles  \\\n",
       "0  [H]C1(C)CCC2(CCC3(C)C(=CCC4([H])C5(C)CCC([H])(...   \n",
       "1  C[C@@]1(CC[C@@]2(C)[C@@H](CC[C@@]3(C)[C@@H]2C=...   \n",
       "2  COC1=C(OC)C2=C(C=C1)C(=O)C1=C(O)C(C3C(OC4=C3C3...   \n",
       "3  CC(=O)OCC12C(CC(C)(O)C3(CC(OC3=O)c3ccoc3)C1(O)...   \n",
       "4  COC(=O)[C@H](C\\C=C\\C(C)(C)O)[C@@H]1[C@@H](O)C[...   \n",
       "\n",
       "                               inchikey  \\\n",
       "0  InChIKey=RRIMLWHUVCZACL-UHFFFAOYSA-N   \n",
       "1  InChIKey=CVAILKMOFONEDU-KRJMWWHISA-N   \n",
       "2  InChIKey=BDURUBOYNAVRCF-UHFFFAOYSA-N   \n",
       "3  InChIKey=PLNVNTKQZPPADC-UHFFFAOYSA-N   \n",
       "4  InChIKey=KTEXQEFLIOIDKM-GEMWEJHDSA-N   \n",
       "\n",
       "                                  intermediate_nodes  \\\n",
       "0  [{'name': 'Triterpene glycosides', 'descriptio...   \n",
       "1                                                 []   \n",
       "2  [{'name': 'Acridines', 'description': 'Organic...   \n",
       "3                                                 []   \n",
       "4                                                 []   \n",
       "\n",
       "                                 alternative_parents  \\\n",
       "0  [{'name': 'Triterpenoids', 'description': 'Ter...   \n",
       "1  [{'name': 'Sesquiterpenoids', 'description': '...   \n",
       "2  [{'name': 'Hydroquinolones', 'description': 'C...   \n",
       "3  [{'name': 'Gamma butyrolactones', 'description...   \n",
       "4  [{'name': 'Cholesterols and derivatives', 'des...   \n",
       "\n",
       "                    molecular_framework  \\\n",
       "0  Aliphatic heteropolycyclic compounds   \n",
       "1    Aliphatic homopolycyclic compounds   \n",
       "2   Aromatic heteropolycyclic compounds   \n",
       "3   Aromatic heteropolycyclic compounds   \n",
       "4    Aliphatic homopolycyclic compounds   \n",
       "\n",
       "                                        substituents  \\\n",
       "0  [Triterpene saponin, Triterpenoid, Hexose mono...   \n",
       "1  [18-oxosteroid, Oxosteroid, Sesquiterpenoid, H...   \n",
       "2  [Acridone, Dihydroquinolone, Dihydroquinoline,...   \n",
       "3  [Tricarboxylic acid or derivatives, Gamma buty...   \n",
       "4  [Triterpenoid, Cholesterol-skeleton, Cholestan...   \n",
       "\n",
       "                                         description external_descriptors  \\\n",
       "0  This compound belongs to the class of organic ...                   []   \n",
       "1  This compound belongs to the class of organic ...                   []   \n",
       "2  This compound belongs to the class of organic ...                   []   \n",
       "3  This compound belongs to the class of organic ...                   []   \n",
       "4  This compound belongs to the class of organic ...                   []   \n",
       "\n",
       "                                           ancestors  \\\n",
       "0  [Acetals, Alcohols and polyols, Carbohydrates ...   \n",
       "1  [Benzenoids, Carbonyl compounds, Carboxylic ac...   \n",
       "2  [1-hydroxy-2-unsubstituted benzenoids, 1-hydro...   \n",
       "3  [Alcohols and polyols, Carbonyl compounds, Car...   \n",
       "4  [16-beta-hydroxysteroids, 16-hydroxysteroids, ...   \n",
       "\n",
       "                               predicted_chebi_terms  ...  \\\n",
       "0  [triterpenoid (CHEBI:36615), hexose (CHEBI:181...  ...   \n",
       "1  [sesquiterpenoid (CHEBI:26658), phenanthrenes ...  ...   \n",
       "2  [quinolines (CHEBI:26513), 1-benzofurans (CHEB...  ...   \n",
       "3  [gamma-lactone (CHEBI:37581), oxolanes (CHEBI:...  ...   \n",
       "4  [cholestanoid (CHEBI:50401), cholanoid (CHEBI:...  ...   \n",
       "\n",
       "                         subclass.name  \\\n",
       "0                   Terpene glycosides   \n",
       "1                          Oxosteroids   \n",
       "2                      Benzoquinolines   \n",
       "3  Tricarboxylic acids and derivatives   \n",
       "4                        Triterpenoids   \n",
       "\n",
       "                                subclass.description subclass.chemont_id  \\\n",
       "0  Prenol lipids containing a carbohydrate moiety...   CHEMONTID:0002049   \n",
       "1  Steroid derivatives carrying a C=O group attac...   CHEMONTID:0001194   \n",
       "2  Organic compounds containing a benzene fused t...   CHEMONTID:0001908   \n",
       "3  Carboxylic acids containing exactly three carb...   CHEMONTID:0001986   \n",
       "4   Terpene molecules containing six isoprene units.   CHEMONTID:0001553   \n",
       "\n",
       "                                        subclass.url  \\\n",
       "0  http://classyfire.wishartlab.com/tax_nodes/C00...   \n",
       "1  http://classyfire.wishartlab.com/tax_nodes/C00...   \n",
       "2  http://classyfire.wishartlab.com/tax_nodes/C00...   \n",
       "3  http://classyfire.wishartlab.com/tax_nodes/C00...   \n",
       "4  http://classyfire.wishartlab.com/tax_nodes/C00...   \n",
       "\n",
       "                    direct_parent.name  \\\n",
       "0                  Triterpene saponins   \n",
       "1                          Oxosteroids   \n",
       "2                            Acridones   \n",
       "3  Tricarboxylic acids and derivatives   \n",
       "4                        Triterpenoids   \n",
       "\n",
       "                           direct_parent.description direct_parent.chemont_id  \\\n",
       "0  Glycosylated derivatives of triterpene sapogen...        CHEMONTID:0002358   \n",
       "1  Steroid derivatives carrying a C=O group attac...        CHEMONTID:0001194   \n",
       "2  Acridines containing a ketone group attached t...        CHEMONTID:0001811   \n",
       "3  Carboxylic acids containing exactly three carb...        CHEMONTID:0001986   \n",
       "4   Terpene molecules containing six isoprene units.        CHEMONTID:0001553   \n",
       "\n",
       "                                   direct_parent.url identifier report  \n",
       "0  http://classyfire.wishartlab.com/tax_nodes/C00...        NaN    NaN  \n",
       "1  http://classyfire.wishartlab.com/tax_nodes/C00...        NaN    NaN  \n",
       "2  http://classyfire.wishartlab.com/tax_nodes/C00...        NaN    NaN  \n",
       "3  http://classyfire.wishartlab.com/tax_nodes/C00...        NaN    NaN  \n",
       "4  http://classyfire.wishartlab.com/tax_nodes/C00...        NaN    NaN  \n",
       "\n",
       "[5 rows x 34 columns]"
      ]
     },
     "execution_count": 18,
     "metadata": {},
     "output_type": "execute_result"
    }
   ],
   "source": [
    "df.head()"
   ]
  },
  {
   "cell_type": "code",
   "execution_count": 20,
   "id": "5470cf1e",
   "metadata": {
    "pycharm": {
     "name": "#%%\n"
    }
   },
   "outputs": [],
   "source": [
    "df.to_csv('classyfire_smiles.tsv.gz', sep='\\t', compression='gzip')"
   ]
  },
  {
   "cell_type": "code",
   "execution_count": 22,
   "id": "7050b4c9",
   "metadata": {
    "pycharm": {
     "name": "#%%\n"
    }
   },
   "outputs": [],
   "source": [
    "np_classifier_df.to_csv('npclassifier_smiles.tsv.gz', sep='\\t', compression='gzip')"
   ]
  },
  {
   "cell_type": "code",
   "execution_count": null,
   "id": "2df0936f",
   "metadata": {
    "pycharm": {
     "name": "#%%\n"
    }
   },
   "outputs": [],
   "source": []
  }
 ],
 "metadata": {
  "kernelspec": {
   "display_name": "plant_chem_space",
   "language": "python",
   "name": "plant_chem_space"
  },
  "language_info": {
   "codemirror_mode": {
    "name": "ipython",
    "version": 3
   },
   "file_extension": ".py",
   "mimetype": "text/x-python",
   "name": "python",
   "nbconvert_exporter": "python",
   "pygments_lexer": "ipython3",
   "version": "3.9.16"
  }
 },
 "nbformat": 4,
 "nbformat_minor": 5
}
