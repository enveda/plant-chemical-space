{
 "cells": [
  {
   "attachments": {},
   "cell_type": "markdown",
   "id": "0dbc4871",
   "metadata": {
    "pycharm": {
     "name": "#%% md\n"
    }
   },
   "source": [
    "# Generating taxonomy for the plant-chemical space\n",
    "\n",
    "### Import modules"
   ]
  },
  {
   "cell_type": "code",
   "execution_count": 1,
   "id": "71f3bba3",
   "metadata": {
    "pycharm": {
     "name": "#%%\n"
    }
   },
   "outputs": [],
   "source": [
    "import os\n",
    "from collections import defaultdict\n",
    "import pandas as pd\n",
    "import numpy as np\n",
    "from tqdm import tqdm\n",
    "\n",
    "# Import taxonomy\n",
    "from utils import get_genus_and_family_info_for_plants, ncbitaxon_curies_to_names, create_taxon_compound_vectors\n",
    "from ete3 import NCBITaxa"
   ]
  },
  {
   "cell_type": "code",
   "execution_count": 2,
   "id": "13ef748e",
   "metadata": {},
   "outputs": [],
   "source": [
    "tqdm.pandas()\n",
    "pd.set_option('display.max_columns', None)"
   ]
  },
  {
   "cell_type": "markdown",
   "id": "8c8e6866",
   "metadata": {},
   "source": [
    "### Load chemicals"
   ]
  },
  {
   "cell_type": "code",
   "execution_count": 3,
   "id": "59de5709",
   "metadata": {},
   "outputs": [],
   "source": [
    "DATA_DIR = '../data'"
   ]
  },
  {
   "cell_type": "code",
   "execution_count": 4,
   "id": "45997628",
   "metadata": {},
   "outputs": [],
   "source": [
    "plant_chemical_df = pd.read_csv(\n",
    "    's3://enveda-datascience/daniel_domingo/plant_chemical_associations.tsv.gz',\n",
    "    compression='gzip',\n",
    "    sep='\\t',\n",
    "    usecols=[\n",
    "        'plant_curie',\n",
    "        'chemical_curie',\n",
    "    ]\n",
    ")"
   ]
  },
  {
   "cell_type": "code",
   "execution_count": 5,
   "id": "3da6c316",
   "metadata": {
    "pycharm": {
     "name": "#%%\n"
    },
    "scrolled": true
   },
   "outputs": [
    {
     "data": {
      "text/html": [
       "<div>\n",
       "<style scoped>\n",
       "    .dataframe tbody tr th:only-of-type {\n",
       "        vertical-align: middle;\n",
       "    }\n",
       "\n",
       "    .dataframe tbody tr th {\n",
       "        vertical-align: top;\n",
       "    }\n",
       "\n",
       "    .dataframe thead th {\n",
       "        text-align: right;\n",
       "    }\n",
       "</style>\n",
       "<table border=\"1\" class=\"dataframe\">\n",
       "  <thead>\n",
       "    <tr style=\"text-align: right;\">\n",
       "      <th></th>\n",
       "      <th>plant_curie</th>\n",
       "      <th>chemical_curie</th>\n",
       "    </tr>\n",
       "  </thead>\n",
       "  <tbody>\n",
       "    <tr>\n",
       "      <th>0</th>\n",
       "      <td>ncbitaxon:1000425</td>\n",
       "      <td>pubchem.compound:3527</td>\n",
       "    </tr>\n",
       "  </tbody>\n",
       "</table>\n",
       "</div>"
      ],
      "text/plain": [
       "         plant_curie         chemical_curie\n",
       "0  ncbitaxon:1000425  pubchem.compound:3527"
      ]
     },
     "execution_count": 5,
     "metadata": {},
     "output_type": "execute_result"
    }
   ],
   "source": [
    "plant_chemical_df.head(1)"
   ]
  },
  {
   "cell_type": "code",
   "execution_count": 6,
   "id": "c2282f26",
   "metadata": {
    "pycharm": {
     "name": "#%%\n"
    }
   },
   "outputs": [
    {
     "data": {
      "text/plain": [
       "87019"
      ]
     },
     "execution_count": 6,
     "metadata": {},
     "output_type": "execute_result"
    }
   ],
   "source": [
    "len(plant_chemical_df.chemical_curie.unique())"
   ]
  },
  {
   "cell_type": "markdown",
   "id": "56255056",
   "metadata": {},
   "source": [
    "## Generating family chemical space vectors"
   ]
  },
  {
   "cell_type": "code",
   "execution_count": 7,
   "id": "7ea6156f",
   "metadata": {},
   "outputs": [],
   "source": [
    "plant_disease_df = pd.read_csv(\n",
    "    's3://enveda-datascience/daniel_domingo/plant_disease_associations.tsv.gz',\n",
    "    compression='gzip',\n",
    "    sep='\\t',\n",
    "    usecols=[\n",
    "        'plant_curie',\n",
    "        'disease_curie',\n",
    "    ]\n",
    ")"
   ]
  },
  {
   "cell_type": "code",
   "execution_count": 8,
   "id": "5e59dd4c",
   "metadata": {},
   "outputs": [],
   "source": [
    "medicinal_plants = set(plant_disease_df.plant_curie.unique())"
   ]
  },
  {
   "cell_type": "code",
   "execution_count": 9,
   "id": "13d813a2",
   "metadata": {},
   "outputs": [],
   "source": [
    "if os.path.exists(f'{DATA_DIR}/family_chemical_count.tsv'):\n",
    "    family_df = pd.read_csv(f'{DATA_DIR}/family_chemical_count.tsv', sep='\\t')\n",
    "else:\n",
    "    genus_to_species, family_to_species = get_genus_and_family_info_for_plants(\n",
    "        set(plant_chemical_df.plant_curie.unique())\n",
    "    )\n",
    "    family_df = create_taxon_compound_vectors(family_to_species, plant_chemical_df, med_plants=medicinal_plants)\n",
    "    family_df.to_csv(f'{DATA_DIR}/family_chemical_count.tsv', sep='\\t', index=False)\n",
    "    "
   ]
  },
  {
   "cell_type": "code",
   "execution_count": 10,
   "id": "1da860dc",
   "metadata": {
    "scrolled": false
   },
   "outputs": [
    {
     "data": {
      "text/html": [
       "<div>\n",
       "<style scoped>\n",
       "    .dataframe tbody tr th:only-of-type {\n",
       "        vertical-align: middle;\n",
       "    }\n",
       "\n",
       "    .dataframe tbody tr th {\n",
       "        vertical-align: top;\n",
       "    }\n",
       "\n",
       "    .dataframe thead th {\n",
       "        text-align: right;\n",
       "    }\n",
       "</style>\n",
       "<table border=\"1\" class=\"dataframe\">\n",
       "  <thead>\n",
       "    <tr style=\"text-align: right;\">\n",
       "      <th></th>\n",
       "      <th>family</th>\n",
       "      <th># chemicals</th>\n",
       "      <th># family specific chemicals</th>\n",
       "      <th># med plants</th>\n",
       "      <th># plants in fam</th>\n",
       "      <th>plants in fam</th>\n",
       "    </tr>\n",
       "  </thead>\n",
       "  <tbody>\n",
       "    <tr>\n",
       "      <th>0</th>\n",
       "      <td>ncbitaxon:3536</td>\n",
       "      <td>243</td>\n",
       "      <td>59</td>\n",
       "      <td>5</td>\n",
       "      <td>15</td>\n",
       "      <td>['ncbitaxon:122400', 'ncbitaxon:427792', 'ncbi...</td>\n",
       "    </tr>\n",
       "    <tr>\n",
       "      <th>1</th>\n",
       "      <td>ncbitaxon:4037</td>\n",
       "      <td>4652</td>\n",
       "      <td>1487</td>\n",
       "      <td>105</td>\n",
       "      <td>436</td>\n",
       "      <td>['ncbitaxon:692015', 'ncbitaxon:1534653', 'ncb...</td>\n",
       "    </tr>\n",
       "  </tbody>\n",
       "</table>\n",
       "</div>"
      ],
      "text/plain": [
       "           family  # chemicals  # family specific chemicals  # med plants  \\\n",
       "0  ncbitaxon:3536          243                           59             5   \n",
       "1  ncbitaxon:4037         4652                         1487           105   \n",
       "\n",
       "   # plants in fam                                      plants in fam  \n",
       "0               15  ['ncbitaxon:122400', 'ncbitaxon:427792', 'ncbi...  \n",
       "1              436  ['ncbitaxon:692015', 'ncbitaxon:1534653', 'ncb...  "
      ]
     },
     "execution_count": 10,
     "metadata": {},
     "output_type": "execute_result"
    }
   ],
   "source": [
    "family_df.head(2)"
   ]
  },
  {
   "cell_type": "markdown",
   "id": "8eb1af23",
   "metadata": {},
   "source": [
    "# Mapping families to their names"
   ]
  },
  {
   "cell_type": "code",
   "execution_count": 11,
   "id": "57872695",
   "metadata": {},
   "outputs": [
    {
     "data": {
      "text/plain": [
       "513"
      ]
     },
     "execution_count": 11,
     "metadata": {},
     "output_type": "execute_result"
    }
   ],
   "source": [
    "plant_names = ncbitaxon_curies_to_names(family_df.family.unique())\n",
    "len(plant_names)"
   ]
  },
  {
   "cell_type": "code",
   "execution_count": 12,
   "id": "636f5c98",
   "metadata": {},
   "outputs": [
    {
     "data": {
      "text/html": [
       "<div>\n",
       "<style scoped>\n",
       "    .dataframe tbody tr th:only-of-type {\n",
       "        vertical-align: middle;\n",
       "    }\n",
       "\n",
       "    .dataframe tbody tr th {\n",
       "        vertical-align: top;\n",
       "    }\n",
       "\n",
       "    .dataframe thead th {\n",
       "        text-align: right;\n",
       "    }\n",
       "</style>\n",
       "<table border=\"1\" class=\"dataframe\">\n",
       "  <thead>\n",
       "    <tr style=\"text-align: right;\">\n",
       "      <th></th>\n",
       "      <th>family</th>\n",
       "      <th># chemicals</th>\n",
       "      <th># family specific chemicals</th>\n",
       "      <th># med plants</th>\n",
       "      <th># plants in fam</th>\n",
       "      <th>plants in fam</th>\n",
       "      <th>fam_name</th>\n",
       "    </tr>\n",
       "  </thead>\n",
       "  <tbody>\n",
       "    <tr>\n",
       "      <th>0</th>\n",
       "      <td>ncbitaxon:3536</td>\n",
       "      <td>243</td>\n",
       "      <td>59</td>\n",
       "      <td>5</td>\n",
       "      <td>15</td>\n",
       "      <td>['ncbitaxon:122400', 'ncbitaxon:427792', 'ncbi...</td>\n",
       "      <td>Nyctaginaceae</td>\n",
       "    </tr>\n",
       "    <tr>\n",
       "      <th>1</th>\n",
       "      <td>ncbitaxon:4037</td>\n",
       "      <td>4652</td>\n",
       "      <td>1487</td>\n",
       "      <td>105</td>\n",
       "      <td>436</td>\n",
       "      <td>['ncbitaxon:692015', 'ncbitaxon:1534653', 'ncb...</td>\n",
       "      <td>Apiaceae</td>\n",
       "    </tr>\n",
       "  </tbody>\n",
       "</table>\n",
       "</div>"
      ],
      "text/plain": [
       "           family  # chemicals  # family specific chemicals  # med plants  \\\n",
       "0  ncbitaxon:3536          243                           59             5   \n",
       "1  ncbitaxon:4037         4652                         1487           105   \n",
       "\n",
       "   # plants in fam                                      plants in fam  \\\n",
       "0               15  ['ncbitaxon:122400', 'ncbitaxon:427792', 'ncbi...   \n",
       "1              436  ['ncbitaxon:692015', 'ncbitaxon:1534653', 'ncb...   \n",
       "\n",
       "        fam_name  \n",
       "0  Nyctaginaceae  \n",
       "1       Apiaceae  "
      ]
     },
     "execution_count": 12,
     "metadata": {},
     "output_type": "execute_result"
    }
   ],
   "source": [
    "family_df['fam_name'] = family_df.family.map(plant_names)\n",
    "family_df.head(2)"
   ]
  },
  {
   "cell_type": "code",
   "execution_count": 13,
   "id": "0e32f475",
   "metadata": {},
   "outputs": [
    {
     "data": {
      "text/plain": [
       "513"
      ]
     },
     "execution_count": 13,
     "metadata": {},
     "output_type": "execute_result"
    }
   ],
   "source": [
    "unique_family_ids = set(family_df['family'].unique())\n",
    "len(unique_family_ids)"
   ]
  },
  {
   "cell_type": "code",
   "execution_count": 14,
   "id": "d7cd270a",
   "metadata": {},
   "outputs": [],
   "source": [
    "family_data = family_df[['# chemicals', '# family specific chemicals', '# med plants', 'fam_name']].set_index('fam_name')"
   ]
  },
  {
   "cell_type": "code",
   "execution_count": 15,
   "id": "37aac6d4",
   "metadata": {},
   "outputs": [
    {
     "data": {
      "text/html": [
       "<div>\n",
       "<style scoped>\n",
       "    .dataframe tbody tr th:only-of-type {\n",
       "        vertical-align: middle;\n",
       "    }\n",
       "\n",
       "    .dataframe tbody tr th {\n",
       "        vertical-align: top;\n",
       "    }\n",
       "\n",
       "    .dataframe thead th {\n",
       "        text-align: right;\n",
       "    }\n",
       "</style>\n",
       "<table border=\"1\" class=\"dataframe\">\n",
       "  <thead>\n",
       "    <tr style=\"text-align: right;\">\n",
       "      <th></th>\n",
       "      <th># chemicals</th>\n",
       "      <th># family specific chemicals</th>\n",
       "      <th># med plants</th>\n",
       "    </tr>\n",
       "    <tr>\n",
       "      <th>fam_name</th>\n",
       "      <th></th>\n",
       "      <th></th>\n",
       "      <th></th>\n",
       "    </tr>\n",
       "  </thead>\n",
       "  <tbody>\n",
       "    <tr>\n",
       "      <th>Nyctaginaceae</th>\n",
       "      <td>243</td>\n",
       "      <td>59</td>\n",
       "      <td>5</td>\n",
       "    </tr>\n",
       "    <tr>\n",
       "      <th>Apiaceae</th>\n",
       "      <td>4652</td>\n",
       "      <td>1487</td>\n",
       "      <td>105</td>\n",
       "    </tr>\n",
       "  </tbody>\n",
       "</table>\n",
       "</div>"
      ],
      "text/plain": [
       "               # chemicals  # family specific chemicals  # med plants\n",
       "fam_name                                                             \n",
       "Nyctaginaceae          243                           59             5\n",
       "Apiaceae              4652                         1487           105"
      ]
     },
     "execution_count": 15,
     "metadata": {},
     "output_type": "execute_result"
    }
   ],
   "source": [
    "family_data.head(2)"
   ]
  },
  {
   "attachments": {},
   "cell_type": "markdown",
   "id": "26f4d6e2",
   "metadata": {},
   "source": [
    "## Normalizing the scores"
   ]
  },
  {
   "cell_type": "code",
   "execution_count": 16,
   "id": "7f86da4a",
   "metadata": {},
   "outputs": [],
   "source": [
    "def convert_to_percent(df: pd.DataFrame):\n",
    "    \"\"\"Convert counts to percentages for each row.\"\"\"\n",
    "    res = df.div(df.sum(axis=1), axis=0)\n",
    "    \n",
    "    a = res.sum(axis=1) \n",
    "    assert np.isclose(a.values, [1]*a.shape[0]).all(), 'Not all rows sum to 1'\n",
    "    return res"
   ]
  },
  {
   "cell_type": "code",
   "execution_count": 17,
   "id": "3fbddd81",
   "metadata": {},
   "outputs": [],
   "source": [
    "norm_family_data = convert_to_percent(family_data)"
   ]
  },
  {
   "cell_type": "code",
   "execution_count": 18,
   "id": "1aba31c0",
   "metadata": {},
   "outputs": [],
   "source": [
    "norm_family_data.to_csv(f'{DATA_DIR}/normalized_family_chemical_counts.tsv', sep='\\t')"
   ]
  },
  {
   "attachments": {},
   "cell_type": "markdown",
   "id": "1f978a92",
   "metadata": {},
   "source": [
    "# Generate taxnomy tree"
   ]
  },
  {
   "cell_type": "code",
   "execution_count": 19,
   "id": "d82de851",
   "metadata": {},
   "outputs": [],
   "source": [
    "ncbi = NCBITaxa()"
   ]
  },
  {
   "cell_type": "code",
   "execution_count": 20,
   "id": "f3678921",
   "metadata": {},
   "outputs": [
    {
     "data": {
      "text/plain": [
       "513"
      ]
     },
     "execution_count": 20,
     "metadata": {},
     "output_type": "execute_result"
    }
   ],
   "source": [
    "all_plants = [\n",
    "    ncbitax\n",
    "    for ncbitax in plant_names\n",
    "    if ncbitax.startswith('ncbitaxon') and plant_names[ncbitax] in family_data.index\n",
    "]\n",
    "len(all_plants)"
   ]
  },
  {
   "cell_type": "code",
   "execution_count": 21,
   "id": "5308b641",
   "metadata": {},
   "outputs": [
    {
     "name": "stderr",
     "output_type": "stream",
     "text": [
      "100%|██████████| 513/513 [00:00<00:00, 2604.87it/s]\n"
     ]
    }
   ],
   "source": [
    "lineage_dict = defaultdict(dict)\n",
    "\n",
    "for plant in tqdm(all_plants):\n",
    "    plant = int(plant.split(':')[1])\n",
    "\n",
    "    if plant == '':\n",
    "        continue \n",
    "\n",
    "    tree = ncbi.get_lineage(plant)\n",
    "    tree = [\n",
    "        i\n",
    "        for i in tree\n",
    "        # if i >= 33090 # Viridaeplante\n",
    "    ]\n",
    "\n",
    "    # Get the names of the nodes\n",
    "    names = ncbi.get_taxid_translator(tree)\n",
    "    \n",
    "    # Replace ids with names\n",
    "    tree = [\n",
    "        names[taxid]\n",
    "        for taxid in tree\n",
    "    ]\n",
    "\n",
    "    for idx in range(len(names) - 1):\n",
    "        \n",
    "        parent = tree[idx]\n",
    "        child = tree[idx + 1]\n",
    "                             \n",
    "        lineage_dict[parent][child] = idx + 1"
   ]
  },
  {
   "cell_type": "code",
   "execution_count": 22,
   "id": "2b0c5f56",
   "metadata": {},
   "outputs": [
    {
     "data": {
      "text/plain": [
       "238"
      ]
     },
     "execution_count": 22,
     "metadata": {},
     "output_type": "execute_result"
    }
   ],
   "source": [
    "len(lineage_dict)"
   ]
  },
  {
   "cell_type": "code",
   "execution_count": 23,
   "id": "3788ef8d",
   "metadata": {},
   "outputs": [],
   "source": [
    "def newickify(node_to_children, root_node) -> str:\n",
    "    visited_nodes = set()\n",
    "\n",
    "    def newick_render_node(name, distance: float) -> str:\n",
    "        assert name not in visited_nodes, \"Error: The tree may not be circular!\"\n",
    "\n",
    "        if name not in node_to_children:\n",
    "            # Leafs\n",
    "            return F'{name}:{distance}'\n",
    "        else:\n",
    "            # Nodes\n",
    "            visited_nodes.add(name)\n",
    "            children = node_to_children[name]\n",
    "            children_strings = [newick_render_node(child, children[child]) for child in children.keys()]\n",
    "            children_strings = \",\".join(children_strings)\n",
    "            return F'({children_strings}){name}:{distance}'\n",
    "\n",
    "    newick_string = newick_render_node(root_node, 0) + ';'\n",
    "\n",
    "    # Ensure no entries in the dictionary are left unused.\n",
    "    assert visited_nodes == set(node_to_children.keys()), f\"Error: some nodes aren't in the tree {set(node_to_children.keys())}\"\n",
    "\n",
    "    return newick_string"
   ]
  },
  {
   "cell_type": "code",
   "execution_count": 24,
   "id": "e2ea17b7",
   "metadata": {},
   "outputs": [],
   "source": [
    "string = newickify(\n",
    "    node_to_children=lineage_dict,\n",
    "    root_node='root',  # root node\n",
    ")"
   ]
  },
  {
   "cell_type": "code",
   "execution_count": 25,
   "id": "d9019d56",
   "metadata": {},
   "outputs": [],
   "source": [
    "from io import StringIO\n",
    "from Bio import Phylo"
   ]
  },
  {
   "cell_type": "code",
   "execution_count": 26,
   "id": "d9eccc1a",
   "metadata": {},
   "outputs": [],
   "source": [
    "biophylo_tree = Phylo.read(StringIO(string), \"newick\")\n"
   ]
  },
  {
   "cell_type": "code",
   "execution_count": 27,
   "id": "92ab009c",
   "metadata": {},
   "outputs": [
    {
     "data": {
      "text/plain": [
       "513"
      ]
     },
     "execution_count": 27,
     "metadata": {},
     "output_type": "execute_result"
    }
   ],
   "source": [
    "len([i for i in biophylo_tree.get_terminals()])\n"
   ]
  },
  {
   "cell_type": "code",
   "execution_count": 28,
   "id": "ecb9899a",
   "metadata": {},
   "outputs": [
    {
     "data": {
      "text/plain": [
       "1"
      ]
     },
     "execution_count": 28,
     "metadata": {},
     "output_type": "execute_result"
    }
   ],
   "source": [
    "Phylo.write(biophylo_tree, f'{DATA_DIR}/taxonomy_tree_1A.nwk', \"newick\")\n"
   ]
  },
  {
   "cell_type": "code",
   "execution_count": null,
   "id": "6738d5ff",
   "metadata": {},
   "outputs": [],
   "source": []
  }
 ],
 "metadata": {
  "kernelspec": {
   "display_name": "plant_chem_space",
   "language": "python",
   "name": "plant_chem_space"
  },
  "language_info": {
   "codemirror_mode": {
    "name": "ipython",
    "version": 3
   },
   "file_extension": ".py",
   "mimetype": "text/x-python",
   "name": "python",
   "nbconvert_exporter": "python",
   "pygments_lexer": "ipython3",
   "version": "3.9.16"
  }
 },
 "nbformat": 4,
 "nbformat_minor": 5
}
