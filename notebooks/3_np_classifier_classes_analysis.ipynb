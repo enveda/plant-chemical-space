{
 "cells": [
  {
   "cell_type": "markdown",
   "id": "b1fe0216",
   "metadata": {
    "pycharm": {
     "name": "#%% md\n"
    }
   },
   "source": [
    "# Exploring the NP classifier chemical classes \n",
    "\n",
    "### Import modules"
   ]
  },
  {
   "cell_type": "code",
   "execution_count": 1,
   "id": "86a640d3",
   "metadata": {
    "pycharm": {
     "name": "#%%\n"
    }
   },
   "outputs": [],
   "source": [
    "from io import StringIO\n",
    "from collections import defaultdict\n",
    "import os\n",
    "\n",
    "import pandas as pd\n",
    "from tqdm import tqdm\n",
    "\n",
    "# get names from ncbitaxon ontology\n",
    "from utils import ncbitaxon_curies_to_names\n",
    "\n",
    "# Taxonomy tree\n",
    "from ete3 import NCBITaxa\n",
    "from Bio import Phylo"
   ]
  },
  {
   "cell_type": "code",
   "execution_count": 2,
   "id": "6058b102",
   "metadata": {
    "pycharm": {
     "name": "#%%\n"
    }
   },
   "outputs": [],
   "source": [
    "DATA_DIR = '../data'"
   ]
  },
  {
   "cell_type": "markdown",
   "id": "e2500b02",
   "metadata": {
    "pycharm": {
     "name": "#%% md\n"
    }
   },
   "source": [
    "### Load NP classifier file"
   ]
  },
  {
   "cell_type": "code",
   "execution_count": 3,
   "id": "b040407b",
   "metadata": {
    "pycharm": {
     "name": "#%%\n"
    }
   },
   "outputs": [],
   "source": [
    "npclassifier_family_df = pd.read_csv(\n",
    "    os.path.join(DATA_DIR, 'np_classifier_family_vector.tsv'),\n",
    "    sep='\\t'\n",
    ")"
   ]
  },
  {
   "cell_type": "code",
   "execution_count": 4,
   "id": "a7d1ccf0",
   "metadata": {
    "pycharm": {
     "name": "#%%\n"
    }
   },
   "outputs": [
    {
     "data": {
      "text/plain": [
       "(381, 567)"
      ]
     },
     "execution_count": 4,
     "metadata": {},
     "output_type": "execute_result"
    }
   ],
   "source": [
    "npclassifier_family_df.shape"
   ]
  },
  {
   "cell_type": "code",
   "execution_count": 5,
   "id": "13406cce",
   "metadata": {
    "pycharm": {
     "name": "#%%\n"
    }
   },
   "outputs": [],
   "source": [
    "# Set plant name as index\n",
    "npclassifier_family_df.set_index('taxon', inplace=True)"
   ]
  },
  {
   "cell_type": "code",
   "execution_count": 6,
   "id": "84e64ebf",
   "metadata": {
    "pycharm": {
     "name": "#%%\n"
    }
   },
   "outputs": [],
   "source": [
    "# Merging the non-medicial and medicinal data\n",
    "npclassifier_family_df = npclassifier_family_df.groupby(['taxon']).agg(sum)"
   ]
  },
  {
   "attachments": {},
   "cell_type": "markdown",
   "id": "2fa76ac3",
   "metadata": {
    "pycharm": {
     "name": "#%% md\n"
    }
   },
   "source": [
    "### Calculating no.of plants per class"
   ]
  },
  {
   "cell_type": "code",
   "execution_count": 7,
   "id": "986f5817",
   "metadata": {
    "pycharm": {
     "name": "#%%\n"
    }
   },
   "outputs": [],
   "source": [
    "npclassifier_family_df = npclassifier_family_df.T"
   ]
  },
  {
   "cell_type": "code",
   "execution_count": 8,
   "id": "d8404547",
   "metadata": {
    "pycharm": {
     "name": "#%%\n"
    }
   },
   "outputs": [
    {
     "data": {
      "text/html": [
       "<div>\n",
       "<style scoped>\n",
       "    .dataframe tbody tr th:only-of-type {\n",
       "        vertical-align: middle;\n",
       "    }\n",
       "\n",
       "    .dataframe tbody tr th {\n",
       "        vertical-align: top;\n",
       "    }\n",
       "\n",
       "    .dataframe thead th {\n",
       "        text-align: right;\n",
       "    }\n",
       "</style>\n",
       "<table border=\"1\" class=\"dataframe\">\n",
       "  <thead>\n",
       "    <tr style=\"text-align: right;\">\n",
       "      <th></th>\n",
       "      <th>class</th>\n",
       "      <th>no.of.families</th>\n",
       "    </tr>\n",
       "  </thead>\n",
       "  <tbody>\n",
       "    <tr>\n",
       "      <th>378</th>\n",
       "      <td>Flavonols</td>\n",
       "      <td>305</td>\n",
       "    </tr>\n",
       "    <tr>\n",
       "      <th>118</th>\n",
       "      <td>Stigmastane steroids</td>\n",
       "      <td>290</td>\n",
       "    </tr>\n",
       "  </tbody>\n",
       "</table>\n",
       "</div>"
      ],
      "text/plain": [
       "                    class  no.of.families\n",
       "378             Flavonols             305\n",
       "118  Stigmastane steroids             290"
      ]
     },
     "execution_count": 8,
     "metadata": {},
     "output_type": "execute_result"
    }
   ],
   "source": [
    "family_class_score = pd.DataFrame(\n",
    "    npclassifier_family_df.astype(bool).sum(axis=1), columns=['no.of.families']\n",
    ").reset_index()\n",
    "family_class_score.rename(columns={'index': 'class'}, inplace=True)\n",
    "family_class_score.sort_values(by='no.of.families', ascending=False, inplace=True)\n",
    "family_class_score.head(2)"
   ]
  },
  {
   "attachments": {},
   "cell_type": "markdown",
   "id": "c13f5bc2",
   "metadata": {
    "pycharm": {
     "name": "#%% md\n"
    }
   },
   "source": [
    "## Distribution of subselected classes"
   ]
  },
  {
   "cell_type": "code",
   "execution_count": 9,
   "id": "c3e06055",
   "metadata": {
    "pycharm": {
     "name": "#%%\n"
    }
   },
   "outputs": [],
   "source": [
    "selected_classes = \"\"\"Dihydroflavonols\n",
    "Neolignans\n",
    "Eudesmane sesquiterpenoids\n",
    "Chalcones\n",
    "Monocyclic monoterpenoids\n",
    "Furofuranoid lignans\n",
    "Gallotannins\n",
    "Acyclic monoterpenoids\n",
    "Flavan-3-ols\n",
    "Ursane and Taraxastane triterpenoids\n",
    "Menthane monoterpenoids\n",
    "Flavanones\n",
    "Shikimic acids and derivatives\n",
    "Lupane triterpenoids\n",
    "Simple coumarins\n",
    "Oleanane triterpenoids\n",
    "Flavones\n",
    "Cinnamic acids and derivatives\n",
    "Stigmastane steroids\n",
    "Flavonols\"\"\""
   ]
  },
  {
   "cell_type": "code",
   "execution_count": 10,
   "id": "085c31f4",
   "metadata": {
    "pycharm": {
     "name": "#%%\n"
    }
   },
   "outputs": [
    {
     "data": {
      "text/plain": [
       "20"
      ]
     },
     "execution_count": 10,
     "metadata": {},
     "output_type": "execute_result"
    }
   ],
   "source": [
    "family_class_score = family_class_score[family_class_score['class'].isin(selected_classes.split('\\n'))]\n",
    "len(family_class_score)"
   ]
  },
  {
   "attachments": {},
   "cell_type": "markdown",
   "id": "1e3076de",
   "metadata": {
    "pycharm": {
     "name": "#%% md\n"
    }
   },
   "source": [
    "### Saving subselected class data"
   ]
  },
  {
   "cell_type": "code",
   "execution_count": 11,
   "id": "f9409501",
   "metadata": {
    "pycharm": {
     "name": "#%%\n"
    }
   },
   "outputs": [
    {
     "data": {
      "text/html": [
       "<div>\n",
       "<style scoped>\n",
       "    .dataframe tbody tr th:only-of-type {\n",
       "        vertical-align: middle;\n",
       "    }\n",
       "\n",
       "    .dataframe tbody tr th {\n",
       "        vertical-align: top;\n",
       "    }\n",
       "\n",
       "    .dataframe thead th {\n",
       "        text-align: right;\n",
       "    }\n",
       "</style>\n",
       "<table border=\"1\" class=\"dataframe\">\n",
       "  <thead>\n",
       "    <tr style=\"text-align: right;\">\n",
       "      <th>taxon</th>\n",
       "      <th>ncbitaxon:1003244</th>\n",
       "      <th>ncbitaxon:1003247</th>\n",
       "      <th>ncbitaxon:1003248</th>\n",
       "      <th>ncbitaxon:1003255</th>\n",
       "      <th>ncbitaxon:104773</th>\n",
       "      <th>ncbitaxon:112800</th>\n",
       "      <th>ncbitaxon:1131839</th>\n",
       "      <th>ncbitaxon:114201</th>\n",
       "      <th>ncbitaxon:1203500</th>\n",
       "      <th>ncbitaxon:1203515</th>\n",
       "      <th>...</th>\n",
       "      <th>ncbitaxon:91850</th>\n",
       "      <th>ncbitaxon:91851</th>\n",
       "      <th>ncbitaxon:91852</th>\n",
       "      <th>ncbitaxon:91896</th>\n",
       "      <th>ncbitaxon:94394</th>\n",
       "      <th>ncbitaxon:95774</th>\n",
       "      <th>ncbitaxon:984489</th>\n",
       "      <th>ncbitaxon:984509</th>\n",
       "      <th>ncbitaxon:984539</th>\n",
       "      <th>ncbitaxon:984551</th>\n",
       "    </tr>\n",
       "  </thead>\n",
       "  <tbody>\n",
       "    <tr>\n",
       "      <th>Monomeric stilbenes</th>\n",
       "      <td>0</td>\n",
       "      <td>0</td>\n",
       "      <td>0</td>\n",
       "      <td>0</td>\n",
       "      <td>0</td>\n",
       "      <td>0</td>\n",
       "      <td>0</td>\n",
       "      <td>0</td>\n",
       "      <td>0</td>\n",
       "      <td>0</td>\n",
       "      <td>...</td>\n",
       "      <td>0</td>\n",
       "      <td>0</td>\n",
       "      <td>0</td>\n",
       "      <td>1</td>\n",
       "      <td>0</td>\n",
       "      <td>0</td>\n",
       "      <td>9</td>\n",
       "      <td>1</td>\n",
       "      <td>0</td>\n",
       "      <td>0</td>\n",
       "    </tr>\n",
       "    <tr>\n",
       "      <th>Coloratane sesquiterpenoids</th>\n",
       "      <td>0</td>\n",
       "      <td>0</td>\n",
       "      <td>0</td>\n",
       "      <td>0</td>\n",
       "      <td>0</td>\n",
       "      <td>0</td>\n",
       "      <td>0</td>\n",
       "      <td>0</td>\n",
       "      <td>0</td>\n",
       "      <td>0</td>\n",
       "      <td>...</td>\n",
       "      <td>0</td>\n",
       "      <td>0</td>\n",
       "      <td>0</td>\n",
       "      <td>0</td>\n",
       "      <td>0</td>\n",
       "      <td>0</td>\n",
       "      <td>0</td>\n",
       "      <td>0</td>\n",
       "      <td>0</td>\n",
       "      <td>0</td>\n",
       "    </tr>\n",
       "  </tbody>\n",
       "</table>\n",
       "<p>2 rows × 381 columns</p>\n",
       "</div>"
      ],
      "text/plain": [
       "taxon                        ncbitaxon:1003244  ncbitaxon:1003247  \\\n",
       "Monomeric stilbenes                          0                  0   \n",
       "Coloratane sesquiterpenoids                  0                  0   \n",
       "\n",
       "taxon                        ncbitaxon:1003248  ncbitaxon:1003255  \\\n",
       "Monomeric stilbenes                          0                  0   \n",
       "Coloratane sesquiterpenoids                  0                  0   \n",
       "\n",
       "taxon                        ncbitaxon:104773  ncbitaxon:112800  \\\n",
       "Monomeric stilbenes                         0                 0   \n",
       "Coloratane sesquiterpenoids                 0                 0   \n",
       "\n",
       "taxon                        ncbitaxon:1131839  ncbitaxon:114201  \\\n",
       "Monomeric stilbenes                          0                 0   \n",
       "Coloratane sesquiterpenoids                  0                 0   \n",
       "\n",
       "taxon                        ncbitaxon:1203500  ncbitaxon:1203515  ...  \\\n",
       "Monomeric stilbenes                          0                  0  ...   \n",
       "Coloratane sesquiterpenoids                  0                  0  ...   \n",
       "\n",
       "taxon                        ncbitaxon:91850  ncbitaxon:91851  \\\n",
       "Monomeric stilbenes                        0                0   \n",
       "Coloratane sesquiterpenoids                0                0   \n",
       "\n",
       "taxon                        ncbitaxon:91852  ncbitaxon:91896  \\\n",
       "Monomeric stilbenes                        0                1   \n",
       "Coloratane sesquiterpenoids                0                0   \n",
       "\n",
       "taxon                        ncbitaxon:94394  ncbitaxon:95774  \\\n",
       "Monomeric stilbenes                        0                0   \n",
       "Coloratane sesquiterpenoids                0                0   \n",
       "\n",
       "taxon                        ncbitaxon:984489  ncbitaxon:984509  \\\n",
       "Monomeric stilbenes                         9                 1   \n",
       "Coloratane sesquiterpenoids                 0                 0   \n",
       "\n",
       "taxon                        ncbitaxon:984539  ncbitaxon:984551  \n",
       "Monomeric stilbenes                         0                 0  \n",
       "Coloratane sesquiterpenoids                 0                 0  \n",
       "\n",
       "[2 rows x 381 columns]"
      ]
     },
     "execution_count": 11,
     "metadata": {},
     "output_type": "execute_result"
    }
   ],
   "source": [
    "npclassifier_family_df.head(2)"
   ]
  },
  {
   "cell_type": "code",
   "execution_count": 12,
   "id": "57c86b58",
   "metadata": {
    "pycharm": {
     "name": "#%%\n"
    }
   },
   "outputs": [],
   "source": [
    "npclassifier_family_df = npclassifier_family_df.reset_index()\n",
    "npclassifier_family_df.rename(columns={'index': 'class_name'}, inplace=True)"
   ]
  },
  {
   "cell_type": "code",
   "execution_count": 13,
   "id": "ed7b6ce5",
   "metadata": {
    "pycharm": {
     "name": "#%%\n"
    }
   },
   "outputs": [
    {
     "data": {
      "text/plain": [
       "(566, 382)"
      ]
     },
     "execution_count": 13,
     "metadata": {},
     "output_type": "execute_result"
    }
   ],
   "source": [
    "npclassifier_family_df.shape"
   ]
  },
  {
   "cell_type": "code",
   "execution_count": 14,
   "id": "3a3b1960",
   "metadata": {
    "pycharm": {
     "name": "#%%\n"
    }
   },
   "outputs": [
    {
     "data": {
      "text/plain": [
       "(566, 382)"
      ]
     },
     "execution_count": 14,
     "metadata": {},
     "output_type": "execute_result"
    }
   ],
   "source": [
    "# Dropping columns with WFO\n",
    "remove_cols = [\n",
    "    col\n",
    "    for col in npclassifier_family_df.columns\n",
    "    if not col.startswith('ncbitaxon') and col != 'class_name'\n",
    "]\n",
    "npclassifier_family_df.drop(columns=remove_cols, inplace=True)\n",
    "npclassifier_family_df.shape"
   ]
  },
  {
   "cell_type": "code",
   "execution_count": 15,
   "id": "c1f1c3fb",
   "metadata": {
    "pycharm": {
     "name": "#%%\n"
    }
   },
   "outputs": [],
   "source": [
    "# Set index to class name\n",
    "npclassifier_family_df.set_index('class_name', inplace=True)"
   ]
  },
  {
   "cell_type": "code",
   "execution_count": 16,
   "id": "24657d29",
   "metadata": {
    "pycharm": {
     "name": "#%%\n"
    }
   },
   "outputs": [
    {
     "data": {
      "text/html": [
       "<div>\n",
       "<style scoped>\n",
       "    .dataframe tbody tr th:only-of-type {\n",
       "        vertical-align: middle;\n",
       "    }\n",
       "\n",
       "    .dataframe tbody tr th {\n",
       "        vertical-align: top;\n",
       "    }\n",
       "\n",
       "    .dataframe thead th {\n",
       "        text-align: right;\n",
       "    }\n",
       "</style>\n",
       "<table border=\"1\" class=\"dataframe\">\n",
       "  <thead>\n",
       "    <tr style=\"text-align: right;\">\n",
       "      <th>taxon</th>\n",
       "      <th>ncbitaxon:1003244</th>\n",
       "      <th>ncbitaxon:1003247</th>\n",
       "      <th>ncbitaxon:1003248</th>\n",
       "      <th>ncbitaxon:1003255</th>\n",
       "      <th>ncbitaxon:104773</th>\n",
       "      <th>ncbitaxon:112800</th>\n",
       "      <th>ncbitaxon:1131839</th>\n",
       "      <th>ncbitaxon:114201</th>\n",
       "      <th>ncbitaxon:1203500</th>\n",
       "      <th>ncbitaxon:1203515</th>\n",
       "      <th>...</th>\n",
       "      <th>ncbitaxon:91850</th>\n",
       "      <th>ncbitaxon:91851</th>\n",
       "      <th>ncbitaxon:91852</th>\n",
       "      <th>ncbitaxon:91896</th>\n",
       "      <th>ncbitaxon:94394</th>\n",
       "      <th>ncbitaxon:95774</th>\n",
       "      <th>ncbitaxon:984489</th>\n",
       "      <th>ncbitaxon:984509</th>\n",
       "      <th>ncbitaxon:984539</th>\n",
       "      <th>ncbitaxon:984551</th>\n",
       "    </tr>\n",
       "    <tr>\n",
       "      <th>class_name</th>\n",
       "      <th></th>\n",
       "      <th></th>\n",
       "      <th></th>\n",
       "      <th></th>\n",
       "      <th></th>\n",
       "      <th></th>\n",
       "      <th></th>\n",
       "      <th></th>\n",
       "      <th></th>\n",
       "      <th></th>\n",
       "      <th></th>\n",
       "      <th></th>\n",
       "      <th></th>\n",
       "      <th></th>\n",
       "      <th></th>\n",
       "      <th></th>\n",
       "      <th></th>\n",
       "      <th></th>\n",
       "      <th></th>\n",
       "      <th></th>\n",
       "      <th></th>\n",
       "    </tr>\n",
       "  </thead>\n",
       "  <tbody>\n",
       "    <tr>\n",
       "      <th>Monomeric stilbenes</th>\n",
       "      <td>0</td>\n",
       "      <td>0</td>\n",
       "      <td>0</td>\n",
       "      <td>0</td>\n",
       "      <td>0</td>\n",
       "      <td>0</td>\n",
       "      <td>0</td>\n",
       "      <td>0</td>\n",
       "      <td>0</td>\n",
       "      <td>0</td>\n",
       "      <td>...</td>\n",
       "      <td>0</td>\n",
       "      <td>0</td>\n",
       "      <td>0</td>\n",
       "      <td>1</td>\n",
       "      <td>0</td>\n",
       "      <td>0</td>\n",
       "      <td>9</td>\n",
       "      <td>1</td>\n",
       "      <td>0</td>\n",
       "      <td>0</td>\n",
       "    </tr>\n",
       "  </tbody>\n",
       "</table>\n",
       "<p>1 rows × 381 columns</p>\n",
       "</div>"
      ],
      "text/plain": [
       "taxon                ncbitaxon:1003244  ncbitaxon:1003247  ncbitaxon:1003248  \\\n",
       "class_name                                                                     \n",
       "Monomeric stilbenes                  0                  0                  0   \n",
       "\n",
       "taxon                ncbitaxon:1003255  ncbitaxon:104773  ncbitaxon:112800  \\\n",
       "class_name                                                                   \n",
       "Monomeric stilbenes                  0                 0                 0   \n",
       "\n",
       "taxon                ncbitaxon:1131839  ncbitaxon:114201  ncbitaxon:1203500  \\\n",
       "class_name                                                                    \n",
       "Monomeric stilbenes                  0                 0                  0   \n",
       "\n",
       "taxon                ncbitaxon:1203515  ...  ncbitaxon:91850  ncbitaxon:91851  \\\n",
       "class_name                              ...                                     \n",
       "Monomeric stilbenes                  0  ...                0                0   \n",
       "\n",
       "taxon                ncbitaxon:91852  ncbitaxon:91896  ncbitaxon:94394  \\\n",
       "class_name                                                               \n",
       "Monomeric stilbenes                0                1                0   \n",
       "\n",
       "taxon                ncbitaxon:95774  ncbitaxon:984489  ncbitaxon:984509  \\\n",
       "class_name                                                                 \n",
       "Monomeric stilbenes                0                 9                 1   \n",
       "\n",
       "taxon                ncbitaxon:984539  ncbitaxon:984551  \n",
       "class_name                                               \n",
       "Monomeric stilbenes                 0                 0  \n",
       "\n",
       "[1 rows x 381 columns]"
      ]
     },
     "execution_count": 16,
     "metadata": {},
     "output_type": "execute_result"
    }
   ],
   "source": [
    "npclassifier_family_df.head(1)"
   ]
  },
  {
   "cell_type": "code",
   "execution_count": 17,
   "id": "35f429af",
   "metadata": {
    "pycharm": {
     "name": "#%%\n"
    }
   },
   "outputs": [],
   "source": [
    "# Make a function to normalize each column of the df to percentage\n",
    "def normalize_df(df):\n",
    "    for col in df.columns:\n",
    "        df[col] = df[col] / df[col].sum()\n",
    "    return df"
   ]
  },
  {
   "cell_type": "code",
   "execution_count": 18,
   "id": "04e9643d",
   "metadata": {
    "pycharm": {
     "name": "#%%\n"
    }
   },
   "outputs": [],
   "source": [
    "npclassifier_family_df = normalize_df(npclassifier_family_df)"
   ]
  },
  {
   "cell_type": "code",
   "execution_count": 19,
   "id": "f7e0f934",
   "metadata": {
    "pycharm": {
     "name": "#%%\n"
    }
   },
   "outputs": [
    {
     "data": {
      "text/plain": [
       "20"
      ]
     },
     "execution_count": 19,
     "metadata": {},
     "output_type": "execute_result"
    }
   ],
   "source": [
    "# Subset families to 20 classes\n",
    "npclassifier_family_df = npclassifier_family_df[npclassifier_family_df.index.isin(selected_classes.split('\\n'))]\n",
    "len(npclassifier_family_df)"
   ]
  },
  {
   "cell_type": "code",
   "execution_count": 20,
   "id": "c04e4661",
   "metadata": {
    "pycharm": {
     "name": "#%%\n"
    }
   },
   "outputs": [],
   "source": [
    "plant_names = ncbitaxon_curies_to_names(npclassifier_family_df.columns)"
   ]
  },
  {
   "cell_type": "code",
   "execution_count": 21,
   "id": "fa8db62f",
   "metadata": {
    "pycharm": {
     "name": "#%%\n"
    }
   },
   "outputs": [],
   "source": [
    "# Replace column names with plant names\n",
    "npclassifier_family_df.rename(\n",
    "    columns=plant_names,\n",
    "   inplace=True,\n",
    ")"
   ]
  },
  {
   "cell_type": "code",
   "execution_count": 22,
   "id": "897b16e8",
   "metadata": {
    "pycharm": {
     "name": "#%%\n"
    }
   },
   "outputs": [
    {
     "data": {
      "text/html": [
       "<div>\n",
       "<style scoped>\n",
       "    .dataframe tbody tr th:only-of-type {\n",
       "        vertical-align: middle;\n",
       "    }\n",
       "\n",
       "    .dataframe tbody tr th {\n",
       "        vertical-align: top;\n",
       "    }\n",
       "\n",
       "    .dataframe thead th {\n",
       "        text-align: right;\n",
       "    }\n",
       "</style>\n",
       "<table border=\"1\" class=\"dataframe\">\n",
       "  <thead>\n",
       "    <tr style=\"text-align: right;\">\n",
       "      <th>taxon</th>\n",
       "      <th>Aptandraceae</th>\n",
       "      <th>Thesiaceae</th>\n",
       "      <th>Cervantesiaceae</th>\n",
       "      <th>Viscaceae</th>\n",
       "      <th>Siparunaceae</th>\n",
       "      <th>Achariaceae</th>\n",
       "      <th>Anastrophyllaceae</th>\n",
       "      <th>Nartheciaceae</th>\n",
       "      <th>Cystopteridaceae</th>\n",
       "      <th>Rhachidosoraceae</th>\n",
       "      <th>...</th>\n",
       "      <th>Biebersteiniaceae</th>\n",
       "      <th>Nitrariaceae</th>\n",
       "      <th>Muntingiaceae</th>\n",
       "      <th>Orobanchaceae</th>\n",
       "      <th>Sciadopityaceae</th>\n",
       "      <th>Schistochilaceae</th>\n",
       "      <th>Dumortieraceae</th>\n",
       "      <th>Lophocoleaceae</th>\n",
       "      <th>Myliaceae</th>\n",
       "      <th>Solenostomataceae</th>\n",
       "    </tr>\n",
       "    <tr>\n",
       "      <th>class_name</th>\n",
       "      <th></th>\n",
       "      <th></th>\n",
       "      <th></th>\n",
       "      <th></th>\n",
       "      <th></th>\n",
       "      <th></th>\n",
       "      <th></th>\n",
       "      <th></th>\n",
       "      <th></th>\n",
       "      <th></th>\n",
       "      <th></th>\n",
       "      <th></th>\n",
       "      <th></th>\n",
       "      <th></th>\n",
       "      <th></th>\n",
       "      <th></th>\n",
       "      <th></th>\n",
       "      <th></th>\n",
       "      <th></th>\n",
       "      <th></th>\n",
       "      <th></th>\n",
       "    </tr>\n",
       "  </thead>\n",
       "  <tbody>\n",
       "    <tr>\n",
       "      <th>Eudesmane sesquiterpenoids</th>\n",
       "      <td>0.045455</td>\n",
       "      <td>0.0</td>\n",
       "      <td>0.0</td>\n",
       "      <td>0.0</td>\n",
       "      <td>0.0</td>\n",
       "      <td>0.0</td>\n",
       "      <td>0.0</td>\n",
       "      <td>0.0</td>\n",
       "      <td>0.0</td>\n",
       "      <td>0.0</td>\n",
       "      <td>...</td>\n",
       "      <td>0.0</td>\n",
       "      <td>0.0</td>\n",
       "      <td>0.0</td>\n",
       "      <td>0.005922</td>\n",
       "      <td>0.0</td>\n",
       "      <td>0.0</td>\n",
       "      <td>0.0</td>\n",
       "      <td>0.297297</td>\n",
       "      <td>0.0</td>\n",
       "      <td>0.0</td>\n",
       "    </tr>\n",
       "  </tbody>\n",
       "</table>\n",
       "<p>1 rows × 381 columns</p>\n",
       "</div>"
      ],
      "text/plain": [
       "taxon                       Aptandraceae  Thesiaceae  Cervantesiaceae  \\\n",
       "class_name                                                              \n",
       "Eudesmane sesquiterpenoids      0.045455         0.0              0.0   \n",
       "\n",
       "taxon                       Viscaceae  Siparunaceae  Achariaceae  \\\n",
       "class_name                                                         \n",
       "Eudesmane sesquiterpenoids        0.0           0.0          0.0   \n",
       "\n",
       "taxon                       Anastrophyllaceae  Nartheciaceae  \\\n",
       "class_name                                                     \n",
       "Eudesmane sesquiterpenoids                0.0            0.0   \n",
       "\n",
       "taxon                       Cystopteridaceae  Rhachidosoraceae  ...  \\\n",
       "class_name                                                      ...   \n",
       "Eudesmane sesquiterpenoids               0.0               0.0  ...   \n",
       "\n",
       "taxon                       Biebersteiniaceae  Nitrariaceae  Muntingiaceae  \\\n",
       "class_name                                                                   \n",
       "Eudesmane sesquiterpenoids                0.0           0.0            0.0   \n",
       "\n",
       "taxon                       Orobanchaceae  Sciadopityaceae  Schistochilaceae  \\\n",
       "class_name                                                                     \n",
       "Eudesmane sesquiterpenoids       0.005922              0.0               0.0   \n",
       "\n",
       "taxon                       Dumortieraceae  Lophocoleaceae  Myliaceae  \\\n",
       "class_name                                                              \n",
       "Eudesmane sesquiterpenoids             0.0        0.297297        0.0   \n",
       "\n",
       "taxon                       Solenostomataceae  \n",
       "class_name                                     \n",
       "Eudesmane sesquiterpenoids                0.0  \n",
       "\n",
       "[1 rows x 381 columns]"
      ]
     },
     "execution_count": 22,
     "metadata": {},
     "output_type": "execute_result"
    }
   ],
   "source": [
    "npclassifier_family_df.head(1)"
   ]
  },
  {
   "cell_type": "markdown",
   "id": "c7576331",
   "metadata": {
    "pycharm": {
     "name": "#%% md\n"
    }
   },
   "source": []
  },
  {
   "cell_type": "code",
   "execution_count": 23,
   "id": "e7313350",
   "metadata": {
    "pycharm": {
     "name": "#%%\n"
    }
   },
   "outputs": [],
   "source": [
    "# transpose matrix\n",
    "npclassifier_family_df = npclassifier_family_df.T"
   ]
  },
  {
   "cell_type": "code",
   "execution_count": 24,
   "id": "46dab457",
   "metadata": {
    "pycharm": {
     "name": "#%%\n"
    }
   },
   "outputs": [
    {
     "data": {
      "text/plain": [
       "(381, 20)"
      ]
     },
     "execution_count": 24,
     "metadata": {},
     "output_type": "execute_result"
    }
   ],
   "source": [
    "npclassifier_family_df.shape"
   ]
  },
  {
   "cell_type": "code",
   "execution_count": 25,
   "id": "fb7d8abc",
   "metadata": {
    "pycharm": {
     "name": "#%%\n"
    }
   },
   "outputs": [],
   "source": [
    "# Remove rows with only zeros in all columns\n",
    "npclassifier_family_df = npclassifier_family_df.loc[(npclassifier_family_df!=0).any(axis=1)]"
   ]
  },
  {
   "cell_type": "code",
   "execution_count": 26,
   "id": "e2df8498",
   "metadata": {
    "pycharm": {
     "name": "#%%\n"
    }
   },
   "outputs": [
    {
     "data": {
      "text/plain": [
       "(373, 20)"
      ]
     },
     "execution_count": 26,
     "metadata": {},
     "output_type": "execute_result"
    }
   ],
   "source": [
    "npclassifier_family_df.shape"
   ]
  },
  {
   "cell_type": "code",
   "execution_count": 27,
   "id": "375a2903",
   "metadata": {
    "pycharm": {
     "name": "#%%\n"
    }
   },
   "outputs": [
    {
     "data": {
      "text/html": [
       "<div>\n",
       "<style scoped>\n",
       "    .dataframe tbody tr th:only-of-type {\n",
       "        vertical-align: middle;\n",
       "    }\n",
       "\n",
       "    .dataframe tbody tr th {\n",
       "        vertical-align: top;\n",
       "    }\n",
       "\n",
       "    .dataframe thead th {\n",
       "        text-align: right;\n",
       "    }\n",
       "</style>\n",
       "<table border=\"1\" class=\"dataframe\">\n",
       "  <thead>\n",
       "    <tr style=\"text-align: right;\">\n",
       "      <th>class_name</th>\n",
       "      <th>Eudesmane sesquiterpenoids</th>\n",
       "      <th>Menthane monoterpenoids</th>\n",
       "      <th>Flavan-3-ols</th>\n",
       "      <th>Shikimic acids and derivatives</th>\n",
       "      <th>Stigmastane steroids</th>\n",
       "      <th>Gallotannins</th>\n",
       "      <th>Chalcones</th>\n",
       "      <th>Ursane and Taraxastane triterpenoids</th>\n",
       "      <th>Oleanane triterpenoids</th>\n",
       "      <th>Flavanones</th>\n",
       "      <th>Lupane triterpenoids</th>\n",
       "      <th>Acyclic monoterpenoids</th>\n",
       "      <th>Furofuranoid lignans</th>\n",
       "      <th>Neolignans</th>\n",
       "      <th>Flavonols</th>\n",
       "      <th>Dihydroflavonols</th>\n",
       "      <th>Flavones</th>\n",
       "      <th>Monocyclic monoterpenoids</th>\n",
       "      <th>Cinnamic acids and derivatives</th>\n",
       "      <th>Simple coumarins</th>\n",
       "    </tr>\n",
       "    <tr>\n",
       "      <th>taxon</th>\n",
       "      <th></th>\n",
       "      <th></th>\n",
       "      <th></th>\n",
       "      <th></th>\n",
       "      <th></th>\n",
       "      <th></th>\n",
       "      <th></th>\n",
       "      <th></th>\n",
       "      <th></th>\n",
       "      <th></th>\n",
       "      <th></th>\n",
       "      <th></th>\n",
       "      <th></th>\n",
       "      <th></th>\n",
       "      <th></th>\n",
       "      <th></th>\n",
       "      <th></th>\n",
       "      <th></th>\n",
       "      <th></th>\n",
       "      <th></th>\n",
       "    </tr>\n",
       "  </thead>\n",
       "  <tbody>\n",
       "    <tr>\n",
       "      <th>Aptandraceae</th>\n",
       "      <td>0.045455</td>\n",
       "      <td>0.0</td>\n",
       "      <td>0.0</td>\n",
       "      <td>0.045455</td>\n",
       "      <td>0.136364</td>\n",
       "      <td>0.0</td>\n",
       "      <td>0.0</td>\n",
       "      <td>0.090909</td>\n",
       "      <td>0.090909</td>\n",
       "      <td>0.0</td>\n",
       "      <td>0.045455</td>\n",
       "      <td>0.0</td>\n",
       "      <td>0.0</td>\n",
       "      <td>0.045455</td>\n",
       "      <td>0.045455</td>\n",
       "      <td>0.0</td>\n",
       "      <td>0.045455</td>\n",
       "      <td>0.0</td>\n",
       "      <td>0.045455</td>\n",
       "      <td>0.0</td>\n",
       "    </tr>\n",
       "  </tbody>\n",
       "</table>\n",
       "</div>"
      ],
      "text/plain": [
       "class_name    Eudesmane sesquiterpenoids  Menthane monoterpenoids  \\\n",
       "taxon                                                               \n",
       "Aptandraceae                    0.045455                      0.0   \n",
       "\n",
       "class_name    Flavan-3-ols  Shikimic acids and derivatives  \\\n",
       "taxon                                                        \n",
       "Aptandraceae           0.0                        0.045455   \n",
       "\n",
       "class_name    Stigmastane steroids  Gallotannins  Chalcones  \\\n",
       "taxon                                                         \n",
       "Aptandraceae              0.136364           0.0        0.0   \n",
       "\n",
       "class_name    Ursane and Taraxastane triterpenoids  Oleanane triterpenoids  \\\n",
       "taxon                                                                        \n",
       "Aptandraceae                              0.090909                0.090909   \n",
       "\n",
       "class_name    Flavanones  Lupane triterpenoids  Acyclic monoterpenoids  \\\n",
       "taxon                                                                    \n",
       "Aptandraceae         0.0              0.045455                     0.0   \n",
       "\n",
       "class_name    Furofuranoid lignans  Neolignans  Flavonols  Dihydroflavonols  \\\n",
       "taxon                                                                         \n",
       "Aptandraceae                   0.0    0.045455   0.045455               0.0   \n",
       "\n",
       "class_name    Flavones  Monocyclic monoterpenoids  \\\n",
       "taxon                                               \n",
       "Aptandraceae  0.045455                        0.0   \n",
       "\n",
       "class_name    Cinnamic acids and derivatives  Simple coumarins  \n",
       "taxon                                                           \n",
       "Aptandraceae                        0.045455               0.0  "
      ]
     },
     "execution_count": 27,
     "metadata": {},
     "output_type": "execute_result"
    }
   ],
   "source": [
    "npclassifier_family_df.head(1)"
   ]
  },
  {
   "cell_type": "code",
   "execution_count": 28,
   "id": "e4f2b908",
   "metadata": {
    "pycharm": {
     "name": "#%%\n"
    }
   },
   "outputs": [],
   "source": [
    "npclassifier_family_df.to_csv(f'{DATA_DIR}/chemical_classes_family.tsv', sep='\\t')"
   ]
  },
  {
   "attachments": {},
   "cell_type": "markdown",
   "id": "c6ccba75",
   "metadata": {
    "pycharm": {
     "name": "#%% md\n"
    }
   },
   "source": [
    "### Generate taxonomy tree"
   ]
  },
  {
   "cell_type": "code",
   "execution_count": 29,
   "id": "61486956",
   "metadata": {
    "pycharm": {
     "name": "#%%\n"
    }
   },
   "outputs": [
    {
     "data": {
      "text/plain": [
       "381"
      ]
     },
     "execution_count": 29,
     "metadata": {},
     "output_type": "execute_result"
    }
   ],
   "source": [
    "len(plant_names)"
   ]
  },
  {
   "cell_type": "code",
   "execution_count": 30,
   "id": "00a12066",
   "metadata": {
    "pycharm": {
     "name": "#%%\n"
    }
   },
   "outputs": [],
   "source": [
    "ncbi = NCBITaxa()"
   ]
  },
  {
   "cell_type": "code",
   "execution_count": 31,
   "id": "296cdc2b",
   "metadata": {
    "pycharm": {
     "name": "#%%\n"
    }
   },
   "outputs": [
    {
     "data": {
      "text/plain": [
       "373"
      ]
     },
     "execution_count": 31,
     "metadata": {},
     "output_type": "execute_result"
    }
   ],
   "source": [
    "all_plants = [\n",
    "    ncbitax\n",
    "    for ncbitax in plant_names\n",
    "    if ncbitax.startswith('ncbitaxon') and plant_names[ncbitax] in npclassifier_family_df.index\n",
    "]\n",
    "len(all_plants)"
   ]
  },
  {
   "cell_type": "code",
   "execution_count": 32,
   "id": "bab9988d",
   "metadata": {
    "pycharm": {
     "name": "#%%\n"
    }
   },
   "outputs": [
    {
     "name": "stderr",
     "output_type": "stream",
     "text": [
      "100%|██████████| 373/373 [00:00<00:00, 1986.18it/s]\n"
     ]
    }
   ],
   "source": [
    "lineage_dict = defaultdict(dict)\n",
    "\n",
    "for plant in tqdm(all_plants):\n",
    "    plant = int(plant.split(':')[1])\n",
    "\n",
    "    if plant == '':\n",
    "        continue \n",
    "\n",
    "    tree = ncbi.get_lineage(plant)\n",
    "    tree = [\n",
    "        i\n",
    "        for i in tree\n",
    "        # if i >= 33090 # Viridaeplante\n",
    "    ]\n",
    "\n",
    "    # Get the names of the nodes\n",
    "    names = ncbi.get_taxid_translator(tree)\n",
    "    \n",
    "    # Replace ids with names\n",
    "    tree = [\n",
    "        names[taxid]\n",
    "        for taxid in tree\n",
    "    ]\n",
    "\n",
    "    for idx in range(len(names) - 1):\n",
    "        \n",
    "        parent = tree[idx]\n",
    "        child = tree[idx + 1]\n",
    "                             \n",
    "        lineage_dict[parent][child] = idx + 1"
   ]
  },
  {
   "cell_type": "code",
   "execution_count": 33,
   "id": "3c7777a0",
   "metadata": {
    "pycharm": {
     "name": "#%%\n"
    }
   },
   "outputs": [
    {
     "data": {
      "text/plain": [
       "190"
      ]
     },
     "execution_count": 33,
     "metadata": {},
     "output_type": "execute_result"
    }
   ],
   "source": [
    "len(lineage_dict)"
   ]
  },
  {
   "cell_type": "code",
   "execution_count": 34,
   "id": "770c5d99",
   "metadata": {
    "pycharm": {
     "name": "#%%\n"
    }
   },
   "outputs": [],
   "source": [
    "def newickify(node_to_children, root_node) -> str:\n",
    "    visited_nodes = set()\n",
    "\n",
    "    def newick_render_node(name, distance: float) -> str:\n",
    "        assert name not in visited_nodes, \"Error: The tree may not be circular!\"\n",
    "\n",
    "        if name not in node_to_children:\n",
    "            # Leafs\n",
    "            return F'{name}:{distance}'\n",
    "        else:\n",
    "            # Nodes\n",
    "            visited_nodes.add(name)\n",
    "            children = node_to_children[name]\n",
    "            children_strings = [newick_render_node(child, children[child]) for child in children.keys()]\n",
    "            children_strings = \",\".join(children_strings)\n",
    "            return F'({children_strings}){name}:{distance}'\n",
    "\n",
    "    newick_string = newick_render_node(root_node, 0) + ';'\n",
    "\n",
    "    # Ensure no entries in the dictionary are left unused.\n",
    "    assert visited_nodes == set(node_to_children.keys()), f\"Error: some nodes aren't in the tree {set(node_to_children.keys())}\"\n",
    "\n",
    "    return newick_string"
   ]
  },
  {
   "cell_type": "code",
   "execution_count": 35,
   "id": "a63fed39",
   "metadata": {
    "pycharm": {
     "name": "#%%\n"
    }
   },
   "outputs": [],
   "source": [
    "string = newickify(\n",
    "    node_to_children=lineage_dict,\n",
    "    root_node='root',  # root node\n",
    ")"
   ]
  },
  {
   "cell_type": "code",
   "execution_count": 36,
   "id": "bc3ece3e",
   "metadata": {
    "pycharm": {
     "name": "#%%\n"
    }
   },
   "outputs": [],
   "source": [
    "biophylo_tree = Phylo.read(StringIO(string), \"newick\")"
   ]
  },
  {
   "cell_type": "code",
   "execution_count": 37,
   "id": "cbbbcf78",
   "metadata": {
    "pycharm": {
     "name": "#%%\n"
    }
   },
   "outputs": [
    {
     "data": {
      "text/plain": [
       "373"
      ]
     },
     "execution_count": 37,
     "metadata": {},
     "output_type": "execute_result"
    }
   ],
   "source": [
    "len([i for i in biophylo_tree.get_terminals()])"
   ]
  },
  {
   "cell_type": "code",
   "execution_count": 38,
   "id": "f371767a",
   "metadata": {
    "pycharm": {
     "name": "#%%\n"
    }
   },
   "outputs": [
    {
     "data": {
      "text/plain": [
       "1"
      ]
     },
     "execution_count": 38,
     "metadata": {},
     "output_type": "execute_result"
    }
   ],
   "source": [
    "Phylo.write(biophylo_tree, f'{DATA_DIR}/taxonomy_tree_1B.nwk', \"newick\")"
   ]
  },
  {
   "cell_type": "code",
   "execution_count": null,
   "id": "8d0c3119",
   "metadata": {
    "pycharm": {
     "name": "#%%\n"
    }
   },
   "outputs": [],
   "source": []
  }
 ],
 "metadata": {
  "kernelspec": {
   "display_name": "kg-analysis",
   "language": "python",
   "name": "python3"
  },
  "language_info": {
   "codemirror_mode": {
    "name": "ipython",
    "version": 3
   },
   "file_extension": ".py",
   "mimetype": "text/x-python",
   "name": "python",
   "nbconvert_exporter": "python",
   "pygments_lexer": "ipython3",
   "version": "3.9.12"
  }
 },
 "nbformat": 4,
 "nbformat_minor": 5
}