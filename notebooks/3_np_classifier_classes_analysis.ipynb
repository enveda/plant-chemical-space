{
 "cells": [
  {
   "cell_type": "markdown",
   "id": "b1fe0216",
   "metadata": {
    "pycharm": {
     "name": "#%% md\n"
    }
   },
   "source": [
    "# Exploring the NP classifier chemical classes \n",
    "\n",
    "### Import modules"
   ]
  },
  {
   "cell_type": "code",
   "execution_count": 1,
   "id": "86a640d3",
   "metadata": {
    "pycharm": {
     "name": "#%%\n"
    }
   },
   "outputs": [],
   "source": [
    "from io import StringIO\n",
    "from collections import defaultdict\n",
    "import os\n",
    "\n",
    "import pandas as pd\n",
    "from tqdm import tqdm\n",
    "\n",
    "# get names from ncbitaxon ontology\n",
    "from utils import ncbitaxon_curies_to_names\n",
    "\n",
    "# Taxonomy tree\n",
    "from ete3 import NCBITaxa\n",
    "from Bio import Phylo"
   ]
  },
  {
   "cell_type": "code",
   "execution_count": 2,
   "id": "6058b102",
   "metadata": {
    "pycharm": {
     "name": "#%%\n"
    }
   },
   "outputs": [],
   "source": [
    "DATA_DIR = '../data'"
   ]
  },
  {
   "cell_type": "markdown",
   "id": "e2500b02",
   "metadata": {
    "pycharm": {
     "name": "#%% md\n"
    }
   },
   "source": [
    "### Load NP classifier file"
   ]
  },
  {
   "cell_type": "code",
   "execution_count": 3,
   "id": "b040407b",
   "metadata": {
    "pycharm": {
     "name": "#%%\n"
    }
   },
   "outputs": [],
   "source": [
    "npclassifier_family_df = pd.read_csv(\n",
    "    os.path.join(DATA_DIR, 'np_classifier_family_vector.tsv'),\n",
    "    sep='\\t'\n",
    ")"
   ]
  },
  {
   "cell_type": "code",
   "execution_count": 4,
   "id": "13406cce",
   "metadata": {
    "pycharm": {
     "name": "#%%\n"
    }
   },
   "outputs": [],
   "source": [
    "# Set plant name as index\n",
    "npclassifier_family_df.set_index('taxon', inplace=True)\n",
    "\n",
    "# Merging the non-medicial and medicinal data\n",
    "npclassifier_family_df = npclassifier_family_df.groupby(['taxon']).agg(sum)"
   ]
  },
  {
   "attachments": {},
   "cell_type": "markdown",
   "id": "2fa76ac3",
   "metadata": {
    "pycharm": {
     "name": "#%% md\n"
    }
   },
   "source": [
    "### Get family based counts"
   ]
  },
  {
   "cell_type": "code",
   "execution_count": 5,
   "id": "986f5817",
   "metadata": {
    "pycharm": {
     "name": "#%%\n"
    }
   },
   "outputs": [],
   "source": [
    "npclassifier_family_df = npclassifier_family_df.T"
   ]
  },
  {
   "cell_type": "code",
   "execution_count": 6,
   "id": "d8404547",
   "metadata": {
    "pycharm": {
     "name": "#%%\n"
    }
   },
   "outputs": [
    {
     "data": {
      "text/html": [
       "<div>\n",
       "<style scoped>\n",
       "    .dataframe tbody tr th:only-of-type {\n",
       "        vertical-align: middle;\n",
       "    }\n",
       "\n",
       "    .dataframe tbody tr th {\n",
       "        vertical-align: top;\n",
       "    }\n",
       "\n",
       "    .dataframe thead th {\n",
       "        text-align: right;\n",
       "    }\n",
       "</style>\n",
       "<table border=\"1\" class=\"dataframe\">\n",
       "  <thead>\n",
       "    <tr style=\"text-align: right;\">\n",
       "      <th></th>\n",
       "      <th>class</th>\n",
       "      <th>no.of.families</th>\n",
       "    </tr>\n",
       "  </thead>\n",
       "  <tbody>\n",
       "    <tr>\n",
       "      <th>344</th>\n",
       "      <td>Flavonols</td>\n",
       "      <td>305</td>\n",
       "    </tr>\n",
       "    <tr>\n",
       "      <th>170</th>\n",
       "      <td>Stigmastane steroids</td>\n",
       "      <td>290</td>\n",
       "    </tr>\n",
       "    <tr>\n",
       "      <th>233</th>\n",
       "      <td>Cinnamic acids and derivatives</td>\n",
       "      <td>275</td>\n",
       "    </tr>\n",
       "    <tr>\n",
       "      <th>445</th>\n",
       "      <td>Flavones</td>\n",
       "      <td>274</td>\n",
       "    </tr>\n",
       "  </tbody>\n",
       "</table>\n",
       "</div>"
      ],
      "text/plain": [
       "                              class  no.of.families\n",
       "344                       Flavonols             305\n",
       "170            Stigmastane steroids             290\n",
       "233  Cinnamic acids and derivatives             275\n",
       "445                        Flavones             274"
      ]
     },
     "execution_count": 6,
     "metadata": {},
     "output_type": "execute_result"
    }
   ],
   "source": [
    "family_class_score = pd.DataFrame(\n",
    "    npclassifier_family_df.astype(bool).sum(axis=1), columns=['no.of.families']\n",
    ").reset_index()\n",
    "family_class_score.rename(columns={'index': 'class'}, inplace=True)\n",
    "family_class_score.sort_values(by='no.of.families', ascending=False).head(4)"
   ]
  },
  {
   "cell_type": "code",
   "execution_count": 7,
   "id": "5cbca288",
   "metadata": {},
   "outputs": [
    {
     "data": {
      "text/html": [
       "<div>\n",
       "<style scoped>\n",
       "    .dataframe tbody tr th:only-of-type {\n",
       "        vertical-align: middle;\n",
       "    }\n",
       "\n",
       "    .dataframe tbody tr th {\n",
       "        vertical-align: top;\n",
       "    }\n",
       "\n",
       "    .dataframe thead th {\n",
       "        text-align: right;\n",
       "    }\n",
       "</style>\n",
       "<table border=\"1\" class=\"dataframe\">\n",
       "  <thead>\n",
       "    <tr style=\"text-align: right;\">\n",
       "      <th></th>\n",
       "      <th>class</th>\n",
       "      <th>no.of.families</th>\n",
       "    </tr>\n",
       "  </thead>\n",
       "  <tbody>\n",
       "    <tr>\n",
       "      <th>439</th>\n",
       "      <td>3-oligoenoyltetramic acids</td>\n",
       "      <td>0</td>\n",
       "    </tr>\n",
       "    <tr>\n",
       "      <th>12</th>\n",
       "      <td>Sterpurane sesquiterpenoids</td>\n",
       "      <td>0</td>\n",
       "    </tr>\n",
       "    <tr>\n",
       "      <th>198</th>\n",
       "      <td>Polyene macrolides</td>\n",
       "      <td>1</td>\n",
       "    </tr>\n",
       "    <tr>\n",
       "      <th>477</th>\n",
       "      <td>RiPPs-Lasso peptides</td>\n",
       "      <td>1</td>\n",
       "    </tr>\n",
       "  </tbody>\n",
       "</table>\n",
       "</div>"
      ],
      "text/plain": [
       "                           class  no.of.families\n",
       "439   3-oligoenoyltetramic acids               0\n",
       "12   Sterpurane sesquiterpenoids               0\n",
       "198           Polyene macrolides               1\n",
       "477         RiPPs-Lasso peptides               1"
      ]
     },
     "execution_count": 7,
     "metadata": {},
     "output_type": "execute_result"
    }
   ],
   "source": [
    "family_class_score.sort_values(by='no.of.families', ascending=True).head(4)"
   ]
  },
  {
   "attachments": {},
   "cell_type": "markdown",
   "id": "c13f5bc2",
   "metadata": {
    "pycharm": {
     "name": "#%% md\n"
    }
   },
   "source": [
    "## Subselecting chemical classes"
   ]
  },
  {
   "cell_type": "code",
   "execution_count": 8,
   "id": "c3e06055",
   "metadata": {
    "pycharm": {
     "name": "#%%\n"
    }
   },
   "outputs": [],
   "source": [
    "selected_classes = \"\"\"Dihydroflavonols\n",
    "Neolignans\n",
    "Eudesmane sesquiterpenoids\n",
    "Chalcones\n",
    "Monocyclic monoterpenoids\n",
    "Furofuranoid lignans\n",
    "Gallotannins\n",
    "Acyclic monoterpenoids\n",
    "Flavan-3-ols\n",
    "Ursane and Taraxastane triterpenoids\n",
    "Menthane monoterpenoids\n",
    "Flavanones\n",
    "Shikimic acids and derivatives\n",
    "Lupane triterpenoids\n",
    "Simple coumarins\n",
    "Oleanane triterpenoids\n",
    "Flavones\n",
    "Cinnamic acids and derivatives\n",
    "Stigmastane steroids\n",
    "Flavonols\"\"\""
   ]
  },
  {
   "cell_type": "code",
   "execution_count": 9,
   "id": "57c86b58",
   "metadata": {
    "pycharm": {
     "name": "#%%\n"
    }
   },
   "outputs": [],
   "source": [
    "npclassifier_family_df = npclassifier_family_df.reset_index()\n",
    "npclassifier_family_df.rename(columns={'index': 'class_name'}, inplace=True)\n",
    "\n",
    "# Set index to class name\n",
    "npclassifier_family_df.set_index('class_name', inplace=True)"
   ]
  },
  {
   "cell_type": "code",
   "execution_count": 10,
   "id": "35f429af",
   "metadata": {
    "pycharm": {
     "name": "#%%\n"
    }
   },
   "outputs": [],
   "source": [
    "def normalize_df(df):\n",
    "    \"Normalize columns of a dataframe to percentage\"\n",
    "    for col in df.columns:\n",
    "        df[col] = df[col] / df[col].sum()\n",
    "    return df"
   ]
  },
  {
   "cell_type": "code",
   "execution_count": 11,
   "id": "04e9643d",
   "metadata": {
    "pycharm": {
     "name": "#%%\n"
    }
   },
   "outputs": [],
   "source": [
    "npclassifier_family_df = normalize_df(npclassifier_family_df)"
   ]
  },
  {
   "cell_type": "code",
   "execution_count": 12,
   "id": "f7e0f934",
   "metadata": {
    "pycharm": {
     "name": "#%%\n"
    }
   },
   "outputs": [
    {
     "data": {
      "text/plain": [
       "20"
      ]
     },
     "execution_count": 12,
     "metadata": {},
     "output_type": "execute_result"
    }
   ],
   "source": [
    "# Subset families to 20 classes\n",
    "npclassifier_family_df = npclassifier_family_df[npclassifier_family_df.index.isin(selected_classes.split('\\n'))]\n",
    "len(npclassifier_family_df)"
   ]
  },
  {
   "cell_type": "code",
   "execution_count": 13,
   "id": "c04e4661",
   "metadata": {
    "pycharm": {
     "name": "#%%\n"
    }
   },
   "outputs": [],
   "source": [
    "plant_names = ncbitaxon_curies_to_names(npclassifier_family_df.columns)"
   ]
  },
  {
   "cell_type": "code",
   "execution_count": 14,
   "id": "fa8db62f",
   "metadata": {
    "pycharm": {
     "name": "#%%\n"
    }
   },
   "outputs": [],
   "source": [
    "# Replace column names with plant names\n",
    "npclassifier_family_df.rename(\n",
    "    columns=plant_names,\n",
    "   inplace=True,\n",
    ")"
   ]
  },
  {
   "cell_type": "code",
   "execution_count": 15,
   "id": "897b16e8",
   "metadata": {
    "pycharm": {
     "name": "#%%\n"
    }
   },
   "outputs": [
    {
     "data": {
      "text/html": [
       "<div>\n",
       "<style scoped>\n",
       "    .dataframe tbody tr th:only-of-type {\n",
       "        vertical-align: middle;\n",
       "    }\n",
       "\n",
       "    .dataframe tbody tr th {\n",
       "        vertical-align: top;\n",
       "    }\n",
       "\n",
       "    .dataframe thead th {\n",
       "        text-align: right;\n",
       "    }\n",
       "</style>\n",
       "<table border=\"1\" class=\"dataframe\">\n",
       "  <thead>\n",
       "    <tr style=\"text-align: right;\">\n",
       "      <th>taxon</th>\n",
       "      <th>Aptandraceae</th>\n",
       "      <th>Thesiaceae</th>\n",
       "      <th>Cervantesiaceae</th>\n",
       "      <th>Viscaceae</th>\n",
       "      <th>Siparunaceae</th>\n",
       "      <th>Achariaceae</th>\n",
       "      <th>Anastrophyllaceae</th>\n",
       "      <th>Nartheciaceae</th>\n",
       "      <th>Cystopteridaceae</th>\n",
       "      <th>Rhachidosoraceae</th>\n",
       "      <th>...</th>\n",
       "      <th>Biebersteiniaceae</th>\n",
       "      <th>Nitrariaceae</th>\n",
       "      <th>Muntingiaceae</th>\n",
       "      <th>Orobanchaceae</th>\n",
       "      <th>Sciadopityaceae</th>\n",
       "      <th>Schistochilaceae</th>\n",
       "      <th>Dumortieraceae</th>\n",
       "      <th>Lophocoleaceae</th>\n",
       "      <th>Myliaceae</th>\n",
       "      <th>Solenostomataceae</th>\n",
       "    </tr>\n",
       "    <tr>\n",
       "      <th>class_name</th>\n",
       "      <th></th>\n",
       "      <th></th>\n",
       "      <th></th>\n",
       "      <th></th>\n",
       "      <th></th>\n",
       "      <th></th>\n",
       "      <th></th>\n",
       "      <th></th>\n",
       "      <th></th>\n",
       "      <th></th>\n",
       "      <th></th>\n",
       "      <th></th>\n",
       "      <th></th>\n",
       "      <th></th>\n",
       "      <th></th>\n",
       "      <th></th>\n",
       "      <th></th>\n",
       "      <th></th>\n",
       "      <th></th>\n",
       "      <th></th>\n",
       "      <th></th>\n",
       "    </tr>\n",
       "  </thead>\n",
       "  <tbody>\n",
       "    <tr>\n",
       "      <th>Furofuranoid lignans</th>\n",
       "      <td>0.0</td>\n",
       "      <td>0.0</td>\n",
       "      <td>0.026667</td>\n",
       "      <td>0.020243</td>\n",
       "      <td>0.0</td>\n",
       "      <td>0.0</td>\n",
       "      <td>0.030769</td>\n",
       "      <td>0.017857</td>\n",
       "      <td>0.0</td>\n",
       "      <td>0.0</td>\n",
       "      <td>...</td>\n",
       "      <td>0.0</td>\n",
       "      <td>0.0</td>\n",
       "      <td>0.0</td>\n",
       "      <td>0.020305</td>\n",
       "      <td>0.0</td>\n",
       "      <td>0.0</td>\n",
       "      <td>0.0</td>\n",
       "      <td>0.027027</td>\n",
       "      <td>0.0</td>\n",
       "      <td>0.009434</td>\n",
       "    </tr>\n",
       "  </tbody>\n",
       "</table>\n",
       "<p>1 rows × 381 columns</p>\n",
       "</div>"
      ],
      "text/plain": [
       "taxon                 Aptandraceae  Thesiaceae  Cervantesiaceae  Viscaceae  \\\n",
       "class_name                                                                   \n",
       "Furofuranoid lignans           0.0         0.0         0.026667   0.020243   \n",
       "\n",
       "taxon                 Siparunaceae  Achariaceae  Anastrophyllaceae  \\\n",
       "class_name                                                           \n",
       "Furofuranoid lignans           0.0          0.0           0.030769   \n",
       "\n",
       "taxon                 Nartheciaceae  Cystopteridaceae  Rhachidosoraceae  ...  \\\n",
       "class_name                                                               ...   \n",
       "Furofuranoid lignans       0.017857               0.0               0.0  ...   \n",
       "\n",
       "taxon                 Biebersteiniaceae  Nitrariaceae  Muntingiaceae  \\\n",
       "class_name                                                             \n",
       "Furofuranoid lignans                0.0           0.0            0.0   \n",
       "\n",
       "taxon                 Orobanchaceae  Sciadopityaceae  Schistochilaceae  \\\n",
       "class_name                                                               \n",
       "Furofuranoid lignans       0.020305              0.0               0.0   \n",
       "\n",
       "taxon                 Dumortieraceae  Lophocoleaceae  Myliaceae  \\\n",
       "class_name                                                        \n",
       "Furofuranoid lignans             0.0        0.027027        0.0   \n",
       "\n",
       "taxon                 Solenostomataceae  \n",
       "class_name                               \n",
       "Furofuranoid lignans           0.009434  \n",
       "\n",
       "[1 rows x 381 columns]"
      ]
     },
     "execution_count": 15,
     "metadata": {},
     "output_type": "execute_result"
    }
   ],
   "source": [
    "npclassifier_family_df.head(1)"
   ]
  },
  {
   "cell_type": "code",
   "execution_count": 16,
   "id": "e7313350",
   "metadata": {
    "pycharm": {
     "name": "#%%\n"
    }
   },
   "outputs": [],
   "source": [
    "# transpose matrix\n",
    "npclassifier_family_df = npclassifier_family_df.T"
   ]
  },
  {
   "cell_type": "code",
   "execution_count": 17,
   "id": "fb7d8abc",
   "metadata": {
    "pycharm": {
     "name": "#%%\n"
    }
   },
   "outputs": [],
   "source": [
    "# Remove rows with only zeros in all columns\n",
    "npclassifier_family_df = npclassifier_family_df.loc[(npclassifier_family_df!=0).any(axis=1)]\n",
    "npclassifier_family_df.to_csv(f'{DATA_DIR}/chemical_classes_family.tsv', sep='\\t')"
   ]
  },
  {
   "cell_type": "code",
   "execution_count": 18,
   "id": "375a2903",
   "metadata": {
    "pycharm": {
     "name": "#%%\n"
    }
   },
   "outputs": [
    {
     "data": {
      "text/html": [
       "<div>\n",
       "<style scoped>\n",
       "    .dataframe tbody tr th:only-of-type {\n",
       "        vertical-align: middle;\n",
       "    }\n",
       "\n",
       "    .dataframe tbody tr th {\n",
       "        vertical-align: top;\n",
       "    }\n",
       "\n",
       "    .dataframe thead th {\n",
       "        text-align: right;\n",
       "    }\n",
       "</style>\n",
       "<table border=\"1\" class=\"dataframe\">\n",
       "  <thead>\n",
       "    <tr style=\"text-align: right;\">\n",
       "      <th>class_name</th>\n",
       "      <th>Furofuranoid lignans</th>\n",
       "      <th>Dihydroflavonols</th>\n",
       "      <th>Shikimic acids and derivatives</th>\n",
       "      <th>Eudesmane sesquiterpenoids</th>\n",
       "      <th>Stigmastane steroids</th>\n",
       "      <th>Lupane triterpenoids</th>\n",
       "      <th>Chalcones</th>\n",
       "      <th>Cinnamic acids and derivatives</th>\n",
       "      <th>Menthane monoterpenoids</th>\n",
       "      <th>Flavan-3-ols</th>\n",
       "      <th>Oleanane triterpenoids</th>\n",
       "      <th>Flavonols</th>\n",
       "      <th>Ursane and Taraxastane triterpenoids</th>\n",
       "      <th>Gallotannins</th>\n",
       "      <th>Acyclic monoterpenoids</th>\n",
       "      <th>Simple coumarins</th>\n",
       "      <th>Flavanones</th>\n",
       "      <th>Monocyclic monoterpenoids</th>\n",
       "      <th>Flavones</th>\n",
       "      <th>Neolignans</th>\n",
       "    </tr>\n",
       "    <tr>\n",
       "      <th>taxon</th>\n",
       "      <th></th>\n",
       "      <th></th>\n",
       "      <th></th>\n",
       "      <th></th>\n",
       "      <th></th>\n",
       "      <th></th>\n",
       "      <th></th>\n",
       "      <th></th>\n",
       "      <th></th>\n",
       "      <th></th>\n",
       "      <th></th>\n",
       "      <th></th>\n",
       "      <th></th>\n",
       "      <th></th>\n",
       "      <th></th>\n",
       "      <th></th>\n",
       "      <th></th>\n",
       "      <th></th>\n",
       "      <th></th>\n",
       "      <th></th>\n",
       "    </tr>\n",
       "  </thead>\n",
       "  <tbody>\n",
       "    <tr>\n",
       "      <th>Aptandraceae</th>\n",
       "      <td>0.0</td>\n",
       "      <td>0.0</td>\n",
       "      <td>0.045455</td>\n",
       "      <td>0.045455</td>\n",
       "      <td>0.136364</td>\n",
       "      <td>0.045455</td>\n",
       "      <td>0.000000</td>\n",
       "      <td>0.045455</td>\n",
       "      <td>0.0</td>\n",
       "      <td>0.0</td>\n",
       "      <td>0.090909</td>\n",
       "      <td>0.045455</td>\n",
       "      <td>0.090909</td>\n",
       "      <td>0.000000</td>\n",
       "      <td>0.0</td>\n",
       "      <td>0.000000</td>\n",
       "      <td>0.0</td>\n",
       "      <td>0.0</td>\n",
       "      <td>0.045455</td>\n",
       "      <td>0.045455</td>\n",
       "    </tr>\n",
       "    <tr>\n",
       "      <th>Thesiaceae</th>\n",
       "      <td>0.0</td>\n",
       "      <td>0.0</td>\n",
       "      <td>0.000000</td>\n",
       "      <td>0.000000</td>\n",
       "      <td>0.033333</td>\n",
       "      <td>0.233333</td>\n",
       "      <td>0.033333</td>\n",
       "      <td>0.000000</td>\n",
       "      <td>0.0</td>\n",
       "      <td>0.0</td>\n",
       "      <td>0.233333</td>\n",
       "      <td>0.033333</td>\n",
       "      <td>0.033333</td>\n",
       "      <td>0.033333</td>\n",
       "      <td>0.0</td>\n",
       "      <td>0.033333</td>\n",
       "      <td>0.0</td>\n",
       "      <td>0.0</td>\n",
       "      <td>0.000000</td>\n",
       "      <td>0.000000</td>\n",
       "    </tr>\n",
       "  </tbody>\n",
       "</table>\n",
       "</div>"
      ],
      "text/plain": [
       "class_name    Furofuranoid lignans  Dihydroflavonols  \\\n",
       "taxon                                                  \n",
       "Aptandraceae                   0.0               0.0   \n",
       "Thesiaceae                     0.0               0.0   \n",
       "\n",
       "class_name    Shikimic acids and derivatives  Eudesmane sesquiterpenoids  \\\n",
       "taxon                                                                      \n",
       "Aptandraceae                        0.045455                    0.045455   \n",
       "Thesiaceae                          0.000000                    0.000000   \n",
       "\n",
       "class_name    Stigmastane steroids  Lupane triterpenoids  Chalcones  \\\n",
       "taxon                                                                 \n",
       "Aptandraceae              0.136364              0.045455   0.000000   \n",
       "Thesiaceae                0.033333              0.233333   0.033333   \n",
       "\n",
       "class_name    Cinnamic acids and derivatives  Menthane monoterpenoids  \\\n",
       "taxon                                                                   \n",
       "Aptandraceae                        0.045455                      0.0   \n",
       "Thesiaceae                          0.000000                      0.0   \n",
       "\n",
       "class_name    Flavan-3-ols  Oleanane triterpenoids  Flavonols  \\\n",
       "taxon                                                           \n",
       "Aptandraceae           0.0                0.090909   0.045455   \n",
       "Thesiaceae             0.0                0.233333   0.033333   \n",
       "\n",
       "class_name    Ursane and Taraxastane triterpenoids  Gallotannins  \\\n",
       "taxon                                                              \n",
       "Aptandraceae                              0.090909      0.000000   \n",
       "Thesiaceae                                0.033333      0.033333   \n",
       "\n",
       "class_name    Acyclic monoterpenoids  Simple coumarins  Flavanones  \\\n",
       "taxon                                                                \n",
       "Aptandraceae                     0.0          0.000000         0.0   \n",
       "Thesiaceae                       0.0          0.033333         0.0   \n",
       "\n",
       "class_name    Monocyclic monoterpenoids  Flavones  Neolignans  \n",
       "taxon                                                          \n",
       "Aptandraceae                        0.0  0.045455    0.045455  \n",
       "Thesiaceae                          0.0  0.000000    0.000000  "
      ]
     },
     "execution_count": 18,
     "metadata": {},
     "output_type": "execute_result"
    }
   ],
   "source": [
    "npclassifier_family_df.head(2)"
   ]
  },
  {
   "attachments": {},
   "cell_type": "markdown",
   "id": "c6ccba75",
   "metadata": {
    "pycharm": {
     "name": "#%% md\n"
    }
   },
   "source": [
    "### Generate taxonomy tree"
   ]
  },
  {
   "cell_type": "code",
   "execution_count": 19,
   "id": "00a12066",
   "metadata": {
    "pycharm": {
     "name": "#%%\n"
    }
   },
   "outputs": [],
   "source": [
    "ncbi = NCBITaxa()"
   ]
  },
  {
   "cell_type": "code",
   "execution_count": 20,
   "id": "296cdc2b",
   "metadata": {
    "pycharm": {
     "name": "#%%\n"
    }
   },
   "outputs": [
    {
     "data": {
      "text/plain": [
       "373"
      ]
     },
     "execution_count": 20,
     "metadata": {},
     "output_type": "execute_result"
    }
   ],
   "source": [
    "all_plants = [\n",
    "    ncbitax\n",
    "    for ncbitax in plant_names\n",
    "    if ncbitax.startswith('ncbitaxon') and plant_names[ncbitax] in npclassifier_family_df.index\n",
    "]\n",
    "len(all_plants)"
   ]
  },
  {
   "cell_type": "code",
   "execution_count": 21,
   "id": "bab9988d",
   "metadata": {
    "pycharm": {
     "name": "#%%\n"
    }
   },
   "outputs": [
    {
     "name": "stderr",
     "output_type": "stream",
     "text": [
      "100%|██████████| 373/373 [00:00<00:00, 2323.12it/s]\n"
     ]
    }
   ],
   "source": [
    "lineage_dict = defaultdict(dict)\n",
    "\n",
    "for plant in tqdm(all_plants):\n",
    "    plant = int(plant.split(':')[1])\n",
    "\n",
    "    if plant == '':\n",
    "        continue \n",
    "\n",
    "    tree = ncbi.get_lineage(plant)\n",
    "    tree = [\n",
    "        i\n",
    "        for i in tree\n",
    "        # if i >= 33090 # Viridaeplante\n",
    "    ]\n",
    "\n",
    "    # Get the names of the nodes\n",
    "    names = ncbi.get_taxid_translator(tree)\n",
    "    \n",
    "    # Replace ids with names\n",
    "    tree = [\n",
    "        names[taxid]\n",
    "        for taxid in tree\n",
    "    ]\n",
    "\n",
    "    for idx in range(len(names) - 1):\n",
    "        \n",
    "        parent = tree[idx]\n",
    "        child = tree[idx + 1]\n",
    "                             \n",
    "        lineage_dict[parent][child] = idx + 1"
   ]
  },
  {
   "cell_type": "code",
   "execution_count": 22,
   "id": "770c5d99",
   "metadata": {
    "pycharm": {
     "name": "#%%\n"
    }
   },
   "outputs": [],
   "source": [
    "def newickify(node_to_children, root_node) -> str:\n",
    "    visited_nodes = set()\n",
    "\n",
    "    def newick_render_node(name, distance: float) -> str:\n",
    "        assert name not in visited_nodes, \"Error: The tree may not be circular!\"\n",
    "\n",
    "        if name not in node_to_children:\n",
    "            # Leafs\n",
    "            return F'{name}:{distance}'\n",
    "        else:\n",
    "            # Nodes\n",
    "            visited_nodes.add(name)\n",
    "            children = node_to_children[name]\n",
    "            children_strings = [newick_render_node(child, children[child]) for child in children.keys()]\n",
    "            children_strings = \",\".join(children_strings)\n",
    "            return F'({children_strings}){name}:{distance}'\n",
    "\n",
    "    newick_string = newick_render_node(root_node, 0) + ';'\n",
    "\n",
    "    # Ensure no entries in the dictionary are left unused.\n",
    "    assert visited_nodes == set(node_to_children.keys()), f\"Error: some nodes aren't in the tree {set(node_to_children.keys())}\"\n",
    "\n",
    "    return newick_string"
   ]
  },
  {
   "cell_type": "code",
   "execution_count": 23,
   "id": "a63fed39",
   "metadata": {
    "pycharm": {
     "name": "#%%\n"
    }
   },
   "outputs": [],
   "source": [
    "string = newickify(\n",
    "    node_to_children=lineage_dict,\n",
    "    root_node='root',  # root node\n",
    ")"
   ]
  },
  {
   "cell_type": "code",
   "execution_count": 24,
   "id": "bc3ece3e",
   "metadata": {
    "pycharm": {
     "name": "#%%\n"
    }
   },
   "outputs": [],
   "source": [
    "biophylo_tree = Phylo.read(StringIO(string), \"newick\")"
   ]
  },
  {
   "cell_type": "code",
   "execution_count": 25,
   "id": "cbbbcf78",
   "metadata": {
    "pycharm": {
     "name": "#%%\n"
    }
   },
   "outputs": [
    {
     "data": {
      "text/plain": [
       "373"
      ]
     },
     "execution_count": 25,
     "metadata": {},
     "output_type": "execute_result"
    }
   ],
   "source": [
    "len([i for i in biophylo_tree.get_terminals()])"
   ]
  },
  {
   "cell_type": "code",
   "execution_count": 26,
   "id": "f371767a",
   "metadata": {
    "pycharm": {
     "name": "#%%\n"
    }
   },
   "outputs": [
    {
     "data": {
      "text/plain": [
       "1"
      ]
     },
     "execution_count": 26,
     "metadata": {},
     "output_type": "execute_result"
    }
   ],
   "source": [
    "Phylo.write(biophylo_tree, f'{DATA_DIR}/taxonomy_tree_1B.nwk', \"newick\")"
   ]
  }
 ],
 "metadata": {
  "kernelspec": {
   "display_name": "plant_chem_space",
   "language": "python",
   "name": "plant_chem_space"
  },
  "language_info": {
   "codemirror_mode": {
    "name": "ipython",
    "version": 3
   },
   "file_extension": ".py",
   "mimetype": "text/x-python",
   "name": "python",
   "nbconvert_exporter": "python",
   "pygments_lexer": "ipython3",
   "version": "3.9.16"
  }
 },
 "nbformat": 4,
 "nbformat_minor": 5
}
