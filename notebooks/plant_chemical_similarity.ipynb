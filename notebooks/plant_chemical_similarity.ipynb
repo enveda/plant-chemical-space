{
 "cells": [
  {
   "cell_type": "markdown",
   "metadata": {
    "pycharm": {
     "name": "#%% md\n"
    }
   },
   "source": [
    "# Exploring the differences between medicinal and non medicinal plants using chemical classes\n",
    "\n",
    "### Import modules"
   ]
  },
  {
   "cell_type": "code",
   "execution_count": 23,
   "metadata": {
    "pycharm": {
     "name": "#%%\n"
    }
   },
   "outputs": [],
   "source": [
    "from collections import defaultdict\n",
    "\n",
    "import pandas as pd\n",
    "from tqdm import tqdm\n",
    "\n",
    "# Import taxonomy\n",
    "from utils import get_genus_and_family_info_for_plants"
   ]
  },
  {
   "cell_type": "markdown",
   "metadata": {
    "pycharm": {
     "name": "#%% md\n"
    }
   },
   "source": [
    "Load plant-chemical and plant-disease associations"
   ]
  },
  {
   "cell_type": "code",
   "execution_count": 13,
   "metadata": {
    "pycharm": {
     "name": "#%%\n"
    }
   },
   "outputs": [],
   "source": [
    "plant_disease_df = pd.read_csv(\n",
    "    's3://enveda-datascience/daniel_domingo/plant_disease_associations.tsv.gz',\n",
    "    compression='gzip',\n",
    "    sep='\\t',\n",
    ")"
   ]
  },
  {
   "cell_type": "code",
   "execution_count": 14,
   "metadata": {},
   "outputs": [
    {
     "data": {
      "text/html": [
       "<div>\n",
       "<style scoped>\n",
       "    .dataframe tbody tr th:only-of-type {\n",
       "        vertical-align: middle;\n",
       "    }\n",
       "\n",
       "    .dataframe tbody tr th {\n",
       "        vertical-align: top;\n",
       "    }\n",
       "\n",
       "    .dataframe thead th {\n",
       "        text-align: right;\n",
       "    }\n",
       "</style>\n",
       "<table border=\"1\" class=\"dataframe\">\n",
       "  <thead>\n",
       "    <tr style=\"text-align: right;\">\n",
       "      <th></th>\n",
       "      <th>plant_curie</th>\n",
       "      <th>plant_name</th>\n",
       "      <th>disease_curie</th>\n",
       "      <th>database</th>\n",
       "      <th>evidence</th>\n",
       "    </tr>\n",
       "  </thead>\n",
       "  <tbody>\n",
       "    <tr>\n",
       "      <th>0</th>\n",
       "      <td>ncbitaxon:3369</td>\n",
       "      <td>Cryptomeria japonica</td>\n",
       "      <td>mondo:0005324</td>\n",
       "      <td>bern2</td>\n",
       "      <td>10067319_8</td>\n",
       "    </tr>\n",
       "  </tbody>\n",
       "</table>\n",
       "</div>"
      ],
      "text/plain": [
       "      plant_curie            plant_name  disease_curie database    evidence\n",
       "0  ncbitaxon:3369  Cryptomeria japonica  mondo:0005324    bern2  10067319_8"
      ]
     },
     "execution_count": 14,
     "metadata": {},
     "output_type": "execute_result"
    }
   ],
   "source": [
    "plant_disease_df.head(1)"
   ]
  },
  {
   "cell_type": "markdown",
   "metadata": {},
   "source": [
    "Medicinal plants"
   ]
  },
  {
   "cell_type": "code",
   "execution_count": 15,
   "metadata": {},
   "outputs": [],
   "source": [
    "medicinal_plants = plant_disease_df.plant_curie.unique()"
   ]
  },
  {
   "cell_type": "markdown",
   "metadata": {},
   "source": [
    "Load chemicals"
   ]
  },
  {
   "cell_type": "code",
   "execution_count": 10,
   "metadata": {},
   "outputs": [],
   "source": [
    "plant_chemical_df = pd.read_csv(\n",
    "    's3://enveda-datascience/daniel_domingo/plant_chemical_associations.tsv.zip',\n",
    "    compression='zip',\n",
    "    sep='\\t',\n",
    "    usecols=[\n",
    "        'plant_curie',\n",
    "        'chemical_curie',\n",
    "    ]\n",
    ")"
   ]
  },
  {
   "cell_type": "code",
   "execution_count": 11,
   "metadata": {
    "pycharm": {
     "name": "#%%\n"
    }
   },
   "outputs": [
    {
     "data": {
      "text/html": [
       "<div>\n",
       "<style scoped>\n",
       "    .dataframe tbody tr th:only-of-type {\n",
       "        vertical-align: middle;\n",
       "    }\n",
       "\n",
       "    .dataframe tbody tr th {\n",
       "        vertical-align: top;\n",
       "    }\n",
       "\n",
       "    .dataframe thead th {\n",
       "        text-align: right;\n",
       "    }\n",
       "</style>\n",
       "<table border=\"1\" class=\"dataframe\">\n",
       "  <thead>\n",
       "    <tr style=\"text-align: right;\">\n",
       "      <th></th>\n",
       "      <th>plant_curie</th>\n",
       "      <th>chemical_curie</th>\n",
       "    </tr>\n",
       "  </thead>\n",
       "  <tbody>\n",
       "    <tr>\n",
       "      <th>0</th>\n",
       "      <td>ncbitaxon:1000425</td>\n",
       "      <td>pubchem.compound:3527</td>\n",
       "    </tr>\n",
       "  </tbody>\n",
       "</table>\n",
       "</div>"
      ],
      "text/plain": [
       "         plant_curie         chemical_curie\n",
       "0  ncbitaxon:1000425  pubchem.compound:3527"
      ]
     },
     "execution_count": 11,
     "metadata": {},
     "output_type": "execute_result"
    }
   ],
   "source": [
    "plant_chemical_df.head(1)"
   ]
  },
  {
   "cell_type": "code",
   "execution_count": 6,
   "metadata": {
    "pycharm": {
     "name": "#%%\n"
    }
   },
   "outputs": [
    {
     "data": {
      "text/plain": [
       "71179"
      ]
     },
     "execution_count": 6,
     "metadata": {},
     "output_type": "execute_result"
    }
   ],
   "source": [
    "len(plant_chemical_df.chemical_curie.unique())"
   ]
  },
  {
   "cell_type": "markdown",
   "metadata": {},
   "source": [
    "Load ClassyFire classes"
   ]
  },
  {
   "cell_type": "code",
   "execution_count": 16,
   "metadata": {
    "pycharm": {
     "name": "#%%\n"
    }
   },
   "outputs": [
    {
     "name": "stderr",
     "output_type": "stream",
     "text": [
      "<ipython-input-16-96afa8d99d97>:1: DtypeWarning: Columns (34) have mixed types. Specify dtype option on import or set low_memory=False.\n",
      "  classyfire_df = pd.read_csv(\n"
     ]
    }
   ],
   "source": [
    "classyfire_df = pd.read_csv(\n",
    "    's3://enveda-datascience/daniel_domingo/classyfire_smiles.tsv.gz',\n",
    "    sep='\\t',\n",
    "    compression='gzip',\n",
    ")"
   ]
  },
  {
   "cell_type": "code",
   "execution_count": 17,
   "metadata": {},
   "outputs": [
    {
     "data": {
      "text/html": [
       "<div>\n",
       "<style scoped>\n",
       "    .dataframe tbody tr th:only-of-type {\n",
       "        vertical-align: middle;\n",
       "    }\n",
       "\n",
       "    .dataframe tbody tr th {\n",
       "        vertical-align: top;\n",
       "    }\n",
       "\n",
       "    .dataframe thead th {\n",
       "        text-align: right;\n",
       "    }\n",
       "</style>\n",
       "<table border=\"1\" class=\"dataframe\">\n",
       "  <thead>\n",
       "    <tr style=\"text-align: right;\">\n",
       "      <th></th>\n",
       "      <th>Unnamed: 0</th>\n",
       "      <th>smiles</th>\n",
       "      <th>inchikey</th>\n",
       "      <th>intermediate_nodes</th>\n",
       "      <th>alternative_parents</th>\n",
       "      <th>molecular_framework</th>\n",
       "      <th>substituents</th>\n",
       "      <th>description</th>\n",
       "      <th>external_descriptors</th>\n",
       "      <th>ancestors</th>\n",
       "      <th>...</th>\n",
       "      <th>subclass.name</th>\n",
       "      <th>subclass.description</th>\n",
       "      <th>subclass.chemont_id</th>\n",
       "      <th>subclass.url</th>\n",
       "      <th>direct_parent.name</th>\n",
       "      <th>direct_parent.description</th>\n",
       "      <th>direct_parent.chemont_id</th>\n",
       "      <th>direct_parent.url</th>\n",
       "      <th>identifier</th>\n",
       "      <th>report</th>\n",
       "    </tr>\n",
       "  </thead>\n",
       "  <tbody>\n",
       "    <tr>\n",
       "      <th>0</th>\n",
       "      <td>0</td>\n",
       "      <td>[H]C1(C)CCC2(CCC3(C)C(=CCC4([H])C5(C)CCC([H])(...</td>\n",
       "      <td>InChIKey=RRIMLWHUVCZACL-UHFFFAOYSA-N</td>\n",
       "      <td>[{'name': 'Triterpene glycosides', 'descriptio...</td>\n",
       "      <td>[{'name': 'Triterpenoids', 'description': 'Ter...</td>\n",
       "      <td>Aliphatic heteropolycyclic compounds</td>\n",
       "      <td>['Triterpene saponin', 'Triterpenoid', 'Hexose...</td>\n",
       "      <td>This compound belongs to the class of organic ...</td>\n",
       "      <td>[]</td>\n",
       "      <td>['Acetals', 'Alcohols and polyols', 'Carbohydr...</td>\n",
       "      <td>...</td>\n",
       "      <td>Terpene glycosides</td>\n",
       "      <td>Prenol lipids containing a carbohydrate moiety...</td>\n",
       "      <td>CHEMONTID:0002049</td>\n",
       "      <td>http://classyfire.wishartlab.com/tax_nodes/C00...</td>\n",
       "      <td>Triterpene saponins</td>\n",
       "      <td>Glycosylated derivatives of triterpene sapogen...</td>\n",
       "      <td>CHEMONTID:0002358</td>\n",
       "      <td>http://classyfire.wishartlab.com/tax_nodes/C00...</td>\n",
       "      <td>NaN</td>\n",
       "      <td>NaN</td>\n",
       "    </tr>\n",
       "  </tbody>\n",
       "</table>\n",
       "<p>1 rows × 35 columns</p>\n",
       "</div>"
      ],
      "text/plain": [
       "   Unnamed: 0                                             smiles  \\\n",
       "0           0  [H]C1(C)CCC2(CCC3(C)C(=CCC4([H])C5(C)CCC([H])(...   \n",
       "\n",
       "                               inchikey  \\\n",
       "0  InChIKey=RRIMLWHUVCZACL-UHFFFAOYSA-N   \n",
       "\n",
       "                                  intermediate_nodes  \\\n",
       "0  [{'name': 'Triterpene glycosides', 'descriptio...   \n",
       "\n",
       "                                 alternative_parents  \\\n",
       "0  [{'name': 'Triterpenoids', 'description': 'Ter...   \n",
       "\n",
       "                    molecular_framework  \\\n",
       "0  Aliphatic heteropolycyclic compounds   \n",
       "\n",
       "                                        substituents  \\\n",
       "0  ['Triterpene saponin', 'Triterpenoid', 'Hexose...   \n",
       "\n",
       "                                         description external_descriptors  \\\n",
       "0  This compound belongs to the class of organic ...                   []   \n",
       "\n",
       "                                           ancestors  ...       subclass.name  \\\n",
       "0  ['Acetals', 'Alcohols and polyols', 'Carbohydr...  ...  Terpene glycosides   \n",
       "\n",
       "                                subclass.description  subclass.chemont_id  \\\n",
       "0  Prenol lipids containing a carbohydrate moiety...    CHEMONTID:0002049   \n",
       "\n",
       "                                        subclass.url   direct_parent.name  \\\n",
       "0  http://classyfire.wishartlab.com/tax_nodes/C00...  Triterpene saponins   \n",
       "\n",
       "                           direct_parent.description direct_parent.chemont_id  \\\n",
       "0  Glycosylated derivatives of triterpene sapogen...        CHEMONTID:0002358   \n",
       "\n",
       "                                   direct_parent.url identifier report  \n",
       "0  http://classyfire.wishartlab.com/tax_nodes/C00...        NaN    NaN  \n",
       "\n",
       "[1 rows x 35 columns]"
      ]
     },
     "execution_count": 17,
     "metadata": {},
     "output_type": "execute_result"
    }
   ],
   "source": [
    "classyfire_df.head(1)"
   ]
  },
  {
   "cell_type": "markdown",
   "metadata": {},
   "source": [
    "Load NPClassifier classes"
   ]
  },
  {
   "cell_type": "code",
   "execution_count": 19,
   "metadata": {
    "pycharm": {
     "name": "#%%\n"
    }
   },
   "outputs": [],
   "source": [
    "np_classifier_df = pd.read_csv(\n",
    "    's3://enveda-datascience/daniel_domingo/npclassifier_smiles.tsv.gz',\n",
    "    sep='\\t',\n",
    "    compression='gzip',\n",
    ")"
   ]
  },
  {
   "cell_type": "code",
   "execution_count": 20,
   "metadata": {
    "pycharm": {
     "name": "#%%\n"
    }
   },
   "outputs": [
    {
     "data": {
      "text/html": [
       "<div>\n",
       "<style scoped>\n",
       "    .dataframe tbody tr th:only-of-type {\n",
       "        vertical-align: middle;\n",
       "    }\n",
       "\n",
       "    .dataframe tbody tr th {\n",
       "        vertical-align: top;\n",
       "    }\n",
       "\n",
       "    .dataframe thead th {\n",
       "        text-align: right;\n",
       "    }\n",
       "</style>\n",
       "<table border=\"1\" class=\"dataframe\">\n",
       "  <thead>\n",
       "    <tr style=\"text-align: right;\">\n",
       "      <th></th>\n",
       "      <th>Unnamed: 0.1</th>\n",
       "      <th>Unnamed: 0</th>\n",
       "      <th>pubchem_openeye_can_smiles</th>\n",
       "      <th>class_results</th>\n",
       "      <th>superclass_results</th>\n",
       "      <th>pathway_results</th>\n",
       "      <th>is_glycoside</th>\n",
       "    </tr>\n",
       "  </thead>\n",
       "  <tbody>\n",
       "    <tr>\n",
       "      <th>0</th>\n",
       "      <td>2</td>\n",
       "      <td>2</td>\n",
       "      <td>C1=CC(C(C(=C1)C(=O)O)O)O</td>\n",
       "      <td>['Shikimic acids and derivatives', 'Simple phe...</td>\n",
       "      <td>['Phenolic acids (C6-C1)']</td>\n",
       "      <td>['Shikimates and Phenylpropanoids']</td>\n",
       "      <td>False</td>\n",
       "    </tr>\n",
       "  </tbody>\n",
       "</table>\n",
       "</div>"
      ],
      "text/plain": [
       "   Unnamed: 0.1  Unnamed: 0 pubchem_openeye_can_smiles  \\\n",
       "0             2           2   C1=CC(C(C(=C1)C(=O)O)O)O   \n",
       "\n",
       "                                       class_results  \\\n",
       "0  ['Shikimic acids and derivatives', 'Simple phe...   \n",
       "\n",
       "           superclass_results                      pathway_results  \\\n",
       "0  ['Phenolic acids (C6-C1)']  ['Shikimates and Phenylpropanoids']   \n",
       "\n",
       "   is_glycoside  \n",
       "0         False  "
      ]
     },
     "execution_count": 20,
     "metadata": {},
     "output_type": "execute_result"
    }
   ],
   "source": [
    "np_classifier_df.head(1)"
   ]
  },
  {
   "cell_type": "code",
   "execution_count": 21,
   "metadata": {},
   "outputs": [],
   "source": [
    "smiles_df = pd.read_csv(\n",
    "    's3://enveda-datascience/daniel_domingo/smiles.tsv.gz',\n",
    "    sep='\\t',\n",
    "    compression='gzip',\n",
    ")"
   ]
  },
  {
   "cell_type": "code",
   "execution_count": 22,
   "metadata": {},
   "outputs": [
    {
     "name": "stderr",
     "output_type": "stream",
     "text": [
      "100%|██████████| 323369/323369 [00:00<00:00, 469135.53it/s]\n"
     ]
    }
   ],
   "source": [
    "pubchem_to_smiles = {}\n",
    "all_smiles = set()\n",
    "\n",
    "chemicals_in_plants = set(plant_chemical_df.chemical_curie.unique())\n",
    "\n",
    "for pubchem_id, smiles in tqdm(smiles_df.values):\n",
    "        \n",
    "    if pubchem_id.startswith('pubchem:'):\n",
    "        pubchem_id = pubchem_id.replace('pubchem:', 'pubchem.compound:')\n",
    "        \n",
    "    if pubchem_id not in chemicals_in_plants:\n",
    "        continue\n",
    "    \n",
    "    all_smiles.add(smiles)\n",
    "    pubchem_to_smiles[pubchem_id] = smiles\n",
    "\n",
    "smiles_to_pubchem = {\n",
    "    smiles: pubchem\n",
    "    for pubchem, smiles in pubchem_to_smiles.items()\n",
    "}"
   ]
  },
  {
   "cell_type": "markdown",
   "metadata": {},
   "source": [
    "#### Make Compound -> Class mapping"
   ]
  },
  {
   "cell_type": "code",
   "execution_count": null,
   "metadata": {},
   "outputs": [],
   "source": [
    "# Iterate through each df, map the pubchem using the smiles-> pubchem and make a pubchem->classes dict"
   ]
  },
  {
   "cell_type": "markdown",
   "metadata": {},
   "source": [
    "#### Create plant vectors\n",
    "e.g., plant A: [class1, class2, class3, ...]"
   ]
  },
  {
   "cell_type": "code",
   "execution_count": null,
   "metadata": {},
   "outputs": [],
   "source": [
    "def create_np_classifier_vectors():\n",
    "    \n",
    "    ...\n",
    "    \n",
    "    \n",
    "def create_classyfire_vectors():\n",
    "    \n",
    "    ..."
   ]
  },
  {
   "cell_type": "code",
   "execution_count": null,
   "metadata": {},
   "outputs": [],
   "source": [
    "plant_to_classyfire_vectors = create_classyfire_vectors()"
   ]
  },
  {
   "cell_type": "code",
   "execution_count": null,
   "metadata": {},
   "outputs": [],
   "source": [
    "plant_to_npclassifier_vectors = create_np_classifier_vectors()"
   ]
  },
  {
   "cell_type": "markdown",
   "metadata": {},
   "source": [
    "#### Load Plant -> Family mappings"
   ]
  },
  {
   "cell_type": "code",
   "execution_count": null,
   "metadata": {},
   "outputs": [],
   "source": [
    "_, family_to_species = get_genus_and_family_info_for_plants(\n",
    "    set(plant_chemical_df.plant_curie.unique())\n",
    ")"
   ]
  },
  {
   "cell_type": "markdown",
   "metadata": {},
   "source": [
    "1. Iterate through families and separate the family into two groups (medicinal and non-medicinal plants)\n",
    "2. For each group, aggregate the vector of all its plant"
   ]
  },
  {
   "cell_type": "code",
   "execution_count": null,
   "metadata": {},
   "outputs": [],
   "source": []
  },
  {
   "cell_type": "code",
   "execution_count": null,
   "metadata": {},
   "outputs": [],
   "source": []
  },
  {
   "cell_type": "markdown",
   "metadata": {},
   "source": [
    "Plot PCA of the vectors for each family (2 categories per family)\n",
    "Color by group (one color for medicinal plants and another one for non-medicinal ones)"
   ]
  },
  {
   "cell_type": "code",
   "execution_count": null,
   "metadata": {},
   "outputs": [],
   "source": []
  }
 ],
 "metadata": {
  "kernelspec": {
   "display_name": "Python 3",
   "language": "python",
   "name": "python3"
  },
  "language_info": {
   "codemirror_mode": {
    "name": "ipython",
    "version": 3
   },
   "file_extension": ".py",
   "mimetype": "text/x-python",
   "name": "python",
   "nbconvert_exporter": "python",
   "pygments_lexer": "ipython3",
   "version": "3.8.3"
  }
 },
 "nbformat": 4,
 "nbformat_minor": 5
}
